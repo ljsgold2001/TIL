{
 "cells": [
  {
   "cell_type": "markdown",
   "metadata": {},
   "source": [
    "# 삭제하려는 노드가 child를 두개 가지고 잇는 경우"
   ]
  },
  {
   "cell_type": "code",
   "execution_count": null,
   "metadata": {},
   "outputs": [],
   "source": [
    "if self.current_node.left!=None and self.current_node.right!=None:\n",
    "    if value < self.parent.value:\n",
    "        self.change_node =self.current_node.right\n",
    "        self.change_node_parent = self.current_node.right\n",
    "        while self.change_node.left !=None:\n",
    "            self.change_node_parent = self.change_node\n",
    "            self.change_node = self.change_node.left\n",
    "        \n",
    "        if self.change_node.right != None:\n",
    "            self.change_node_parent.left = self.change_node.right\n",
    "            \n",
    "        else:\n",
    "            self.change_node_parent.left =None\n",
    "        self.parent.left  = self.change_node\n",
    "        self.change_node.right = self.current_node.right\n",
    "        self.change_node.left = self.change_node.left \n",
    "        \n",
    "        "
   ]
  },
  {
   "cell_type": "code",
   "execution_count": null,
   "metadata": {},
   "outputs": [],
   "source": []
  }
 ],
 "metadata": {
  "kernelspec": {
   "display_name": "Python 3",
   "language": "python",
   "name": "python3"
  },
  "language_info": {
   "codemirror_mode": {
    "name": "ipython",
    "version": 3
   },
   "file_extension": ".py",
   "mimetype": "text/x-python",
   "name": "python",
   "nbconvert_exporter": "python",
   "pygments_lexer": "ipython3",
   "version": "3.7.4"
  }
 },
 "nbformat": 4,
 "nbformat_minor": 2
}
