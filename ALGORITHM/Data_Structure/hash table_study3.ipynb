{
 "cells": [
  {
   "cell_type": "markdown",
   "metadata": {},
   "source": [
    "# 충돌(collision)해결 알고리즘(좋은 해쉬 함수 사용하기)\n",
    "        -해쉬 테이블의 가장 큰 문제는 충돌이다 이문제를 충돌 또는 해쉬 충돌 이라고 부른다.\n",
    "        \n"
   ]
  },
  {
   "cell_type": "markdown",
   "metadata": {},
   "source": [
    "# chaining기법  - 링크드 리스트로 구현\n",
    "  -개방 해슁 혹은 오픈해싱 기법중 하나 : 해쉬 테이블 저장 공간 외의 공간을 활용\n",
    "  -충돌이 일어나면 , 링크드 리스트라는 자료구조를 사용해서, 링크드 리스트로 데이터를 추가로 뒤에 연결시켜서 저장하는 기법"
   ]
  },
  {
   "cell_type": "code",
   "execution_count": 7,
   "metadata": {},
   "outputs": [
    {
     "data": {
      "text/plain": [
       "[0, 0, 0, 0, 0, 0, 0, 0]"
      ]
     },
     "execution_count": 7,
     "metadata": {},
     "output_type": "execute_result"
    }
   ],
   "source": [
    "hash_table = list([0 for i in range(8)])\n",
    "hash_table"
   ]
  },
  {
   "cell_type": "code",
   "execution_count": 8,
   "metadata": {},
   "outputs": [],
   "source": [
    "def get_key(data):\n",
    "    return hash(data)\n",
    "\n",
    "def hash_func(key):\n",
    "    return key%8\n",
    "\n",
    "def save_data(key, value):\n",
    "    hash_key = get_key(key)\n",
    "    hash_address = hash_func(hash_key)\n",
    "    \n",
    "    if hash_table[hash_address] !=0:\n",
    "        for i in range(len(hash_table[hash_address])):\n",
    "            if hash_table[hash_address][i][0] == hash_key:\n",
    "                hash_table[hash_address][i][1] = value\n",
    "            else:\n",
    "                hash_table[hash_address].append([hash_key , value])\n",
    "    else:\n",
    "        hash_table[hash_address] = [[key, value]]\n",
    "        \n",
    "def read_data(key):\n",
    "    hash_key = get_key(key)\n",
    "    hash_address = hash_func(hash_key)\n",
    "    \n",
    "    if hash_table[hash_address] !=0:\n",
    "        for i in range(len(hash_table[hash_address])):\n",
    "            if hash_table[hash_address][i][0] == hash_key:\n",
    "                return hash_table[hash_address][i][1]\n",
    "        return None\n",
    "    else:\n",
    "        return None"
   ]
  },
  {
   "cell_type": "code",
   "execution_count": 9,
   "metadata": {},
   "outputs": [
    {
     "name": "stdout",
     "output_type": "stream",
     "text": [
      "0\n",
      "4\n",
      "4\n"
     ]
    }
   ],
   "source": [
    "print (hash('Dave') % 8)\n",
    "print (hash('Dd') % 8)\n",
    "print (hash('Data') % 8)\n",
    "\n"
   ]
  },
  {
   "cell_type": "code",
   "execution_count": 11,
   "metadata": {},
   "outputs": [
    {
     "data": {
      "text/plain": [
       "'1201023010'"
      ]
     },
     "execution_count": 11,
     "metadata": {},
     "output_type": "execute_result"
    }
   ],
   "source": [
    "save_data('Dd', '1201023010')\n",
    "save_data('Data', '3301023010')\n",
    "read_data('Dd')"
   ]
  },
  {
   "cell_type": "code",
   "execution_count": null,
   "metadata": {},
   "outputs": [],
   "source": []
  }
 ],
 "metadata": {
  "kernelspec": {
   "display_name": "Python 3",
   "language": "python",
   "name": "python3"
  },
  "language_info": {
   "codemirror_mode": {
    "name": "ipython",
    "version": 3
   },
   "file_extension": ".py",
   "mimetype": "text/x-python",
   "name": "python",
   "nbconvert_exporter": "python",
   "pygments_lexer": "ipython3",
   "version": "3.7.4"
  }
 },
 "nbformat": 4,
 "nbformat_minor": 2
}
