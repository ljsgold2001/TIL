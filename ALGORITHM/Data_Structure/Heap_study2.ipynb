{
 "cells": [
  {
   "cell_type": "code",
   "execution_count": null,
   "metadata": {},
   "outputs": [],
   "source": [
    "class Heap:\n",
    "    def __init__(self,data):\n",
    "        self.heap_array = list()\n",
    "        self.heap_array.append(None)\n",
    "        self.heap_array.append(data)\n",
    "    \n",
    "    def move_down(self,poped_idx):\n",
    "        left_child_popped_idx = popped_idx *2 #왼쪽 자식노드\n",
    "        right_child_popped_idx = popped_idx *2 +1\n",
    "        \n",
    "        #왼쪽 노드도 없을때? 즉 , 노드가 하나도 없을때\n",
    "        if left_child_popped_idx >=len(self.heap_array):\n",
    "            return False\n",
    "        # 왼쪽 노드만 존재할때 (오른쪽 노드가 없을때)\n",
    "        elif right_child_popped_idx >=len(self.heap_array):\n",
    "            if self.heap_array[popped_idx] <self.heap_array[left_child_popped_idx]:\n",
    "                return True\n",
    "            else:\n",
    "                return False\n",
    "            \n",
    "        # 노드가 두개다 존재 할 경우\n",
    "        else:\n",
    "            #자식노드들 끼리 우선비교\n",
    "            if self.heap_array[left_child_popped_idx]>self.heap_array[right_child_popped_idx]:\n",
    "                if self.heap_array[popped_idx] < self.heap_array[left_child_popped_idx]:\n",
    "                    return True\n",
    "                else:\n",
    "                    return False\n",
    "            else:\n",
    "                if self.heap_array[popped_idx] < self.heap_array[right_child_popped_idx]:\n",
    "                    return True\n",
    "                else:\n",
    "                    return False\n",
    "                \n",
    "        \n",
    "        \n",
    "    def pop(self):\n",
    "        if len(self.heap_array) <=1:\n",
    "            return None\n",
    "        \n",
    "        returned_data = self.heap_arrayp[1]\n",
    "        self.heap_array[1] = self.heap_array[-1]#맨끝에있는 데이터를 루트노드로 바꿈\n",
    "        #맨끝의 공간 삭제\n",
    "        del self.heap_array[-1] #->여기까지가 맨위로 올라간 상태\n",
    "        poped_idx =1\n",
    "        \n",
    "        while self.move_down(poped_index):\n",
    "        \n",
    "        \n",
    "        return returnd_data\n",
    "    \n",
    "    "
   ]
  }
 ],
 "metadata": {
  "kernelspec": {
   "display_name": "Python 3",
   "language": "python",
   "name": "python3"
  },
  "language_info": {
   "codemirror_mode": {
    "name": "ipython",
    "version": 3
   },
   "file_extension": ".py",
   "mimetype": "text/x-python",
   "name": "python",
   "nbconvert_exporter": "python",
   "pygments_lexer": "ipython3",
   "version": "3.7.4"
  }
 },
 "nbformat": 4,
 "nbformat_minor": 2
}
