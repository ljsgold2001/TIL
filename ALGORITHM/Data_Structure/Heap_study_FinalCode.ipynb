{
 "cells": [
  {
   "cell_type": "code",
   "execution_count": 3,
   "metadata": {},
   "outputs": [],
   "source": [
    "class Heap:#힙 기본구성 하기\n",
    "    def __init__(self,data):\n",
    "        self.heap_array = list()\n",
    "        self.heap_array.append(None)\n",
    "        self.heap_array.append(data)\n",
    "        \n",
    "#==========================================================================\n",
    "     # 현재 노드가 root node인지 현재노드가 parent node보다 큰지를 판단해주는 코드\n",
    "    def move_up(self,inserted_idx):\n",
    "        if inserted_idx <=1:#case1 루트노드일 경우\n",
    "            return False\n",
    "        else:\n",
    "            parent_idx = inserted_idx //2\n",
    "            if self.heap_array[inserted_idx] > self.heap_array[parent_idx]:\n",
    "                return True\n",
    "            else:\n",
    "                return False\n",
    "            \n",
    "            \n",
    "    def insert(self,data):\n",
    "        #나누어 주어야 할 경우의수 2가지\n",
    "            #1. root node에 아무것도 없을때\n",
    "            #2. node가 존재할때\n",
    "            \n",
    "        #case1\n",
    "        if len(self.heap_array) ==1:\n",
    "            self.heap_array.append(data)\n",
    "            return True\n",
    "        #case2\n",
    "        else:\n",
    "            self.heap_array.append(data)\n",
    "            inserted_idx = len(self.heap_array)-1\n",
    "            \n",
    "            while self.move_up(inserted_idx):\n",
    "                parent_idx = inserted_idx//2\n",
    "                self.heap_array[inserted_idx], self.heap_array[parent_idx] = self.heap_array[parent_idx], self.heap_array[inserted_idx]\n",
    "                inserted_idx = parent_idx\n",
    "            return True\n",
    "#=============================================================================\n",
    "    \n",
    "    def move_down(self, popped_idx):#값을 바꾸는 것이아닌 판단만 해준다\n",
    "        left_child_popped_idx = popped_idx *2\n",
    "        right_child_popped_idx = popped_idx*2+1\n",
    "        #case1 : 두개의 노드가 다 없는경우\n",
    "        if left_child_popped_idx >= len(self.heap_array):\n",
    "            return False\n",
    "        #case2 : 왼쪽노드만 존재할경우(오른쪽 child 노드만 없을경우)\n",
    "        elif right_child_popped_idx >= len(self.heap_array):\n",
    "            if self.heap_array[popped_idx] < self.heap_array[left_child_popped_idx]:\n",
    "                return True\n",
    "            else:\n",
    "                return False\n",
    "        #case3 : 두개의 노드가 둘다 존재 할 경우 (왼쪽 오른쪽 값중 큰값을 비교해서 위로 올린다)\n",
    "        else:\n",
    "            if self.heap_array[left_child_popped_idx] > self.heap_array[right_child_popped_idx]:\n",
    "                if self.heap_array[popped_idx] < self.heap_array[left_child_popped_idx]:\n",
    "                    return True\n",
    "                else:\n",
    "                    return False\n",
    "            else:\n",
    "                if self.heap_array[popped_idx] < self.heap_array[right_child_popped_idx]:\n",
    "                    return True\n",
    "                else:\n",
    "                    return False\n",
    "        \n",
    "    def pop(self):\n",
    "        if len(self.heap_array)<=1:\n",
    "            return None\n",
    "        \n",
    "        else:\n",
    "            returned_data = self.heap_array[1]\n",
    "            self.heap_array[1] = self.heap_array[-1]\n",
    "            del self.heap_array[-1]\n",
    "            popped_idx =1\n",
    "            \n",
    "            while self.move_down(popped_idx):\n",
    "                left_child_popped_idx = popped_idx *2\n",
    "                right_child_popped_idx = popped_idx*2+1\n",
    "                \n",
    "                if right_child_popped_idx >=len(self.heap_array):\n",
    "                    if self.heap_array[popped_idx] < self.heap_array[left_child_popped_idx]:\n",
    "                        self.heap_array[popped_idx], self.heap_array[left_child_popped_idx] = self.heap_array[left_child_popped_idx], self.heap_array[popped_idx]\n",
    "                        popped_idx = left_child_popped_idx\n",
    "\n",
    "                else:\n",
    "                    if self.heap_array[left_child_popped_idx] > self.heap_array[right_child_popped_idx]:\n",
    "                        if self.heap_array[popped_idx] <self.heap_array[left_child_popped_idx]:\n",
    "                            self.heap_array[popped_idx], self.heap_array[left_child_popped_idx] = self.heap_array[left_child_popped_idx], self.heap_array[popped_idx]\n",
    "                            popped_idx = left_child_popped_idx\n",
    "                    else:\n",
    "                        if self.heap_array[popped_idx] < self.heap_array[right_child_popped_idx]:\n",
    "                            self.heap_array[popped_idx], self.heap_array[right_child_popped_idx] = self.heap_array[right_child_popped_idx], self.heap_array[popped_idx]\n",
    "                            popped_idx = right_child_popped_idx\n",
    "                        \n",
    "            return returned_data\n",
    "#=============================================================================\n",
    "                        \n",
    "\n",
    "\n",
    "                        \n",
    "                     \n",
    "    "
   ]
  },
  {
   "cell_type": "code",
   "execution_count": 4,
   "metadata": {},
   "outputs": [
    {
     "data": {
      "text/plain": [
       "[None, 20, 10, 15, 5, 4, 8]"
      ]
     },
     "execution_count": 4,
     "metadata": {},
     "output_type": "execute_result"
    }
   ],
   "source": [
    "heap = Heap(15)\n",
    "heap.insert(10)\n",
    "heap.insert(8)\n",
    "heap.insert(5)\n",
    "heap.insert(4)\n",
    "heap.insert(20)\n",
    "heap.heap_array"
   ]
  },
  {
   "cell_type": "code",
   "execution_count": 5,
   "metadata": {},
   "outputs": [
    {
     "data": {
      "text/plain": [
       "20"
      ]
     },
     "execution_count": 5,
     "metadata": {},
     "output_type": "execute_result"
    }
   ],
   "source": [
    "heap.pop()\n",
    "\n"
   ]
  },
  {
   "cell_type": "code",
   "execution_count": 6,
   "metadata": {},
   "outputs": [
    {
     "data": {
      "text/plain": [
       "[None, 15, 10, 8, 5, 4]"
      ]
     },
     "execution_count": 6,
     "metadata": {},
     "output_type": "execute_result"
    }
   ],
   "source": [
    "heap.heap_array"
   ]
  },
  {
   "cell_type": "code",
   "execution_count": null,
   "metadata": {},
   "outputs": [],
   "source": []
  }
 ],
 "metadata": {
  "kernelspec": {
   "display_name": "Python 3",
   "language": "python",
   "name": "python3"
  },
  "language_info": {
   "codemirror_mode": {
    "name": "ipython",
    "version": 3
   },
   "file_extension": ".py",
   "mimetype": "text/x-python",
   "name": "python",
   "nbconvert_exporter": "python",
   "pygments_lexer": "ipython3",
   "version": "3.7.4"
  }
 },
 "nbformat": 4,
 "nbformat_minor": 2
}
