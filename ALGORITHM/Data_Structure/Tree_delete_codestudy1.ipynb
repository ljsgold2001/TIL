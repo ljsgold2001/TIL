{
 "cells": [
  {
   "cell_type": "markdown",
   "metadata": {},
   "source": [
    "# 삭제할 노드를 탐색하는경우"
   ]
  },
  {
   "cell_type": "code",
   "execution_count": null,
   "metadata": {},
   "outputs": [],
   "source": [
    "#def delete(self,data)\n",
    "    searched = False\n",
    "    self.current_node = self.head\n",
    "    self.parent_node = self.head\n",
    "    while self.current_node:\n",
    "        if self.current_node.data == data:\n",
    "            searched = True\n",
    "            break\n",
    "        elif self.current_node.data > data:\n",
    "            self.parent_node = self.current_node\n",
    "            self.current_node = self.current_node.left\n",
    "        else:\n",
    "            self.parent_node = self.current_node\n",
    "            self.current_node = self.current_node.right\n",
    "            \n",
    "    if searched == False:\n",
    "        return False\n",
    "    \n",
    "        \n",
    "        \n",
    "        \n",
    "        "
   ]
  },
  {
   "cell_type": "markdown",
   "metadata": {},
   "source": [
    "# Leaf Node 삭제 "
   ]
  },
  {
   "cell_type": "code",
   "execution_count": null,
   "metadata": {},
   "outputs": [],
   "source": [
    "if current_node.right ==None and current_node.left == None:\n",
    "    if self.current_node.data > self.parent_node.data:\n",
    "        self.parent_node.right  == None\n",
    "    else:#부모의 시점이아닌 현재노드의 시점으로 그냥지우면안될까?\n",
    "        self.parent_node.left ==None#노드와 브랜치를 전부다생각해주어야함\n",
    "    del self.current_node\n",
    "    "
   ]
  },
  {
   "cell_type": "markdown",
   "metadata": {},
   "source": [
    "#  Child Node 가 하나인 Node 삭제 \n",
    "\n"
   ]
  },
  {
   "cell_type": "code",
   "execution_count": null,
   "metadata": {},
   "outputs": [],
   "source": [
    "#두가지 경우를 나누어보자 child node가 두개인데 하나는 left child만 가지고 있을 경우이고\n",
    "#두번째경우의수는 right child 만 가지고 있을 경우이다\n",
    "#left child만 가지고 있을경우\n",
    "if self.current_node.right ==None and self.current_node.left !=None:\n",
    "    if current_node.data<parent_node.data:\n",
    "        self.parent_node.left = self.current_node.left\n",
    "    else:\n",
    "        self.parent_node.right = self.current_node.left\n",
    "elif:\n",
    "    if current_node.data <parent_node.data:\n",
    "        self.parent.left = self.current_node.right\n",
    "    else\n",
    "        self.parent.right = self.current_node.right\n",
    "        \n",
    "        "
   ]
  },
  {
   "cell_type": "markdown",
   "metadata": {},
   "source": [
    "# Child Node 가 두 개인 Node 삭제\n",
    "\n"
   ]
  },
  {
   "cell_type": "code",
   "execution_count": null,
   "metadata": {},
   "outputs": [],
   "source": [
    "if self.current_node.left !=None and self.current_node.right != None:\n",
    "    if self.current_node.data < self.parent_node.data:\n",
    "        self.change_node = self.current_node.right\n",
    "        self.change_node_parent = self.current_node.right\n",
    "        while self.change_node.left !=None:\n",
    "            self.change_node_parent = self.change_node\n",
    "            self.change_node = self.change_node.left\n",
    "        if self.change_node.right !=None:\n",
    "            self.change_node_parent.left = self.change_node.right\n",
    "        else:\n",
    "            self.change_node_parent = None\n",
    "        self.parent.left = self.change_node\n",
    "        self.change_node.right = self.current_node.right\n",
    "        self.change_node.left = self.current_node.left\n",
    "    \n",
    "    else:\n",
    "        self.change_node  = self.current_node.right\n",
    "        self.change_node_parent = self.current_node.right\n",
    "        while self.change_node.left != None:\n",
    "            self.change_node_parent = self.change_node\n",
    "            self.change_node = self.change_node.left\n",
    "        if self.change_node.right != None:\n",
    "            self.change_node_parent.left = self.change_node.right\n",
    "        else:\n",
    "            self.change_node_parent.left = None\n",
    "        self.parent_right = self.change_node\n",
    "        self.change_node.right = self.current_node.right\n",
    "        self.change_node.left  = self.current_node.left"
   ]
  }
 ],
 "metadata": {
  "kernelspec": {
   "display_name": "Python 3",
   "language": "python",
   "name": "python3"
  },
  "language_info": {
   "codemirror_mode": {
    "name": "ipython",
    "version": 3
   },
   "file_extension": ".py",
   "mimetype": "text/x-python",
   "name": "python",
   "nbconvert_exporter": "python",
   "pygments_lexer": "ipython3",
   "version": "3.7.4"
  }
 },
 "nbformat": 4,
 "nbformat_minor": 2
}
