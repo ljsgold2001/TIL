{
 "cells": [
  {
   "cell_type": "markdown",
   "metadata": {},
   "source": [
    "# 힙의 구성과 Insert"
   ]
  },
  {
   "cell_type": "code",
   "execution_count": 4,
   "metadata": {},
   "outputs": [],
   "source": [
    "class Heap:#힙 기본구성 하기\n",
    "    def __init__(self, data):\n",
    "        self.heap_array = list()\n",
    "        self.heap_array.append(None)\n",
    "        self.heap_array.append(data)\n",
    "#=========================================================================\n",
    "\n",
    "    # 현재 노드가 root node인지 현재노드가 parent node보다 큰지를 판단해주는 코드\n",
    "    def move_up(self,inserted_idx):\n",
    "        #case1 루트노드일 경우\n",
    "        if inserted_idx <=1:\n",
    "                return False\n",
    "        else:\n",
    "            parent_idx = inserted_idx//2\n",
    "            if self.heap_array[inserted_idx] > self.heap_array[parent_idx]:\n",
    "                return True\n",
    "            else:\n",
    "                return False\n",
    "            \n",
    "#=========================================================================                \n",
    "    \n",
    "    def insert(self,data):\n",
    "        #나누어 주어야 할 경우의수 2가지\n",
    "            #1. root node에 아무것도 없을때\n",
    "            #2. node가 존재할때\n",
    "            \n",
    "            #case1\n",
    "            if len(self.heap_array) == 0:\n",
    "                self.heap_array.append(None)\n",
    "                self.heap_array.append(data)\n",
    "                return True\n",
    "            \n",
    "            #case2\n",
    "            else:\n",
    "                self.heap_array.append(data)\n",
    "                inserted_idx = len(self.heap_array) -1\n",
    "                \n",
    "                while self.move_up(inserted_idx):\n",
    "                    parent_idx = inserted_idx//2\n",
    "                    self.heap_array[inserted_idx],self.heap_array[parent_idx] = self.heap_array[parent_idx],self.heap_array[inserted_idx]\n",
    "                    inserted_idx = parent_idx\n",
    "                    \n",
    "            return True\n",
    "            \n",
    "            \n",
    "            \n",
    "                \n",
    "                "
   ]
  },
  {
   "cell_type": "code",
   "execution_count": 5,
   "metadata": {},
   "outputs": [
    {
     "data": {
      "text/plain": [
       "[None, 1]"
      ]
     },
     "execution_count": 5,
     "metadata": {},
     "output_type": "execute_result"
    }
   ],
   "source": [
    "heap = Heap(1)\n",
    "heap.heap_array"
   ]
  },
  {
   "cell_type": "code",
   "execution_count": 6,
   "metadata": {},
   "outputs": [
    {
     "data": {
      "text/plain": [
       "[None, 20, 10, 15, 5, 4, 8]"
      ]
     },
     "execution_count": 6,
     "metadata": {},
     "output_type": "execute_result"
    }
   ],
   "source": [
    "heap = Heap(15)\n",
    "heap.insert(10)\n",
    "heap.insert(8)\n",
    "heap.insert(5)\n",
    "heap.insert(4)\n",
    "heap.insert(20)\n",
    "heap.heap_array\n",
    "\n",
    "\n"
   ]
  }
 ],
 "metadata": {
  "kernelspec": {
   "display_name": "Python 3",
   "language": "python",
   "name": "python3"
  },
  "language_info": {
   "codemirror_mode": {
    "name": "ipython",
    "version": 3
   },
   "file_extension": ".py",
   "mimetype": "text/x-python",
   "name": "python",
   "nbconvert_exporter": "python",
   "pygments_lexer": "ipython3",
   "version": "3.7.4"
  }
 },
 "nbformat": 4,
 "nbformat_minor": 2
}
