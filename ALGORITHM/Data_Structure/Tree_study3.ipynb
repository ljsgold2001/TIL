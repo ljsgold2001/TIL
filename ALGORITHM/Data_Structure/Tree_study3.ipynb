{
 "cells": [
  {
   "cell_type": "markdown",
   "metadata": {},
   "source": [
    "### 삭제할 Node 탐색\n",
    "-삭제할 node가 없는 경우도 처리해야함\n",
    "\n",
    "-이를 위해 삭제할 Node가 없는 경우는 False를 리턴하고 함수를 종료 시킴\n"
   ]
  },
  {
   "cell_type": "code",
   "execution_count": null,
   "metadata": {},
   "outputs": [],
   "source": [
    "#def delete(self, value):\n",
    "    searched  = False\n",
    "    self.current_node = self.head\n",
    "    self.parent = self.head\n",
    "    while self.current_node:\n",
    "        if self.current_node.value == value:\n",
    "            searched = True\n",
    "            break\n",
    "        elif value < self.current_node.value:\n",
    "            self.parent = self.current_node\n",
    "            self.current_node = self.current_node.left\n",
    "        else:\n",
    "            self.parent= self.current_node\n",
    "            self.current_node = self.current_node.right\n",
    "    \n",
    "    if searched ==False:\n",
    "        return False\n",
    "    ###이후부터 case 들을 분리해서 코드작성\n",
    "        "
   ]
  },
  {
   "cell_type": "markdown",
   "metadata": {},
   "source": [
    "### case 1:  Node가 leaf Node일때"
   ]
  },
  {
   "cell_type": "code",
   "execution_count": null,
   "metadata": {},
   "outputs": [],
   "source": [
    "#self.current_node 가 삭제할 Node\n",
    "#self.parent는 삭제할 node의 Parent node이다.\n",
    "\n",
    "if self.current_node.left ==None and self.current_node.right ==None:\n",
    "    if value <self.parent.value:\n",
    "        self.parent.left==None\n",
    "    else:\n",
    "        self.parent.right ==None\n",
    "    del self.current_node #이렇게해주면 메모리상에서도 지워진다.\n",
    "    \n",
    "    \n",
    "        "
   ]
  },
  {
   "cell_type": "markdown",
   "metadata": {},
   "source": [
    "### case2 : 삭제할 노드가 child Node를 한 개 가지고 잇을 경우\n",
    "\n"
   ]
  },
  {
   "cell_type": "markdown",
   "metadata": {},
   "source": [
    "#### -현재 Node가 왼쪽에만 child node를 가지고있을때"
   ]
  },
  {
   "cell_type": "code",
   "execution_count": null,
   "metadata": {},
   "outputs": [],
   "source": [
    "if self.current_node.left !=None and self.current_node.right ==None\n",
    "    if value  < self.parnet.value:\n",
    "        self.parent.left = self.current_node_left\n",
    "        \n",
    "    else:\n",
    "        self.parent.right = self.current_node.left\n",
    "\n",
    "elif self.current_node.left == None and self.current_node.right !=None:\n",
    "    if value <self.parent.value:\n",
    "        self.parnet.left = self.current_node.right \n",
    "    else:\n",
    "        self.parent.right = self.current_node.right\n",
    "        \n",
    "        \n",
    "        "
   ]
  }
 ],
 "metadata": {
  "kernelspec": {
   "display_name": "Python 3",
   "language": "python",
   "name": "python3"
  },
  "language_info": {
   "codemirror_mode": {
    "name": "ipython",
    "version": 3
   },
   "file_extension": ".py",
   "mimetype": "text/x-python",
   "name": "python",
   "nbconvert_exporter": "python",
   "pygments_lexer": "ipython3",
   "version": "3.7.4"
  }
 },
 "nbformat": 4,
 "nbformat_minor": 2
}
