{
 "cells": [
  {
   "cell_type": "markdown",
   "metadata": {},
   "source": [
    "# Linear Probing 기법\n",
    "\n",
    "- 폐쇄 해슁 또는 close Hashing 기법 중 하나 : 해쉬 테이블 저장공간안에서 충돌 문제를 해결하는 기법\n",
    "- 충돌이 일어나면 해당 hash address 부터맨 처음 나오는 빈 공간에 저장하는 기법\n",
    "  - 저장공간 활용도를 높이기 위한 기법"
   ]
  },
  {
   "cell_type": "code",
   "execution_count": 23,
   "metadata": {},
   "outputs": [],
   "source": [
    "hash_table = list([0 for i in range(8)])\n",
    "\n",
    "def get_key(data):\n",
    "    return hash(data)\n",
    "\n",
    "def hash_function(key):\n",
    "    return key%8\n",
    "\n",
    "def save_data(data, value):\n",
    "    index_key = get_key(data)\n",
    "    hash_address = hash_func(index_key)\n",
    "    if hash_table[hash_address]!=0:\n",
    "         for i in range(hash_address , len(hash_table)):\n",
    "                if hash_table[i]==0:\n",
    "                    hash_table[i] =[index_key, value]\n",
    "                    return\n",
    "                elif hash_table[i][0] == index_key:\n",
    "                    hash_table[i][1] = value\n",
    "                    return \n",
    "    else:\n",
    "        hash_table[hash_address] = [index_key, value  ]\n",
    "\n",
    "def read_data(data):\n",
    "    index_key = get_key(data)\n",
    "    hash_address = hash_function(index_key)\n",
    "    \n",
    "    if hash_table[hash_address ] !=0:\n",
    "        for i in range(hash_address , len(hash_table)):\n",
    "            if hash_table[i] ==0:#저장이 된적이 없다.\n",
    "                return None\n",
    "                \n",
    "            elif hash_table[i][0] == index_key:\n",
    "                return hash_table[i][1]\n",
    "        \n",
    "    else:\n",
    "        return None\n",
    "                    \n",
    "                    \n",
    "    \n",
    "\n",
    "\n",
    "    "
   ]
  },
  {
   "cell_type": "code",
   "execution_count": 24,
   "metadata": {},
   "outputs": [
    {
     "name": "stdout",
     "output_type": "stream",
     "text": [
      "1\n"
     ]
    }
   ],
   "source": [
    "print(hash('dk')%8)"
   ]
  },
  {
   "cell_type": "code",
   "execution_count": 25,
   "metadata": {},
   "outputs": [
    {
     "name": "stdout",
     "output_type": "stream",
     "text": [
      "3\n",
      "3\n"
     ]
    }
   ],
   "source": [
    "print(hash('da')%8)\n",
    "print(hash('dc')%8)"
   ]
  },
  {
   "cell_type": "code",
   "execution_count": 26,
   "metadata": {},
   "outputs": [
    {
     "data": {
      "text/plain": [
       "'098765432'"
      ]
     },
     "execution_count": 26,
     "metadata": {},
     "output_type": "execute_result"
    }
   ],
   "source": [
    "save_data('da','12344555555')\n",
    "save_data('dc','098765432')\n",
    "read_data('dc')"
   ]
  },
  {
   "cell_type": "code",
   "execution_count": 27,
   "metadata": {},
   "outputs": [
    {
     "data": {
      "text/plain": [
       "'12344555555'"
      ]
     },
     "execution_count": 27,
     "metadata": {},
     "output_type": "execute_result"
    }
   ],
   "source": [
    "read_data('da')"
   ]
  },
  {
   "cell_type": "code",
   "execution_count": null,
   "metadata": {},
   "outputs": [],
   "source": []
  }
 ],
 "metadata": {
  "kernelspec": {
   "display_name": "Python 3",
   "language": "python",
   "name": "python3"
  },
  "language_info": {
   "codemirror_mode": {
    "name": "ipython",
    "version": 3
   },
   "file_extension": ".py",
   "mimetype": "text/x-python",
   "name": "python",
   "nbconvert_exporter": "python",
   "pygments_lexer": "ipython3",
   "version": "3.7.4"
  }
 },
 "nbformat": 4,
 "nbformat_minor": 2
}
