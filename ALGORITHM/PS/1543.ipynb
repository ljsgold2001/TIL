{
 "cells": [
  {
   "cell_type": "code",
   "execution_count": 34,
   "metadata": {},
   "outputs": [
    {
     "data": {
      "text/plain": [
       "'abc'"
      ]
     },
     "execution_count": 34,
     "metadata": {},
     "output_type": "execute_result"
    }
   ],
   "source": [
    "a = str(\"abcd\")\n",
    "a[0:3]"
   ]
  },
  {
   "cell_type": "code",
   "execution_count": 48,
   "metadata": {},
   "outputs": [
    {
     "name": "stdout",
     "output_type": "stream",
     "text": [
      "abcd\n",
      "abc\n",
      "abc\n",
      "count :  0\n",
      "0\n"
     ]
    }
   ],
   "source": [
    "input_value = input()\n",
    "find = str(input())\n",
    "n = int(len(find))\n",
    "count =0\n",
    "\n",
    "for i in range(len(input_value)-n):\n",
    "    print(input_value[i:n])\n",
    "        print(\"count : \" , count)\n",
    "    if input_value[i:n] == find:\n",
    "        \n",
    "        count +=1\n",
    "\n",
    "\n",
    "\n"
   ]
  },
  {
   "cell_type": "code",
   "execution_count": 51,
   "metadata": {},
   "outputs": [
    {
     "name": "stdout",
     "output_type": "stream",
     "text": [
      "abcde\n",
      "cd\n",
      "1\n"
     ]
    }
   ],
   "source": [
    "input_value = str(input())\n",
    "find = str(input())\n",
    "\n",
    "n = int(len(find))\n",
    "count =0\n",
    "index =0\n",
    "while(len(input_value)-index >=n):\n",
    "    if input_value[index:index +n ] == find:\n",
    "        index +=1\n",
    "        count+=1\n",
    "    else:\n",
    "        index +=1\n",
    "print(count)\n",
    "        \n",
    "\n"
   ]
  },
  {
   "cell_type": "code",
   "execution_count": null,
   "metadata": {},
   "outputs": [],
   "source": []
  }
 ],
 "metadata": {
  "kernelspec": {
   "display_name": "Python 3",
   "language": "python",
   "name": "python3"
  },
  "language_info": {
   "codemirror_mode": {
    "name": "ipython",
    "version": 3
   },
   "file_extension": ".py",
   "mimetype": "text/x-python",
   "name": "python",
   "nbconvert_exporter": "python",
   "pygments_lexer": "ipython3",
   "version": "3.7.4"
  }
 },
 "nbformat": 4,
 "nbformat_minor": 2
}
