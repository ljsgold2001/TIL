{
 "cells": [
  {
   "cell_type": "code",
   "execution_count": 75,
   "metadata": {},
   "outputs": [],
   "source": [
    "def find(n,x,y):\n",
    "    global result\n",
    "    if n ==2:\n",
    "      \n",
    "        if x ==X and  y ==Y:\n",
    "            print(result)\n",
    "            return \n",
    "        result +=1\n",
    "        if x ==X and y+1 ==Y:\n",
    "            print(result)\n",
    "            return\n",
    "        result +=1\n",
    "        if x + 1 ==X and y ==Y:\n",
    "            print(result)\n",
    "            return\n",
    "        result +=1\n",
    "        if x+1 ==X and y+1 ==Y:\n",
    "            print(result)\n",
    "            return\n",
    "        result +=1\n",
    "        return##재귀용법은 return문을 신경쓰자!!!!!!!!!!!!!!!!!!!!!!1\n",
    "    find(n/2, x, y)\n",
    "    find(n/2, x, y+n/2)\n",
    "    find(n/2, x+n/2, y)\n",
    "    find(n/2 ,x+n/2,  y+n/2)\n",
    "\n",
    "\n",
    "\n"
   ]
  },
  {
   "cell_type": "code",
   "execution_count": 76,
   "metadata": {},
   "outputs": [
    {
     "name": "stdout",
     "output_type": "stream",
     "text": [
      "3 7 7\n",
      "63\n"
     ]
    }
   ],
   "source": [
    "result =0\n",
    "N,X,Y = map(int, input().split(' '))\n",
    "\n",
    "find(2**N , 0,0)"
   ]
  },
  {
   "cell_type": "code",
   "execution_count": null,
   "metadata": {},
   "outputs": [],
   "source": []
  }
 ],
 "metadata": {
  "kernelspec": {
   "display_name": "Python 3",
   "language": "python",
   "name": "python3"
  },
  "language_info": {
   "codemirror_mode": {
    "name": "ipython",
    "version": 3
   },
   "file_extension": ".py",
   "mimetype": "text/x-python",
   "name": "python",
   "nbconvert_exporter": "python",
   "pygments_lexer": "ipython3",
   "version": "3.7.4"
  }
 },
 "nbformat": 4,
 "nbformat_minor": 2
}
