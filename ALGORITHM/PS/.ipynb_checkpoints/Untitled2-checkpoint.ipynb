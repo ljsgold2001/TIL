{
 "cells": [
  {
   "cell_type": "code",
   "execution_count": 13,
   "metadata": {},
   "outputs": [
    {
     "name": "stdout",
     "output_type": "stream",
     "text": [
      "Counter({1: 5, 2: 1, 3: 1, 4: 1, 5: 1, 6: 1})\n",
      "Counter({1: 5, 2: 1, 3: 1, 4: 1, 5: 1, 6: 1})\n"
     ]
    }
   ],
   "source": [
    "import collections\n",
    "\n",
    "a = [1,1,1,1,1,2,3,4,5,6]\n",
    "print(collections.Counter(a))\n",
    "list = (collections.Counter(a))\n",
    "print(list)\n",
    "\n",
    "\n"
   ]
  },
  {
   "cell_type": "code",
   "execution_count": 26,
   "metadata": {},
   "outputs": [],
   "source": [
    "def solution(genres, plays):\n",
    "    answer = []\n",
    "    #어떤 장르가 얼마나 재생됬는지 부터 구해봅시다.\n",
    "    totalplay_genres ={}\n",
    "    sorted_genres ={}\n",
    "    \n",
    "    for i in range(len(genres)):\n",
    "        sorted_genres[i] = [genres[i],plays[i]]\n",
    "        if genres[i] not in totalplay_genres:\n",
    "            totalplay_genres[genres[i]] = plays[i]\n",
    "            \n",
    "        else:\n",
    "            totalplay_genres[genres[i]] += plays[i]\n",
    "    \n",
    "    sum_genres = sorted(totalplay_genres.items(), key = lambda x:x[1],reverse = True)\n",
    "    sort_genres = sorted(sorted_genres.items(), key = lambda x:(x[1][1]),reverse = True)\n",
    "    print(sort_genres)\n",
    "    for i in range(len(totalplay_genres)):\n",
    "        for j in range (len(sort_genres)):\n",
    "            if sort_genres[j][1][0] == sum_genres[i][0]:\n",
    "                answer.append(sort_genres[j][0])\n",
    "                \n",
    "                if len(answer) %2 ==0:\n",
    "                    if len(answer) != 1:\n",
    "                        break\n",
    "                    if len(answer) ==1:\n",
    "                        answer.append(sort_genres[j][0])\n",
    "                \n",
    "                    \n",
    "    print(answer)\n",
    "                \n",
    "    return answer"
   ]
  },
  {
   "cell_type": "code",
   "execution_count": 27,
   "metadata": {},
   "outputs": [
    {
     "ename": "NameError",
     "evalue": "name 'genres' is not defined",
     "output_type": "error",
     "traceback": [
      "\u001b[0;31m---------------------------------------------------------------------------\u001b[0m",
      "\u001b[0;31mNameError\u001b[0m                                 Traceback (most recent call last)",
      "\u001b[0;32m<ipython-input-27-b7f02afa1722>\u001b[0m in \u001b[0;36m<module>\u001b[0;34m\u001b[0m\n\u001b[1;32m      2\u001b[0m \u001b[0mplays\u001b[0m \u001b[0;34m=\u001b[0m\u001b[0;34m[\u001b[0m\u001b[0;36m2\u001b[0m\u001b[0;34m,\u001b[0m\u001b[0;36m1\u001b[0m\u001b[0;34m,\u001b[0m\u001b[0;36m4\u001b[0m\u001b[0;34m,\u001b[0m\u001b[0;36m3\u001b[0m\u001b[0;34m]\u001b[0m\u001b[0;34m\u001b[0m\u001b[0;34m\u001b[0m\u001b[0m\n\u001b[1;32m      3\u001b[0m \u001b[0;34m\u001b[0m\u001b[0m\n\u001b[0;32m----> 4\u001b[0;31m \u001b[0msolution\u001b[0m\u001b[0;34m(\u001b[0m\u001b[0mgenres\u001b[0m\u001b[0;34m,\u001b[0m\u001b[0mplays\u001b[0m\u001b[0;34m)\u001b[0m\u001b[0;34m\u001b[0m\u001b[0;34m\u001b[0m\u001b[0m\n\u001b[0m",
      "\u001b[0;31mNameError\u001b[0m: name 'genres' is not defined"
     ]
    }
   ],
   "source": [
    "gerenres =['a','b','c','d']\n",
    "plays =[2,1,4,3]\n",
    "\n",
    "solution(genres,plays)"
   ]
  },
  {
   "cell_type": "code",
   "execution_count": null,
   "metadata": {},
   "outputs": [],
   "source": []
  }
 ],
 "metadata": {
  "kernelspec": {
   "display_name": "Python 3",
   "language": "python",
   "name": "python3"
  },
  "language_info": {
   "codemirror_mode": {
    "name": "ipython",
    "version": 3
   },
   "file_extension": ".py",
   "mimetype": "text/x-python",
   "name": "python",
   "nbconvert_exporter": "python",
   "pygments_lexer": "ipython3",
   "version": "3.7.4"
  }
 },
 "nbformat": 4,
 "nbformat_minor": 2
}
