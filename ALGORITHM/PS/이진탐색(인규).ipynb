{
 "cells": [
  {
   "cell_type": "code",
   "execution_count": 68,
   "metadata": {},
   "outputs": [
    {
     "name": "stdout",
     "output_type": "stream",
     "text": [
      "8\n",
      "0 9 4\n",
      "4\n",
      "작다\n",
      "6\n",
      "작다\n",
      "7\n"
     ]
    }
   ],
   "source": [
    "def binary_search(array,k):\n",
    "    start = 0\n",
    "    end = len(array)-1\n",
    "    \n",
    "    mid = (start+end)//2\n",
    "    print(start,end,mid)\n",
    "    if (array[start]>k):\n",
    "        print(\"a\")\n",
    "        return False\n",
    "    elif(array[end]<k):\n",
    "        print(\"b\")\n",
    "        return False\n",
    "    elif(array[mid] ==k):\n",
    "        print(\"c\")\n",
    "        return False\n",
    "    \n",
    "    while(start +1 !=end):\n",
    "        print(mid)\n",
    "        if (array[mid] < k):\n",
    "            print(\"작다\")\n",
    "            start = mid\n",
    "            mid = (end+start)//2\n",
    "            if( array[mid] ==k):\n",
    "                print(mid)\n",
    "                break\n",
    "            elif(array[start] ==k):\n",
    "                print(start)\n",
    "                break\n",
    "            elif(array[end] ==k):\n",
    "                print(end)\n",
    "                break\n",
    "        \n",
    "        elif(array[mid]>k):\n",
    "            print(\"크다\")\n",
    "            end = mid\n",
    "            mid = (end+start)//2\n",
    "            if( array[mid] ==k):\n",
    "                print(mid)\n",
    "                break\n",
    "            elif(array[start] ==k):\n",
    "                print(start)\n",
    "                break\n",
    "            elif(array[end] ==k):\n",
    "                print(end)\n",
    "                break\n",
    "    \n",
    "#@@@@@@@@@@@@@@@@@@@@@@@@\n",
    "k = int(input())\n",
    "_list=[ 1,2,3,4,5,6,7,8,9,10]\n",
    "\n",
    "\n",
    "binary_search(_list,k)\n",
    "\n",
    "\n",
    "\n",
    "\n",
    "    \n",
    "    "
   ]
  },
  {
   "cell_type": "markdown",
   "metadata": {},
   "source": [
    "#### 1920 , 숫자세기"
   ]
  },
  {
   "cell_type": "code",
   "execution_count": null,
   "metadata": {},
   "outputs": [],
   "source": []
  }
 ],
 "metadata": {
  "kernelspec": {
   "display_name": "Python 3",
   "language": "python",
   "name": "python3"
  },
  "language_info": {
   "codemirror_mode": {
    "name": "ipython",
    "version": 3
   },
   "file_extension": ".py",
   "mimetype": "text/x-python",
   "name": "python",
   "nbconvert_exporter": "python",
   "pygments_lexer": "ipython3",
   "version": "3.7.4"
  }
 },
 "nbformat": 4,
 "nbformat_minor": 2
}
