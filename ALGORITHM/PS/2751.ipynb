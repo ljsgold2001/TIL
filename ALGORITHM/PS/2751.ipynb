{
 "cells": [
  {
   "cell_type": "code",
   "execution_count": 17,
   "metadata": {},
   "outputs": [
    {
     "name": "stdout",
     "output_type": "stream",
     "text": [
      "5\n",
      "1\n",
      "2\n",
      "3\n",
      "4\n",
      "5\n"
     ]
    },
    {
     "ename": "NameError",
     "evalue": "name 'mergesplit' is not defined",
     "output_type": "error",
     "traceback": [
      "\u001b[0;31m---------------------------------------------------------------------------\u001b[0m",
      "\u001b[0;31mNameError\u001b[0m                                 Traceback (most recent call last)",
      "\u001b[0;32m<ipython-input-17-651a90d6fc84>\u001b[0m in \u001b[0;36m<module>\u001b[0;34m\u001b[0m\n\u001b[1;32m     20\u001b[0m     \u001b[0minput_value\u001b[0m\u001b[0;34m.\u001b[0m\u001b[0mappend\u001b[0m\u001b[0;34m(\u001b[0m\u001b[0mn\u001b[0m\u001b[0;34m)\u001b[0m\u001b[0;34m\u001b[0m\u001b[0;34m\u001b[0m\u001b[0m\n\u001b[1;32m     21\u001b[0m \u001b[0;34m\u001b[0m\u001b[0m\n\u001b[0;32m---> 22\u001b[0;31m \u001b[0mmergesplit\u001b[0m\u001b[0;34m(\u001b[0m\u001b[0minput_value\u001b[0m\u001b[0;34m)\u001b[0m\u001b[0;34m\u001b[0m\u001b[0;34m\u001b[0m\u001b[0m\n\u001b[0m\u001b[1;32m     23\u001b[0m \u001b[0;34m\u001b[0m\u001b[0m\n\u001b[1;32m     24\u001b[0m \u001b[0;32mfor\u001b[0m \u001b[0mi\u001b[0m \u001b[0;32min\u001b[0m \u001b[0mrange\u001b[0m\u001b[0;34m(\u001b[0m\u001b[0mlen\u001b[0m\u001b[0;34m(\u001b[0m\u001b[0mresult\u001b[0m\u001b[0;34m)\u001b[0m\u001b[0;34m)\u001b[0m\u001b[0;34m:\u001b[0m\u001b[0;34m\u001b[0m\u001b[0;34m\u001b[0m\u001b[0m\n",
      "\u001b[0;31mNameError\u001b[0m: name 'mergesplit' is not defined"
     ]
    }
   ],
   "source": [
    "\"\"\"\"def qsort(array):\n",
    "    if len(array) <=1:\n",
    "        return array\n",
    "    else:\n",
    "        left,right =list(),list()\n",
    "        pivot = array[0]\n",
    "        for i in range(1,len(array)):\n",
    "            if pivot > array[i]:\n",
    "                left.append(array[i])\n",
    "            else:\n",
    "                right.append(array[i])\n",
    "        return qsort(left) + [pivot] + qsort(right)\"\"\"\n",
    "    \n",
    "#위와 같은 퀵정렬은 최대 O(n^2)이기 때문에 쓰면안된다 수가 100만개 이기때문이다.\n",
    "test_case = int(input())\n",
    "input_value = list()\n",
    "\n",
    "for i in range(test_case):\n",
    "    n = input()\n",
    "    input_value.append(n)\n",
    "\n",
    "mergesplit(input_value)\n",
    "\n",
    "for i in range(len(result)):\n",
    "    print(result[i])\n",
    "#위의 코드는 파이썬 기본내장함수 sorted를 사용했을 경우이다.\n",
    "################################################################################\n",
    "def mergesplit(array):\n",
    "    \n",
    "    #left ,right = list(),list()\n",
    "    if len(array) <=1:\n",
    "        return array\n",
    "    else:\n",
    "        mid = len(array)/2\n",
    "        left = mergesplit(array[:mid])\n",
    "        right = mergesplit(array[mid:])\n",
    "        return merge(left,right)\n",
    "#################################################################################\n",
    "def merge(left,right):\n",
    "    merged =list()\n",
    "    left_point = 0\n",
    "    right_point = 0\n",
    "    \n",
    "    while len(left)>left_point and len(right)>right_point:\n",
    "        if left[left_point] > right[right_point]:\n",
    "            merged.append(right[right_point])\n",
    "            right_point = right_point+1\n",
    "        else:\n",
    "            merged.append(left[left_point])\n",
    "            left_point = left_point+1\n",
    "    \n",
    "    while len(right) > right_point:\n",
    "        merged.append(right[right_point])\n",
    "        right_point = right_point+1\n",
    "        \n",
    "    while len(left)> left_point:\n",
    "        merged.append(left[left_point])\n",
    "        left_point = left_point+1\n",
    "        \n",
    "    return merged\n",
    "    \n",
    "    \n",
    "for i in range(test_case):\n",
    "    n = input()\n",
    "    input_value.append(n)\n",
    "\n",
    "result=mergesplit(input_value)\n",
    "\n",
    "for i in range(len(result)):\n",
    "    print(result[i])"
   ]
  },
  {
   "cell_type": "markdown",
   "metadata": {},
   "source": [
    "# 파이썬은 약 1초에 2천만개의 연산을 한다고 생각해라 진짜진짜진짜 최대 맥시멈이 5천만이다"
   ]
  },
  {
   "cell_type": "code",
   "execution_count": null,
   "metadata": {},
   "outputs": [],
   "source": []
  }
 ],
 "metadata": {
  "kernelspec": {
   "display_name": "Python 3",
   "language": "python",
   "name": "python3"
  },
  "language_info": {
   "codemirror_mode": {
    "name": "ipython",
    "version": 3
   },
   "file_extension": ".py",
   "mimetype": "text/x-python",
   "name": "python",
   "nbconvert_exporter": "python",
   "pygments_lexer": "ipython3",
   "version": "3.7.4"
  }
 },
 "nbformat": 4,
 "nbformat_minor": 2
}
