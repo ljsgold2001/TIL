{
 "cells": [
  {
   "cell_type": "code",
   "execution_count": null,
   "metadata": {},
   "outputs": [],
   "source": [
    "num = int(input())\n",
    "result = [0] *2*num\n",
    "\n",
    "\n",
    "def find_value(x,_sum):\n",
    "    if ( x ==2*num ):\n",
    "        if(_sum ==0 ):\n",
    "            print(result)\n",
    "    \n",
    "    else:\n",
    "        for i in range(1,3):\n",
    "            \n",
    "            if(i ==1 ):\n",
    "                result[x] = \"(\"\n",
    "                find_value(x+1,_sum+1)\n",
    "                \n",
    "            if(i ==2):\n",
    "                result[x] = \")\"\n",
    "                if(result[0] != \")\"):\n",
    "                    find_value(x+1,_sum-1)\n",
    "            \n",
    "            \n",
    "        \n",
    "\n",
    "find_value(0,0)\n",
    "result = [[0]*num ]*num\n",
    "\n",
    "\n",
    "\n"
   ]
  },
  {
   "cell_type": "code",
   "execution_count": 29,
   "metadata": {},
   "outputs": [
    {
     "name": "stdout",
     "output_type": "stream",
     "text": [
      "3\n",
      "1 1\n",
      "1 1\n",
      "1 1\n",
      "[[1, 1, 1], [1, 1, 1], [1, 1, 1]]\n"
     ]
    }
   ],
   "source": [
    "def find_comb(x,y):\n",
    "    \n",
    "    if (x ==num):\n",
    "        for i in range(x):\n",
    "            result[y][i] = result2[i]\n",
    "        y = y+1\n",
    "    else:\n",
    "        for i in range(2):\n",
    "            result2[x] =i\n",
    "            find_comb(x+1,y)\n",
    "            \n",
    "            \n",
    "            \n",
    "    \n",
    "\n",
    "num  = int(input())\n",
    "t= [0]*(num+1)\n",
    "p=[0]*(num+1)\n",
    "comb_num =0\n",
    "\n",
    "result = [[0]*num ]*num\n",
    "result2 = [0] *num\n",
    "for i in range(1,num+1):\n",
    "    t[i] , p[i] =  map(int, input().split())\n",
    "    \n",
    "    \n",
    "find_comb(0,comb_num)\n",
    "\n",
    "print(result)\n",
    "\n"
   ]
  },
  {
   "cell_type": "markdown",
   "metadata": {},
   "source": [
    "## 3\n",
    "10"
   ]
  },
  {
   "cell_type": "code",
   "execution_count": null,
   "metadata": {},
   "outputs": [],
   "source": []
  }
 ],
 "metadata": {
  "kernelspec": {
   "display_name": "Python 3",
   "language": "python",
   "name": "python3"
  },
  "language_info": {
   "codemirror_mode": {
    "name": "ipython",
    "version": 3
   },
   "file_extension": ".py",
   "mimetype": "text/x-python",
   "name": "python",
   "nbconvert_exporter": "python",
   "pygments_lexer": "ipython3",
   "version": "3.7.4"
  }
 },
 "nbformat": 4,
 "nbformat_minor": 2
}
