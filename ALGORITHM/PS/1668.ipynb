{
 "cells": [
  {
   "cell_type": "markdown",
   "metadata": {},
   "source": [
    "문제\n",
    "민식이는 “오민식”이라는 팀이름으로 수없이 많은 로봇대회를 우승했다. 따라서 민식이의 집에는 트로피가 많다. 민식이는 트로피를 어떤 선반 위에 올려놨다. 이 선반은 민식이의 방문을 열고 들어가자마자 선반의 왼쪽이 보인다. 다른말로 하자면, 뒤의 트로피가 앞의 트로피에 가려져 있다는 말이다.\n",
    "\n",
    "안타깝게도, 높이가 큰 트로피가 높이가 작은 트로피의 왼쪽에 있다면, 높이가 작은 트로피는 큰 트로피에 가려서 보이지 않게 된다. 트로피는 자기의 앞에 (보는 사람의 관점에서) 자기보다 높이가 작은 트로피가 있을 때만 보이게 된다. 민식이는 선반을 180도 회전시켜서 트로피가 보이는 개수를 변하게 할 수도 있다.\n",
    "\n",
    "선반위에 올려져 있는 트로피의 높이가 주어졌을 때, 왼쪽에서 봤을 때 보이는 개수와, 오른쪽에서 봤을 때 보이는 개수를 출력하는 프로그램을 작성하시오.\n",
    "\n",
    "입력\n",
    "첫째 줄에 트로피의 개수 N (1 ≤ N ≤ 50)이 주어진다. 둘째 줄부터 N개의 줄에 왼쪽의 트로피부터 차례대로 높이가 주어진다. 트로피의 높이는 100보다 작거나 같은 자연수이다.\n",
    "\n",
    "출력\n",
    "첫째 줄에 왼쪽에서 봤을 때 보이는 개수, 둘째 줄에 오른쪽에서 봤을 때 보이는 개수를 출력한다."
   ]
  },
  {
   "cell_type": "code",
   "execution_count": 6,
   "metadata": {},
   "outputs": [
    {
     "name": "stdout",
     "output_type": "stream",
     "text": [
      "5\n",
      "1\n",
      "2\n",
      "3\n",
      "4\n",
      "5\n",
      "5\n",
      "1\n"
     ]
    }
   ],
   "source": [
    "test_case = int(input())\n",
    "t_num = list()\n",
    "\n",
    "for i in range(test_case):\n",
    "    n = int(input())\n",
    "    t_num.append(n)\n",
    "\n",
    "count = 1\n",
    "max_ = t_num[0]\n",
    "for i in range(len(t_num)-1):\n",
    "    if(max_<t_num[i+1]):\n",
    "        count = count+1\n",
    "        max_ = t_num[i+1]\n",
    "\n",
    "print(count)\n",
    "\n",
    "t_num.reverse()\n",
    "\n",
    "count = 1\n",
    "max_ = t_num[0]\n",
    "for i in range(len(t_num)-1):\n",
    "    if(max_<t_num[i+1]):\n",
    "        count = count+1\n",
    "        max_ = t_num[i+1]\n",
    "print(count)\n",
    "\n",
    "\n",
    "\n",
    "\n",
    "\n",
    "        \n",
    "    \n",
    "\n",
    "\n",
    "    "
   ]
  },
  {
   "cell_type": "markdown",
   "metadata": {},
   "source": [
    "# 생각의흐름\n",
    "\n",
    "## 1.for문 while문? \n",
    "## 2.배열의 최댓값까지만 가서 비교해도될거같은데? \n",
    "    - 여기서의 미스 : 계속 array[0]과 비교했다. 순차적으로 직전원소와 다음 원소를 비교하면서 올라가야한다.\n",
    "## 3. range(1,len(array))로 갈껀지 range(len(array)-1)로 갈껀지\n",
    "    - 결국 같은말이지만 인덱스 구분을 좀더 명확히해줄필요가 있다.\n",
    "## 4. 배열뒤집기\n",
    "        -for문의 조건에 -1을 붙일것인지 reverse()를 사용할것인지\n",
    "## 5. 출력문이전의 for문을 함수로 구현했다면 조금더 깔끔한 코드가 됬을것이다.\n",
    "\n",
    "## 6. 에러가났을때 print문으로 계속 디버깅을 하면서 찾아보자"
   ]
  },
  {
   "cell_type": "code",
   "execution_count": null,
   "metadata": {},
   "outputs": [],
   "source": []
  }
 ],
 "metadata": {
  "kernelspec": {
   "display_name": "Python 3",
   "language": "python",
   "name": "python3"
  },
  "language_info": {
   "codemirror_mode": {
    "name": "ipython",
    "version": 3
   },
   "file_extension": ".py",
   "mimetype": "text/x-python",
   "name": "python",
   "nbconvert_exporter": "python",
   "pygments_lexer": "ipython3",
   "version": "3.7.4"
  }
 },
 "nbformat": 4,
 "nbformat_minor": 2
}
