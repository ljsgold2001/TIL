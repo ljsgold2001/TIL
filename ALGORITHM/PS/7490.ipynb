{
 "cells": [
  {
   "cell_type": "code",
   "execution_count": 2,
   "metadata": {},
   "outputs": [
    {
     "name": "stdout",
     "output_type": "stream",
     "text": [
      "2\n",
      "3\n",
      "1+2-3\n",
      "1-2-3\n",
      "7\n",
      "1+2-3+4-5-6+7\n",
      "1+2-3-4+5+6-7\n",
      "1-2 3+4+5+6+7\n",
      "1-2 3-4 5+6 7\n",
      "1-2+3+4-5+6-7\n",
      "1-2-3-4-5+6+7\n",
      "1-2-3-4-5-6-7\n"
     ]
    }
   ],
   "source": [
    "import copy\n",
    "\n",
    "test_case = int(input())\n",
    "\n",
    "def recursive(array , n):\n",
    "    if len(array) ==n:\n",
    "        operators_list.append(copy.deepcopy(array))\n",
    "        return\n",
    "    \n",
    "    array.append(' ')\n",
    "    recursive(array, n)\n",
    "    array.pop()\n",
    "    \n",
    "    array.append('+')\n",
    "    recursive(array,n)\n",
    "    array.pop()\n",
    "    \n",
    "    array.append('-')\n",
    "    recursive(array,n)\n",
    "    array.pop()\n",
    "    \n",
    "    #이 재귀호출이 전부다 돌고나면 만약 입력이 3일경우에 들어가야하는 연산자2개에대한 모든 경우의수가 oper\n",
    "    #operators_list에 담기게 된다.\n",
    "    \n",
    "for _ in range(test_case):\n",
    "    operators_list = [] # 테스트 케이스까 돌대마다 operators_list를 초기화시켜줘야한다.\n",
    "    n = int(input()) #어디까지 돌아야하는지 알려주는 변수\n",
    "    recursive([] , n-1) #재귀호출을 이용해서 연산자의 조합을 만들어준다.\n",
    "    \n",
    "    integers = [i for i in range(1,n+1)]#만약 입력이 3이면 1,2,3이 들어가는 integers 배열을만들어준다.\n",
    "    \n",
    "    for operators in operators_list: #모든 연산자의 개수동안에\n",
    "        string = \"\"#스트링타입 선언해주고\n",
    "        for i in range(n-1): #범위가 2까지인 이유는 1번int +1연산 + 2번int+2연산 이고 3int연산이 같이못옴\n",
    "            string = string + str(integers[i]) + operators[i]\n",
    "        string += str(integers[-1])#연산자를 제외하고 마지막 수만 들어와야하기때문인다.\n",
    "        if eval(string.replace(\" \",\"\")) ==0:#eval함수는 string값을 그냥 계산해주는것이다 evaluation의 약자\n",
    "            print(string)#string 출력해준다.\n",
    "    print(string)#테스트케이스마다 출력\n",
    "        \n",
    "        "
   ]
  },
  {
   "cell_type": "code",
   "execution_count": null,
   "metadata": {},
   "outputs": [],
   "source": []
  }
 ],
 "metadata": {
  "kernelspec": {
   "display_name": "Python 3",
   "language": "python",
   "name": "python3"
  },
  "language_info": {
   "codemirror_mode": {
    "name": "ipython",
    "version": 3
   },
   "file_extension": ".py",
   "mimetype": "text/x-python",
   "name": "python",
   "nbconvert_exporter": "python",
   "pygments_lexer": "ipython3",
   "version": "3.7.4"
  }
 },
 "nbformat": 4,
 "nbformat_minor": 2
}
