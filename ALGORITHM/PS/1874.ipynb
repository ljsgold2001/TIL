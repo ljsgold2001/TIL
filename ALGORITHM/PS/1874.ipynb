{
 "cells": [
  {
   "cell_type": "code",
   "execution_count": 5,
   "metadata": {},
   "outputs": [
    {
     "name": "stdout",
     "output_type": "stream",
     "text": [
      "4\n",
      "2\n",
      "1\n",
      "4\n",
      "3\n",
      "+\n",
      "+\n",
      "-\n",
      "-\n",
      "+\n",
      "+\n",
      "-\n",
      "-\n"
     ]
    }
   ],
   "source": [
    "num =int( input())\n",
    "count =1\n",
    "stack_list = list()\n",
    "result_list = list()\n",
    "\n",
    "for i in range(1, num +1):\n",
    "    input_value = int(input())\n",
    "    \n",
    "    while count <= input_value:\n",
    "        stack_list.append(count)\n",
    "        count = count +1\n",
    "        result_list.append(\"+\")\n",
    "        \n",
    "    if(stack_list[-1] == input_value):\n",
    "        stack_list.pop()\n",
    "        result_list.append(\"-\")\n",
    "    else:\n",
    "        print(\"NO\")\n",
    "            \n",
    "            \n",
    "for i in range(0,len(result_list)):\n",
    "    print(result_list[i])"
   ]
  },
  {
   "cell_type": "markdown",
   "metadata": {},
   "source": []
  },
  {
   "cell_type": "code",
   "execution_count": null,
   "metadata": {},
   "outputs": [],
   "source": []
  }
 ],
 "metadata": {
  "kernelspec": {
   "display_name": "Python 3",
   "language": "python",
   "name": "python3"
  },
  "language_info": {
   "codemirror_mode": {
    "name": "ipython",
    "version": 3
   },
   "file_extension": ".py",
   "mimetype": "text/x-python",
   "name": "python",
   "nbconvert_exporter": "python",
   "pygments_lexer": "ipython3",
   "version": "3.7.4"
  }
 },
 "nbformat": 4,
 "nbformat_minor": 2
}
