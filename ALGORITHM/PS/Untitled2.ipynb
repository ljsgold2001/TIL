{
 "cells": [
  {
   "cell_type": "code",
   "execution_count": 13,
   "metadata": {},
   "outputs": [
    {
     "name": "stdout",
     "output_type": "stream",
     "text": [
      "Counter({1: 5, 2: 1, 3: 1, 4: 1, 5: 1, 6: 1})\n",
      "Counter({1: 5, 2: 1, 3: 1, 4: 1, 5: 1, 6: 1})\n"
     ]
    }
   ],
   "source": [
    "import collections\n",
    "\n",
    "a = [1,1,1,1,1,2,3,4,5,6]\n",
    "print(collections.Counter(a))\n",
    "list = (collections.Counter(a))\n",
    "print(list)\n",
    "\n",
    "\n"
   ]
  },
  {
   "cell_type": "code",
   "execution_count": null,
   "metadata": {},
   "outputs": [],
   "source": []
  },
  {
   "cell_type": "code",
   "execution_count": 106,
   "metadata": {},
   "outputs": [],
   "source": [
    "def solution(genres, plays):\n",
    "    answer = []\n",
    "    #어떤 장르가 얼마나 재생됬는지 부터 구해봅시다.\n",
    "    totalplay_genres ={}\n",
    "    sorted_genres ={}\n",
    "    count =0\n",
    "    for i in range(len(genres)):\n",
    "        sorted_genres[i] = [genres[i],plays[i]]\n",
    "        if genres[i] not in totalplay_genres:\n",
    "            totalplay_genres[genres[i]] = plays[i]\n",
    "            \n",
    "        else:\n",
    "            totalplay_genres[genres[i]] += plays[i]\n",
    "    \n",
    "    sum_genres = sorted(totalplay_genres.items(), key = lambda x:x[1],reverse = True)\n",
    "    sort_genres = sorted(sorted_genres.items(), key = lambda x:(x[1][1]),reverse = True)\n",
    "    print(sort_genres)\n",
    "    for i in range(len(totalplay_genres)):\n",
    "        count =0\n",
    "        for j in range (len(sort_genres)):\n",
    "            if sort_genres[j][1][0] == sum_genres[i][0] and sort_genres[j][1][1] !=0 :\n",
    "                answer.append(sort_genres[j][0])\n",
    "                count = count +1\n",
    "               \n",
    "            if count  ==2:\n",
    "                print(count)  \n",
    "                break\n",
    "                \n",
    "                    \n",
    "                \n",
    "   \n",
    "    print(answer)\n",
    "                \n",
    "    return answer"
   ]
  },
  {
   "cell_type": "code",
   "execution_count": 108,
   "metadata": {},
   "outputs": [
    {
     "name": "stdout",
     "output_type": "stream",
     "text": [
      "[(12, ['d', 100000]), (5, ['b', 800]), (3, ['a', 600]), (4, ['a', 501]), (1, ['a', 500]), (6, ['b', 500]), (7, ['b', 300]), (2, ['b', 9]), (8, ['b', 2]), (9, ['c', 2]), (11, ['c', 2]), (0, ['c', 1]), (10, ['c', 1])]\n",
      "2\n",
      "2\n",
      "2\n",
      "[12, 5, 6, 3, 4, 9, 11]\n"
     ]
    },
    {
     "data": {
      "text/plain": [
       "[12, 5, 6, 3, 4, 9, 11]"
      ]
     },
     "execution_count": 108,
     "metadata": {},
     "output_type": "execute_result"
    }
   ],
   "source": [
    "genres =['c','a','b','a','a','b','b','b','b','c','c','c','d']\n",
    "plays =[1,500,9, 600, 501, 800,500,300,2,2,1,2,100000]\n",
    "\n",
    "solution(genres,plays)"
   ]
  },
  {
   "cell_type": "code",
   "execution_count": null,
   "metadata": {},
   "outputs": [],
   "source": [
    "genres =['c','a','b','a','a','b','b','b','b','c','c','c','d']\n",
    "plays =[1,500,9, 600, 501, 800,500,300,2,2,1,2,100000]\n",
    "\n",
    "solution(genres,plays)"
   ]
  },
  {
   "cell_type": "code",
   "execution_count": null,
   "metadata": {},
   "outputs": [],
   "source": [
    "if len(answer) %2 ==0:\n",
    "                    if len(answer) != 1:\n",
    "                        break\n",
    "                    if len(answer) ==1:b\n",
    "                        answer.append(sort_genres[j][0])"
   ]
  },
  {
   "cell_type": "code",
   "execution_count": null,
   "metadata": {},
   "outputs": [],
   "source": [
    "     if count %2 ==0:\n",
    "                        break\n",
    "                else:\n",
    "                    count = 0\n",
    "                        "
   ]
  },
  {
   "cell_type": "code",
   "execution_count": null,
   "metadata": {},
   "outputs": [],
   "source": [
    "def solution(genres, plays):\n",
    "    answer = []\n",
    "    #어떤 장르가 얼마나 재생됬는지 부터 구해봅시다.\n",
    "    totalplay_genres ={}\n",
    "    sorted_genres ={}\n",
    "    \n",
    "    for i in range(len(genres)):\n",
    "        sorted_genres[i] = [genres[i],plays[i]]\n",
    "        if genres[i] not in totalplay_genres:\n",
    "            totalplay_genres[genres[i]] = plays[i]\n",
    "            \n",
    "        else:\n",
    "            totalplay_genres[genres[i]] += plays[i]\n",
    "    \n",
    "    sum_genres = sorted(totalplay_genres.items(), key = lambda x:x[1],reverse = True)\n",
    "    sort_genres = sorted(sorted_genres.items(), key = lambda x:(x[1][1]),reverse = True)\n",
    "    print(sort_genres)\n",
    "    for i in range(len(totalplay_genres)):\n",
    "        for j in range (len(sort_genres)):\n",
    "            if sort_genres[j][1][0] == sum_genres[i][0] and sort_genres[j][1][1] !=0 :\n",
    "                answer.append(sort_genres[j][0])\n",
    "                \n",
    "                if len(answer) %2 ==0:\n",
    "                    if len(answer) != 1:\n",
    "                        break\n",
    "                    if len(answer) ==1:\n",
    "                        answer.append(sort_genres[j][0])\n",
    "                \n",
    "   \n",
    "    print(answer)\n",
    "                \n",
    "    return answer"
   ]
  },
  {
   "cell_type": "code",
   "execution_count": 170,
   "metadata": {},
   "outputs": [
    {
     "name": "stdout",
     "output_type": "stream",
     "text": [
      "4\n",
      "7\n",
      "5\n",
      "9\n",
      "#################\n",
      "7\n",
      "5\n",
      "9\n",
      "6\n"
     ]
    }
   ],
   "source": [
    "heights =[6,9,5,7,4]\n",
    "num = len(heights)\n",
    "for i in range(num-1):\n",
    "    print(heights[num-1-i])\n",
    "print(\"#################\")\n",
    "for j in range(1,num):\n",
    "    print( heights[num-1-j])\n",
    "   \n"
   ]
  },
  {
   "cell_type": "code",
   "execution_count": 168,
   "metadata": {},
   "outputs": [
    {
     "name": "stdout",
     "output_type": "stream",
     "text": [
      "5\n",
      "[0, 0, 2, 0, 4]\n"
     ]
    },
    {
     "data": {
      "text/plain": [
       "[0, 0, 2, 0, 4]"
      ]
     },
     "execution_count": 168,
     "metadata": {},
     "output_type": "execute_result"
    }
   ],
   "source": [
    "heights =[6,9,5,7,4]\n",
    "solution(heights)"
   ]
  },
  {
   "cell_type": "code",
   "execution_count": null,
   "metadata": {},
   "outputs": [],
   "source": []
  }
 ],
 "metadata": {
  "kernelspec": {
   "display_name": "Python 3",
   "language": "python",
   "name": "python3"
  },
  "language_info": {
   "codemirror_mode": {
    "name": "ipython",
    "version": 3
   },
   "file_extension": ".py",
   "mimetype": "text/x-python",
   "name": "python",
   "nbconvert_exporter": "python",
   "pygments_lexer": "ipython3",
   "version": "3.7.4"
  }
 },
 "nbformat": 4,
 "nbformat_minor": 2
}
