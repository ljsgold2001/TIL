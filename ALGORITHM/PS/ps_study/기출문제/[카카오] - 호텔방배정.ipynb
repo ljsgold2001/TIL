{
 "cells": [
  {
   "cell_type": "code",
   "execution_count": null,
   "metadata": {},
   "outputs": [],
   "source": [
    "import sys\n",
    "sys.setrecursionlimit(10000000)\n",
    "\n",
    "def findroom(demand, demandedroom):\n",
    "    \n",
    "    if demand not in demandedroom:\n",
    "        demandedroom[demand] = demand +1\n",
    "        return demand\n",
    "    else:\n",
    "        #return findroom(demandedroom[demand],demandedroom)이코드를 사용했을때 정확성은 맞고 효율성 틀림\n",
    "        temp = findroom(demandedroom[demand],demandedroom)\n",
    "        demandedroom[demand] = temp +1\n",
    "        return temp\n",
    "    \n",
    "    \n",
    "\n",
    "def solution(k, room_number):\n",
    "    answer = []\n",
    "    demandedroom = dict()\n",
    "    for demand in room_number: # room_number배열에서 한개의 방을 일단 꺼낸다.\n",
    "        #변수 = findroom의결과\n",
    "        result = findroom(demand ,demandedroom)\n",
    "        \n",
    "        #결과를 answer에 삽입\n",
    "        answer.append(result)\n",
    "    return answer"
   ]
  }
 ],
 "metadata": {
  "kernelspec": {
   "display_name": "Python 3",
   "language": "python",
   "name": "python3"
  },
  "language_info": {
   "codemirror_mode": {
    "name": "ipython",
    "version": 3
   },
   "file_extension": ".py",
   "mimetype": "text/x-python",
   "name": "python",
   "nbconvert_exporter": "python",
   "pygments_lexer": "ipython3",
   "version": "3.7.4"
  }
 },
 "nbformat": 4,
 "nbformat_minor": 2
}
