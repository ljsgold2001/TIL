{
 "cells": [
  {
   "cell_type": "code",
   "execution_count": null,
   "metadata": {},
   "outputs": [],
   "source": [
    "from collections import deque\n",
    "\n",
    "#20만이나오면 이진탐색 포문으로 못푼다.\n",
    "def solution(stones, k):\n",
    "    people = 0\n",
    "    zerocount = 0\n",
    "    stop = 0\n",
    "    while(zerocount <= k):   \n",
    "        zerocount = 0\n",
    "        for i in range(len(stones)):\n",
    "            if stones[i] >0:\n",
    "                stones[i] = stones [i] -1\n",
    "                zerocount = 0\n",
    "            else:\n",
    "                zerocount  = zerocount+1\n",
    "                if(zerocount >=k):\n",
    "                    stop = 1\n",
    "                    break\n",
    "        if stop ==1:\n",
    "            break\n",
    "        people = people +1        \n",
    "        \n",
    "    \n",
    "    \n",
    "    return people\n",
    "    \n",
    "\n",
    "\n"
   ]
  },
  {
   "cell_type": "code",
   "execution_count": null,
   "metadata": {},
   "outputs": [],
   "source": [
    "##코드 완성해보기\n",
    "\n",
    "def solution(stones, k):\n",
    "    answer = 0\n",
    "    zerocheck = 0\n",
    "    _min = min(stones)\n",
    "    _max = max(stones)\n",
    "    _mid = (_min + _max) //2\n",
    "    while(_min <= _max):\n",
    "        checkResult = validcheck(stones,_min,_max)\n",
    "        \n",
    "        if checkResult ==False:\n",
    "            _max = _mid-1\n",
    "            validcheck(stones,_min,_max)\n",
    "        else:# checkResult == True\n",
    "            _min = mid+1\n",
    "            validcheck(stones,_min,_max)\n",
    "            \n",
    "    return answer\n",
    "\n",
    "\n",
    "def validcheck(stones, _min, _max):\n",
    "    people = 0\n",
    "    stop =0\n",
    "    mid = (_min+_max)//2\n",
    "    while(zerocheck <=k):\n",
    "        for i in range(len(stones)):\n",
    "            if stones[i] - mid>0:\n",
    "                stones[i] = stones[i] - mid\n",
    "                zerocheck = 0# 이부분 내가 놓쳤다.\n",
    "            else: #stones[i]-mid<=0\n",
    "                zerocheck = zerocheck+1\n",
    "                if(zerocheck >=k):\n",
    "                    stop =1\n",
    "                    break\n",
    "        if stop ==1:\n",
    "            return False\n",
    "        else:\n",
    "            return True\n",
    "\n"
   ]
  },
  {
   "cell_type": "code",
   "execution_count": 1,
   "metadata": {},
   "outputs": [
    {
     "name": "stdout",
     "output_type": "stream",
     "text": [
      "2\n"
     ]
    }
   ],
   "source": [
    "print((3+2)//2)"
   ]
  },
  {
   "cell_type": "code",
   "execution_count": null,
   "metadata": {},
   "outputs": [],
   "source": []
  }
 ],
 "metadata": {
  "kernelspec": {
   "display_name": "Python 3",
   "language": "python",
   "name": "python3"
  },
  "language_info": {
   "codemirror_mode": {
    "name": "ipython",
    "version": 3
   },
   "file_extension": ".py",
   "mimetype": "text/x-python",
   "name": "python",
   "nbconvert_exporter": "python",
   "pygments_lexer": "ipython3",
   "version": "3.7.4"
  }
 },
 "nbformat": 4,
 "nbformat_minor": 2
}
