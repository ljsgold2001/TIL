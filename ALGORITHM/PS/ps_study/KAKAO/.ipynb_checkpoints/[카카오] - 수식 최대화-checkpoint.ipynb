{
 "cells": [
  {
   "cell_type": "code",
   "execution_count": 59,
   "metadata": {},
   "outputs": [],
   "source": [
    "from itertools import permutations\n",
    "import re\n",
    "import copy\n",
    "\n",
    "def solution(expression):\n",
    "    #우선순위를 정함\n",
    "    answer = 0\n",
    "    finalslice = []\n",
    "    item = ['*' , '+' , '-']\n",
    "    combi = list(permutations(item,3)) \n",
    "    #[('*', '+', '-'), ('*', '-', '+'), ('+', '*', '-'), ('+', '-', '*'), ('-', '*', '+'), ('-', '+', '*')]\n",
    "    #permutations함수 사용시에 리스트안에 튜플형식으로 반환된다.\n",
    "    numslicing = re.findall('\\d+',expression)\n",
    "    #['100', '200', '300', '500', '20']\n",
    "    #list형식으로 반환된다. 정규표현식 반환타입은 STR값\n",
    "    notnum = re.findall('\\D+',expression)\n",
    "    \n",
    "    #위에까지 과정으로 숫자와 기호값을 분리한다.\n",
    "    #밑의 과정을 통해서 숫자와 숫자가 아닌 하나의 리스트를 만들어준다.\n",
    "    for i in range(len(notnum)):\n",
    "        finalslice.append(numslicing[i])\n",
    "        finalslice.append(notnum[i])\n",
    "    finalslice.append(numslicing[-1])\n",
    "    #print(finalslice) ['100', '-', '200', '*', '300', '-', '500', '+', '20']\n",
    "    #밑의 식은 해도되고 안해도된다.\n",
    "    #if len(finalslice) ==3:\n",
    "       # midcal = finalslice[0] + finalslice[1] + finalslice[2]\n",
    "        #return abs(eval(midcal))\n",
    "\n",
    "    \n",
    "   # else:\n",
    "    for operator in combi:#첫번째로 우선순위에 따른 기호리스트중 한개를 빼온다.\n",
    "        copyed = finalslice.copy() # finalslice는 계속해서 써야하기때문에 복사해두고\n",
    "        for each_operator in operator: #빼온 기호리스트중에서 첫번째 우선순위를 뺀다.\n",
    "            idx= 0 #while문 변수\n",
    "            while(idx < len(copyed)):#finalslice가 끝까지 닿을때까지 진행하는데\n",
    "                if copyed[idx] == each_operator:#finalslice에서 첫번째 우선순위의 기호를 만났을때\n",
    "                    if each_operator ==\"-\":#만약 - 이면 \n",
    "                        cal = int(copyed[idx-1]) - int(copyed[idx+1])#str값이기때문에 int붙이기\n",
    "                    elif each_operator ==\"+\":\n",
    "                        cal = int(copyed[idx-1]) + int(copyed[idx+1])\n",
    "                    else:\n",
    "                        cal = int(copyed[idx-1]) *int(copyed[idx+1])\n",
    "                    #하나의 연산이 끝나면 숫자두개와 기호하나를 계산한값결과가 반영된 새로운리스트를 만듬\n",
    "                    copyed = copyed[:idx -1] + list(str(cal).split()) + copyed[idx+2:]\n",
    "                    #그이후 남은 연산자의 과정을 while문에돈다.\n",
    "                else:#한번돌면 while문 idx+1증가\n",
    "                    idx +=1\n",
    "        #while문이아닌 하나의 우선순위경우의수 연산자가 끝났을경우에 절대값최대를 계산해야함\n",
    "        answer = max(answer , abs(int(copyed[0])))\n",
    "    return answer\n",
    "\n"
   ]
  },
  {
   "cell_type": "code",
   "execution_count": 60,
   "metadata": {
    "scrolled": true
   },
   "outputs": [
    {
     "name": "stdout",
     "output_type": "stream",
     "text": [
      "['100', '-', '200', '*', '300', '-', '500', '+', '20']\n"
     ]
    },
    {
     "data": {
      "text/plain": [
       "60420"
      ]
     },
     "execution_count": 60,
     "metadata": {},
     "output_type": "execute_result"
    }
   ],
   "source": [
    "solution(\"100-200*300-500+20\"\t)"
   ]
  }
 ],
 "metadata": {
  "kernelspec": {
   "display_name": "Python 3",
   "language": "python",
   "name": "python3"
  },
  "language_info": {
   "codemirror_mode": {
    "name": "ipython",
    "version": 3
   },
   "file_extension": ".py",
   "mimetype": "text/x-python",
   "name": "python",
   "nbconvert_exporter": "python",
   "pygments_lexer": "ipython3",
   "version": "3.7.4"
  }
 },
 "nbformat": 4,
 "nbformat_minor": 2
}
