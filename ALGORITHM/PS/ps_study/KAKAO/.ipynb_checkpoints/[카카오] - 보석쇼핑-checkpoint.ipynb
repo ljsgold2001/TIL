{
 "cells": [
  {
   "cell_type": "markdown",
   "metadata": {},
   "source": [
    "### 정확성 100% 효율성 2개 통과"
   ]
  },
  {
   "cell_type": "code",
   "execution_count": null,
   "metadata": {},
   "outputs": [],
   "source": [
    "\n",
    "\n",
    "def solution(gems):\n",
    "    answer = []\n",
    "    low = 0\n",
    "    high = 0\n",
    "    \n",
    "    gem = set(gems) #비교해야하는 값\n",
    "\n",
    "    while (low <=high and high <=len(gems)):\n",
    "        if set(gems[low:high+1]) == gem:\n",
    "            if len(answer) ==0:\n",
    "                answer.append([low+1,high+1])\n",
    "            else:\n",
    "                if high - low < answer[0][1] - answer[0][0] :\n",
    "                    answer[0] = [ low+1,high+1]                \n",
    "            low = low+1\n",
    "            \n",
    "        else:\n",
    "            if len(set(gems[low:high+1])) <len(gem):\n",
    "                high = high +1\n",
    "    return(answer[0])\n",
    "                \n",
    "    \n",
    "    "
   ]
  }
 ],
 "metadata": {
  "kernelspec": {
   "display_name": "Python 3",
   "language": "python",
   "name": "python3"
  },
  "language_info": {
   "codemirror_mode": {
    "name": "ipython",
    "version": 3
   },
   "file_extension": ".py",
   "mimetype": "text/x-python",
   "name": "python",
   "nbconvert_exporter": "python",
   "pygments_lexer": "ipython3",
   "version": "3.7.4"
  }
 },
 "nbformat": 4,
 "nbformat_minor": 2
}
