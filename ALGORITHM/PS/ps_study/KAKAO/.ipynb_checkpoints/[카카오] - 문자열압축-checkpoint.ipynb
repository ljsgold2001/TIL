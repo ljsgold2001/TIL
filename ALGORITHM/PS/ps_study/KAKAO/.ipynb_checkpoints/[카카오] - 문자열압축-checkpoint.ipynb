{
 "cells": [
  {
   "cell_type": "markdown",
   "metadata": {},
   "source": [
    "### 다시복습"
   ]
  },
  {
   "cell_type": "code",
   "execution_count": 1,
   "metadata": {},
   "outputs": [],
   "source": [
    "def solution(s):\n",
    "    answer =\"\"\n",
    "    array =[]\n",
    "    \n",
    "    if len(s)<3:\n",
    "        return len(s)\n",
    "    \n",
    "    for pivot in range(1,len(s)//2 +1):\n",
    "        count =1\n",
    "        temp = s[:pivot]\n",
    "        \n",
    "        for start in range(pivot,len(s),pivot):\n",
    "            if s[start : start+pivot] ==temp:\n",
    "                count +=1\n",
    "            else:\n",
    "                if count == 1:\n",
    "                    count=\"\"\n",
    "                answer += str(count) +temp\n",
    "                temp = s[start : start+pivot]\n",
    "                count =1\n",
    "        if count ==1:\n",
    "            count =\"\"\n",
    "        answer += str(count) + temp\n",
    "        array.append(len(answer))\n",
    "       \n",
    "        answer =\"\"\n",
    "        \n",
    "    \n",
    "    return min(array)"
   ]
  }
 ],
 "metadata": {
  "kernelspec": {
   "display_name": "Python 3",
   "language": "python",
   "name": "python3"
  },
  "language_info": {
   "codemirror_mode": {
    "name": "ipython",
    "version": 3
   },
   "file_extension": ".py",
   "mimetype": "text/x-python",
   "name": "python",
   "nbconvert_exporter": "python",
   "pygments_lexer": "ipython3",
   "version": "3.7.4"
  }
 },
 "nbformat": 4,
 "nbformat_minor": 2
}
