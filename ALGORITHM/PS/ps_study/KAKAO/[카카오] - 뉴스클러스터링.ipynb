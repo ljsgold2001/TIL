{
 "cells": [
  {
   "cell_type": "markdown",
   "metadata": {},
   "source": [
    "\n",
    "### set은 중복 집합비교가 되지않기때문에 counter를 이용해서 사용한다."
   ]
  },
  {
   "cell_type": "code",
   "execution_count": null,
   "metadata": {},
   "outputs": [],
   "source": [
    "import re\n",
    "import math\n",
    "from collections import Counter\n",
    "def solution(str1, str2):    \n",
    "    answer = 0\n",
    "    temp1 = []\n",
    "    temp2 = []\n",
    "    \n",
    "    for i in range(len(str1)-1):\n",
    "        temp = re.sub('[^A-Za-z]','',str1[i:i+2].upper())\n",
    "        if len(temp) == 2: \n",
    "            temp1.append(temp)\n",
    "        \n",
    "    for i in range(len(str2)-1):\n",
    "        temp = re.sub('[^A-Za-z]','',str2[i:i+2].upper())\n",
    "        if len(temp) == 2:\n",
    "            temp2.append(temp)\n",
    "#여기까지 숫자 , 기호 공백을 전부다 제거하고 하나의 기준인 대문자로 변환해준다.\n",
    "    \n",
    "    \n",
    "    if len(temp1)==0 and len(temp2) == 0:\n",
    "        return(65536) # 만약 둘다 공집합이면 65536을 리턴해준다.\n",
    "    temp1count = Counter(temp1)\n",
    "    temp2count = Counter(temp2)\n",
    "    print(temp1count)#\t<class 'collections.Counter'>\n",
    "                                #Counter({'HA': 2, 'SH': 1, 'AK': 1, 'KE': 1, 'AN': 1, 'ND': 1, 'DS': 1}) 이형식이기때문에 이것을 접근하려면 element라는 함수를 사용해야한다.\n",
    "    print(temp2count)\n",
    "    intercount = len(list((temp1count & temp2count).elements())) #list로 변환하면 그대로 리스트로 변환됨 교집합 ,합집합 사용가능\n",
    "    unicount = len(temp1) + len(temp2) - intercount #드모르간법칙\n",
    "    return int((intercount/unicount)*65536)"
   ]
  }
 ],
 "metadata": {
  "kernelspec": {
   "display_name": "Python 3",
   "language": "python",
   "name": "python3"
  },
  "language_info": {
   "codemirror_mode": {
    "name": "ipython",
    "version": 3
   },
   "file_extension": ".py",
   "mimetype": "text/x-python",
   "name": "python",
   "nbconvert_exporter": "python",
   "pygments_lexer": "ipython3",
   "version": "3.7.4"
  }
 },
 "nbformat": 4,
 "nbformat_minor": 2
}
