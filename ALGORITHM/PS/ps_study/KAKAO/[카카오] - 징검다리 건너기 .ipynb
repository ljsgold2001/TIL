{
 "cells": [
  {
   "cell_type": "markdown",
   "metadata": {},
   "source": [
    "## 정확성만 맞는 코드\n"
   ]
  },
  {
   "cell_type": "code",
   "execution_count": null,
   "metadata": {},
   "outputs": [],
   "source": [
    "from collections import deque\n",
    "\n",
    "#20만이나오면 이진탐색 포문으로 못푼다.\n",
    "def solution(stones, k):\n",
    "    people = 0\n",
    "    zerocount = 0\n",
    "    stop = 0\n",
    "    while(zerocount <= k):   \n",
    "        zerocount = 0\n",
    "        for i in range(len(stones)):\n",
    "            if stones[i] >0:\n",
    "                stones[i] = stones [i] -1\n",
    "                zerocount = 0\n",
    "            else:\n",
    "                zerocount  = zerocount+1\n",
    "                if(zerocount >=k):\n",
    "                    stop = 1\n",
    "                    break\n",
    "        if stop ==1:\n",
    "            break\n",
    "        people = people +1        \n",
    "        \n",
    "    \n",
    "    \n",
    "    return people\n",
    "    \n",
    "\n",
    "\n"
   ]
  },
  {
   "cell_type": "markdown",
   "metadata": {},
   "source": [
    "### 정확성과 효율성 전부다 맞음\n"
   ]
  },
  {
   "cell_type": "code",
   "execution_count": 2,
   "metadata": {},
   "outputs": [],
   "source": [
    "def checkValid(stones, k , _mid):\n",
    "    zerocheck = 0\n",
    "    stop = 0\n",
    "    \n",
    "    for i in range(len(stones)):\n",
    "        \n",
    "        if (stones[i] - _mid >0):\n",
    "            zerocheck = 0\n",
    "        else:\n",
    "            zerocheck = zerocheck +1\n",
    "        if zerocheck >=k:\n",
    "            stop =1\n",
    "            break\n",
    "    if stop ==1:\n",
    "        return False\n",
    "    else:\n",
    "        return True\n",
    "        \n",
    "def solution(stones, k):\n",
    "    \n",
    "    _min = min(stones)\n",
    "    _max = max(stones)\n",
    "    \n",
    "    while(_min <= _max):\n",
    "        _mid = (_min + _max)//2\n",
    "        check = checkValid(stones , k , _mid)\n",
    "        \n",
    "        if check ==True:\n",
    "            _min = _mid+1\n",
    "\n",
    "        else:\n",
    "            _max = _mid -1\n",
    "        \n",
    "    \n",
    "    return _min"
   ]
  },
  {
   "cell_type": "code",
   "execution_count": null,
   "metadata": {},
   "outputs": [],
   "source": []
  }
 ],
 "metadata": {
  "kernelspec": {
   "display_name": "Python 3",
   "language": "python",
   "name": "python3"
  },
  "language_info": {
   "codemirror_mode": {
    "name": "ipython",
    "version": 3
   },
   "file_extension": ".py",
   "mimetype": "text/x-python",
   "name": "python",
   "nbconvert_exporter": "python",
   "pygments_lexer": "ipython3",
   "version": "3.7.4"
  }
 },
 "nbformat": 4,
 "nbformat_minor": 2
}
