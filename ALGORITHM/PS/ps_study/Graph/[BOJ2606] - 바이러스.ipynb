{
 "cells": [
  {
   "cell_type": "code",
   "execution_count": null,
   "metadata": {},
   "outputs": [],
   "source": [
    "from collections import deque\n",
    "\n",
    "def bfs(x):\n",
    "    global count\n",
    "    \n",
    "    visited[x] = 1\n",
    "    q.append(x)\n",
    "    \n",
    "    while q:\n",
    "        x = q.popleft()\n",
    "        \n",
    "        for i in range(len(a[x])):\n",
    "            w = a[x][i]\n",
    "            if (visited[w] != 1):\n",
    "                visited[w] =1\n",
    "                count +=1#인접한곳을 갈때마다 count를 1씩 증가시켜서 연결된것이 전부 몇개인지 확인해준다.\n",
    "                q.append(w)\n",
    "        \n",
    "node = int(input())\n",
    "edge = int(input())\n",
    "\n",
    "a =[ [] for _ in range(node+1)]\n",
    "visited =[ 0 for _ in range(node +1)]\n",
    "count = 0\n",
    "q = deque()\n",
    "\n",
    "for i in range(edge):\n",
    "    x,y = map(int, input().split())\n",
    "    a[x].append(y)\n",
    "    a[y].append(x)\n",
    "\n",
    "bfs(1)#BFS 시작\n",
    "print(count)"
   ]
  },
  {
   "cell_type": "code",
   "execution_count": null,
   "metadata": {},
   "outputs": [],
   "source": [
    "7\n",
    "6\n",
    "1 2\n",
    "2 3\n",
    "1 5\n",
    "5 2\n",
    "5 6\n",
    "4 7"
   ]
  }
 ],
 "metadata": {
  "kernelspec": {
   "display_name": "Python 3",
   "language": "python",
   "name": "python3"
  },
  "language_info": {
   "codemirror_mode": {
    "name": "ipython",
    "version": 3
   },
   "file_extension": ".py",
   "mimetype": "text/x-python",
   "name": "python",
   "nbconvert_exporter": "python",
   "pygments_lexer": "ipython3",
   "version": "3.7.4"
  }
 },
 "nbformat": 4,
 "nbformat_minor": 2
}
