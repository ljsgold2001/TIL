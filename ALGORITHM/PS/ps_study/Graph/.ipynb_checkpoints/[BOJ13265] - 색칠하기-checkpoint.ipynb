{
 "cells": [
  {
   "cell_type": "code",
   "execution_count": 25,
   "metadata": {},
   "outputs": [
    {
     "name": "stdout",
     "output_type": "stream",
     "text": [
      "1\n",
      "4 5\n",
      "1 2\n",
      "2 3\n",
      "3 4\n",
      "1 3\n",
      "2 4\n",
      "impossible\n"
     ]
    }
   ],
   "source": [
    "from collections import deque\n",
    "\n",
    "\n",
    "def bfs(x):#색칠비교 + BFS\n",
    "    global stop\n",
    "    q.append(x)#큐에넣어주고\n",
    "    visited[x] =1#방문한 초기설정\n",
    "    color[x] = 1 #색깔이 1이라고 가정 다음 인접한 노드들은 색깔들이 2여야한다.\n",
    "    \n",
    "    while q:\n",
    "        x = q.popleft() # 한가지를 pop하고\n",
    "        \n",
    "        for i in range(len(a[x])): #반복문이 도는 이유는 인접한 모든 노드들에관하여야 하기때문에\n",
    "            w = a[x][i] #i번째 인접노드\n",
    "            if ( visited[w] == 0 ): #방문을 아직 하지않은노드라면? - >방문하고 색깔을 바꿔야한다.ex이전이 1이었으면 다음은 2 2였으면 다음은 1\n",
    "                visited[w] = 1#방문함을 알리고\n",
    "                if ( color[x] == 1):#현재 색깔이 1이라면\n",
    "                    color[w]= 2#다음은 2가되어야함\n",
    "                else:#현재 색깔이 2라면\n",
    "                    color[w] =1#다음은 1이되어야함\n",
    "                q.append(w) #다했다면 인접노드들을 다시 큐에 추가시켜야한다.\n",
    "            \n",
    "            \n",
    "            if (visited[w] ==1  and color[x] ==color[w]): #내가 방문한 전노드랑 색깔이 같을때\n",
    "                \n",
    "                stop +=1 #플래그를 위해서\n",
    "                \n",
    "                return -1\n",
    "                \n",
    "test_case = int(input())\n",
    "\n",
    "for  _ in range(test_case):\n",
    "    \n",
    "    vertex , edge = map(int, input().split())\n",
    "    a =[ [] for _ in range(vertex+1)]\n",
    "    color =[ 0 for _ in range(vertex+1)]#+1해준것은 1번노드 그래프가 0번 인덱스 보다는 1번인덱스에 저장되게 하기위해서\n",
    "    visited= [0 for _ in range(vertex+1)]\n",
    "    stop =0\n",
    "    q = deque() #deque 라이브러리\n",
    "    for i in range(edge):\n",
    "        x,y = map(int, input().split())\n",
    "        a[x].append(y)\n",
    "        a[y].append(x)#교차되는것은 쌍방이기때문에\n",
    "        \n",
    "    \n",
    "    bfs(1)\n",
    "    \n",
    "    for i in range(len(color)): #input case 중에서 끊어진 그래프가 나올수 있기 때문에  그렇다면 bfs시작점을 한번더 추가시켜야되기 때문이다.\n",
    "        if color[i] ==0:# BFS가 한번에 전부다 이루어 져야한다는 편견을 버리자.\n",
    "            bfs(i)\n",
    "\n",
    "    if(stop ==0): #stop 플래그 설정\n",
    "        print(\"possible\")\n",
    "    else:\n",
    "        print(\"impossible\")\n",
    "    \n",
    "  "
   ]
  }
 ],
 "metadata": {
  "kernelspec": {
   "display_name": "Python 3",
   "language": "python",
   "name": "python3"
  },
  "language_info": {
   "codemirror_mode": {
    "name": "ipython",
    "version": 3
   },
   "file_extension": ".py",
   "mimetype": "text/x-python",
   "name": "python",
   "nbconvert_exporter": "python",
   "pygments_lexer": "ipython3",
   "version": "3.7.4"
  }
 },
 "nbformat": 4,
 "nbformat_minor": 2
}
