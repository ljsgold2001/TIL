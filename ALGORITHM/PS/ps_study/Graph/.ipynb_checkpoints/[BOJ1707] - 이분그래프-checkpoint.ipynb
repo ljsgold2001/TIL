{
 "cells": [
  {
   "cell_type": "code",
   "execution_count": 18,
   "metadata": {},
   "outputs": [
    {
     "name": "stdout",
     "output_type": "stream",
     "text": [
      "2\n",
      "3 2\n",
      "1 3\n",
      "2 3\n",
      "YES\n",
      "4 4\n",
      "1 2\n",
      "2 3\n",
      "3 4\n",
      "4 2\n",
      "NO\n"
     ]
    }
   ],
   "source": [
    "from collections import deque\n",
    "\n",
    "\n",
    "def bfs(x):\n",
    "    global stop\n",
    "    q.append(x) #초기작업 : 큐에넣고\n",
    "    visited[x] = 1#방문표시하고\n",
    "    level[x] = 1   #레벨1이라고 명시\n",
    "    while q:\n",
    "        x = q.popleft()\n",
    "        \n",
    "        for i in range(len(a[x])):\n",
    "            nx = a[x][i]\n",
    "            if (visited[nx] ==0):#방문안한곳이라면 \n",
    "                visited[nx] = 1 #방문하고\n",
    "                level[nx] = level[x] +1#레벨을 1증가시켜준다.\n",
    "                q.append(nx)#그후에 인접한 노드들을 큐에 집어넣는다.\n",
    "                \n",
    "            if(visited[nx] ==1): #pop을 한후에 인접 노드들중 방문했던곳인데\n",
    "                if (level[x] == level[nx]): # 나와 레벨이 같은 노드가 있다면 이분그래프가 될수 없는 것이다.\n",
    "                    stop +=1\n",
    "                    return -1\n",
    "\n",
    "test_case = int(input())\n",
    "\n",
    "for i in range(test_case):\n",
    "    vertex , edge = map(int, input().split())\n",
    "    a =[ [] for _ in range(vertex+1)]\n",
    "    visited =[ 0 for _ in range(vertex+1)]\n",
    "    level = [ 0 for _ in range(vertex+1)]\n",
    "    q = deque()\n",
    "    stop = 0\n",
    "    \n",
    "    for _ in range(edge):\n",
    "        x,y = map(int, input().split())\n",
    "        a[x].append(y)\n",
    "        a[y].append(x)\n",
    "  \n",
    "    bfs(1)\n",
    "    \n",
    "    for i in range(len(visited)): #만약 방문하지 않은 곳이 있다면(즉 , 끊긴 그래프 이기때문에 BFS를 수행하지 못한곳이 있는지 확인하기위한 작업)\n",
    "        if visited[i] ==0:\n",
    "            bfs(i)#BFS 추가실시\n",
    "    \n",
    "    if (stop>=1 ): #stop 플래그에 따른 대답\n",
    "        print(\"NO\")\n",
    "    else:\n",
    "        print(\"YES\")"
   ]
  },
  {
   "cell_type": "code",
   "execution_count": null,
   "metadata": {},
   "outputs": [],
   "source": [
    "1\n",
    "3 2\n",
    "1 3\n",
    "2 3\n",
    "[[], [3], [3], [1, 2]]\n",
    "[0, 0, 0, 0]"
   ]
  },
  {
   "cell_type": "code",
   "execution_count": null,
   "metadata": {},
   "outputs": [],
   "source": [
    "4 4\n",
    "1 2\n",
    "2 3\n",
    "3 4\n",
    "4 2"
   ]
  }
 ],
 "metadata": {
  "kernelspec": {
   "display_name": "Python 3",
   "language": "python",
   "name": "python3"
  },
  "language_info": {
   "codemirror_mode": {
    "name": "ipython",
    "version": 3
   },
   "file_extension": ".py",
   "mimetype": "text/x-python",
   "name": "python",
   "nbconvert_exporter": "python",
   "pygments_lexer": "ipython3",
   "version": "3.7.4"
  }
 },
 "nbformat": 4,
 "nbformat_minor": 2
}
