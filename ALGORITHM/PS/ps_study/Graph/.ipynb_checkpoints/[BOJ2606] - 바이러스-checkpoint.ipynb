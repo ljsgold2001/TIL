{
 "cells": [
  {
   "cell_type": "code",
   "execution_count": 11,
   "metadata": {},
   "outputs": [
    {
     "name": "stdout",
     "output_type": "stream",
     "text": [
      "7\n",
      "6\n",
      "1 2\n",
      "2 3\n",
      "1 5\n",
      "5 2\n",
      "5 6\n",
      "4 7\n",
      "[[], [2, 5], [1, 3, 5], [2], [7], [1, 2, 6], [5], [4]]\n",
      "@\n",
      "@\n",
      "@\n",
      "@\n",
      "4\n"
     ]
    }
   ],
   "source": [
    "from collections import deque\n",
    "\n",
    "def bfs(x):\n",
    "    global count\n",
    "    \n",
    "    visited[x] = 1\n",
    "    q.append(x)\n",
    "    \n",
    "    while q:\n",
    "        x = q.popleft()\n",
    "        \n",
    "        for i in range(len(a[x])):\n",
    "            w = a[x][i]\n",
    "            if (visited[w] != 1):\n",
    "                visited[w] =1\n",
    "                count +=1\n",
    "                q.append(w)\n",
    "        \n",
    "node = int(input())\n",
    "edge = int(input())\n",
    "\n",
    "a =[ [] for _ in range(node+1)]\n",
    "visited =[ 0 for _ in range(node +1)]\n",
    "count = 0\n",
    "q = deque()\n",
    "\n",
    "for i in range(edge):\n",
    "    x,y = map(int, input().split())\n",
    "    a[x].append(y)\n",
    "    a[y].append(x)\n",
    "\n",
    "bfs(1)\n",
    "print(count)"
   ]
  },
  {
   "cell_type": "code",
   "execution_count": null,
   "metadata": {},
   "outputs": [],
   "source": [
    "7\n",
    "6\n",
    "1 2\n",
    "2 3\n",
    "1 5\n",
    "5 2\n",
    "5 6\n",
    "4 7"
   ]
  }
 ],
 "metadata": {
  "kernelspec": {
   "display_name": "Python 3",
   "language": "python",
   "name": "python3"
  },
  "language_info": {
   "codemirror_mode": {
    "name": "ipython",
    "version": 3
   },
   "file_extension": ".py",
   "mimetype": "text/x-python",
   "name": "python",
   "nbconvert_exporter": "python",
   "pygments_lexer": "ipython3",
   "version": "3.7.4"
  }
 },
 "nbformat": 4,
 "nbformat_minor": 2
}
