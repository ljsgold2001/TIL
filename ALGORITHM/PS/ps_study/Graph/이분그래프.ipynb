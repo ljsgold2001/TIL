{
 "cells": [
  {
   "cell_type": "code",
   "execution_count": 8,
   "metadata": {
    "scrolled": true
   },
   "outputs": [
    {
     "name": "stdout",
     "output_type": "stream",
     "text": [
      "1\n",
      "4 3\n",
      "0 1\n",
      "0 2\n",
      "1 3\n",
      "x: 0\n",
      "w 1\n",
      "w 2\n",
      "x: 1\n",
      "w 3\n",
      "x: 2\n",
      "x: 3\n",
      "[0, 1, 1, 2, 0]\n"
     ]
    }
   ],
   "source": [
    "from collections import deque\n",
    "\n",
    "# 0 ,1 ,2 ,3 노드가 있음\n",
    "#0 1\n",
    "#0 2\n",
    "#1 3\n",
    "#2까지 가는 경로의수\n",
    "\n",
    "\n",
    "def bfs(x):\n",
    "   \n",
    "    q.append(x)\n",
    "    visited[x] = 1\n",
    "    while q:\n",
    "        \n",
    "        x = q.popleft()\n",
    "        print(\"x:\",x)\n",
    "        for i in range(len(a[x])):\n",
    "            \n",
    "            w = a[x][i]\n",
    "            \n",
    "            if(visited[w] != 1):\n",
    "                print(\"w\",w)\n",
    "                visited[w]  = 1\n",
    "                count[w] = count[x] +1\n",
    "                q.append(w)\n",
    "            \n",
    "            \n",
    "    \n",
    "        \n",
    "test_case = int(input())\n",
    "\n",
    "for i in range(test_case):\n",
    "    vertex , edge = map(int, input().split())\n",
    "    a =[ [] for _ in range(vertex+1)]\n",
    "    count =[ 0 for _ in range(vertex+1)]\n",
    "    visited= [0 for _ in range(vertex+1)]\n",
    "    q = deque()\n",
    "    \n",
    "    \n",
    "    \n",
    "    for _ in range(edge):\n",
    "        x,y = map(int, input().split())\n",
    "        a[x].append(y)\n",
    "        a[y].append(x)\n",
    "    \n",
    "    bfs(0)\n",
    "    print(count)\n",
    "    \n",
    "    \n",
    "    \n",
    "   \n",
    "    \n",
    "    \n",
    "    \n",
    "\n"
   ]
  },
  {
   "cell_type": "markdown",
   "metadata": {},
   "source": [
    "# 1\n",
    "4 3\n",
    "0 1\n",
    "0 2\n",
    "1 3\n",
    "[[1, 2], [0, 3], [0], [1], []]"
   ]
  },
  {
   "cell_type": "markdown",
   "metadata": {},
   "source": []
  }
 ],
 "metadata": {
  "kernelspec": {
   "display_name": "Python 3",
   "language": "python",
   "name": "python3"
  },
  "language_info": {
   "codemirror_mode": {
    "name": "ipython",
    "version": 3
   },
   "file_extension": ".py",
   "mimetype": "text/x-python",
   "name": "python",
   "nbconvert_exporter": "python",
   "pygments_lexer": "ipython3",
   "version": "3.7.4"
  }
 },
 "nbformat": 4,
 "nbformat_minor": 2
}
