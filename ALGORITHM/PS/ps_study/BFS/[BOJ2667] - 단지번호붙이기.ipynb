{
 "cells": [
  {
   "cell_type": "code",
   "execution_count": 21,
   "metadata": {},
   "outputs": [
    {
     "name": "stdout",
     "output_type": "stream",
     "text": [
      "5\n",
      "11011\n",
      "10000\n",
      "00000\n",
      "10001\n",
      "00001\n",
      "4\n",
      "1\n",
      "2\n",
      "2\n",
      "3\n"
     ]
    }
   ],
   "source": [
    "from collections import deque\n",
    "\n",
    "def bfs(n,maps):\n",
    "    global count\n",
    "    global apt\n",
    "    count +=1\n",
    "    apt =1\n",
    "    dx = [0,0,-1,1]\n",
    "    dy = [1,-1,0,0]\n",
    "    \n",
    "    while q:#q가 있는동안 계속도는데\n",
    "        for _ in range(len(q)): #q안에 있는 수만큼 반복\n",
    "            x,y = q.popleft()#큐에서 한개를 뺀다.\n",
    "            maps[x][y]  = count\n",
    "            visited[x][y] =1\n",
    "         \n",
    "            for i in range(4):\n",
    "                nx = x+ dx[i]\n",
    "                ny = y+ dy[i]\n",
    "                \n",
    "                if 0<=nx <n and 0<=ny<n:\n",
    "                    if maps[nx][ny] ==1 and visited[nx][ny] ==0:\n",
    "                        q.append([nx,ny])\n",
    "                        visited[nx][ny] =1\n",
    "                        maps[nx][ny]  = count\n",
    "                        apt +=1\n",
    "        \n",
    "    count_apt.append(apt)\n",
    "\n",
    "n = int(input())\n",
    "q = deque()\n",
    "count = 0\n",
    "apt = 0\n",
    "count_apt = []\n",
    "maps = []\n",
    "\n",
    "for _ in range(n): #maps구성\n",
    "    row = list(map(int,list(input())))\n",
    "    maps.append(row)\n",
    "    \n",
    "visited = [ [0]*n for _ in range(n)]#visited 리스트 선언\n",
    "\n",
    "for x in range(n):\n",
    "    for y in range(n):\n",
    "        if maps[x][y] == 1 and visited[x][y] ==0:\n",
    "            q.append([x,y])\n",
    "            bfs(n,maps)\n",
    "\n",
    "num = max(map(max,maps))\n",
    "print(num)\n",
    "count_apt.sort()\n",
    "for i in range(len(count_apt)):\n",
    "    print(count_apt[i])\n"
   ]
  },
  {
   "cell_type": "markdown",
   "metadata": {},
   "source": [
    "# "
   ]
  }
 ],
 "metadata": {
  "kernelspec": {
   "display_name": "Python 3",
   "language": "python",
   "name": "python3"
  },
  "language_info": {
   "codemirror_mode": {
    "name": "ipython",
    "version": 3
   },
   "file_extension": ".py",
   "mimetype": "text/x-python",
   "name": "python",
   "nbconvert_exporter": "python",
   "pygments_lexer": "ipython3",
   "version": "3.7.4"
  }
 },
 "nbformat": 4,
 "nbformat_minor": 2
}
