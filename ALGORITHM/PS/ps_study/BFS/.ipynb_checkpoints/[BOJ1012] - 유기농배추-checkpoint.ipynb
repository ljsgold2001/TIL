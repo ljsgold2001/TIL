{
 "cells": [
  {
   "cell_type": "code",
   "execution_count": 70,
   "metadata": {
    "scrolled": false
   },
   "outputs": [
    {
     "name": "stdout",
     "output_type": "stream",
     "text": [
      "2\n",
      "10 8 17\n",
      "0 0\n",
      "1 0\n",
      "1 1\n",
      "4 2\n",
      "4 3\n",
      "4 5\n",
      "2 4\n",
      "3 4\n",
      "7 4\n",
      "8 4\n",
      "9 4\n",
      "7 5\n",
      "8 5\n",
      "9 5\n",
      "7 6\n",
      "8 6\n",
      "9 6\n",
      "5\n",
      "10 10 1\n",
      "5 5\n",
      "6\n"
     ]
    }
   ],
   "source": [
    "from collections import deque\n",
    "\n",
    "def bfs(a,b,m,n):\n",
    "    dx = [0,0,1,-1]\n",
    "    dy = [1,-1,0,0]\n",
    "    global count\n",
    "    count = count +1\n",
    "    maps[a][b] = count\n",
    "    while q:        \n",
    "        for _ in range(len(q)):\n",
    "            x,y = q.popleft()\n",
    "            \n",
    "            for i in range(4):\n",
    "                nx = x + dx[i]\n",
    "                ny = y + dy[i]\n",
    "                \n",
    "                if 0<=nx <n and 0<=ny<m:\n",
    "                    if visited[nx][ny] == 0 and maps[nx][ny] == 1 :\n",
    "                        q.append([nx,ny])\n",
    "                        maps[nx][ny]   = count \n",
    "                        visited[nx][ny] = 1\n",
    "            \n",
    "        \n",
    "\n",
    "\n",
    "test_case = int(input())\n",
    "\n",
    "\n",
    "for _ in range(test_case):\n",
    "    count =0\n",
    "    m,n,num = map(int, input().split())\n",
    "    maps = [[0] * m for _ in range(n)]\n",
    "    visited = [[0] * m for _ in range(n)]\n",
    "    \n",
    "    q = deque()\n",
    "    \n",
    "    for i in range(num):\n",
    "        y,x = map(int,input().split())\n",
    "        maps[x][y] =1\n",
    "        \n",
    "    for a in range(n):\n",
    "        for b in range(m):\n",
    "            if maps[a][b] == 1 and visited[a][b] ==0:\n",
    "                q.append([a,b])\n",
    "                visited[a][b] = 1\n",
    "                bfs(a,b,m,n)\n",
    "    \n",
    "    result = max(map(max,maps))    \n",
    "    print(result)\n",
    "#for i in range(len(maps)):\n",
    "#    print(maps[i] , sep = \" \\n\")\n",
    "#print(\"@@@@@@@@@@@@@@@@\")                \n",
    "#for i in range(len(visited)):\n",
    "#    print(visited[i] , sep = \" \\n\")\n",
    "\n",
    "\n",
    "    "
   ]
  },
  {
   "cell_type": "code",
   "execution_count": null,
   "metadata": {},
   "outputs": [],
   "source": []
  },
  {
   "cell_type": "code",
   "execution_count": null,
   "metadata": {},
   "outputs": [],
   "source": []
  }
 ],
 "metadata": {
  "kernelspec": {
   "display_name": "Python 3",
   "language": "python",
   "name": "python3"
  },
  "language_info": {
   "codemirror_mode": {
    "name": "ipython",
    "version": 3
   },
   "file_extension": ".py",
   "mimetype": "text/x-python",
   "name": "python",
   "nbconvert_exporter": "python",
   "pygments_lexer": "ipython3",
   "version": "3.7.4"
  }
 },
 "nbformat": 4,
 "nbformat_minor": 2
}
