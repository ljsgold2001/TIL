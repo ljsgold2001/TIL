{
 "cells": [
  {
   "cell_type": "code",
   "execution_count": 70,
   "metadata": {},
   "outputs": [
    {
     "name": "stdout",
     "output_type": "stream",
     "text": [
      "7 7\n",
      "1011111\n",
      "1110001\n",
      "1000001\n",
      "1000001\n",
      "1000001\n",
      "1000001\n",
      "1111111\n",
      "13\n"
     ]
    }
   ],
   "source": [
    "from collections import deque\n",
    "\n",
    "def bfs(n,m,maps):\n",
    "   \n",
    "    dx = [1,-1,0,0] #이동하기위한 x 좌표 후보\n",
    "    dy = [0,0,1,-1] #이동하기위한 y 좌표 후보\n",
    "    \n",
    "    while q: # 큐안에 원소가 계속 존재하는 동안 \n",
    "        \n",
    "        for _ in range(len(q)):#큐의 개수만큼도는데\n",
    "            x,y = q.popleft()#큐에서 한개를 뽑아서\n",
    "          \n",
    "            \n",
    "            for i in range(4): # 동서남북후보군을 정해준다.\n",
    "                nx = x + dx[i]\n",
    "                ny = y + dy[i]\n",
    "                \n",
    "                if 0<=nx<n and 0<=ny<m: #다음좌표가 n,m을 넘지않고\n",
    "                    \n",
    "                    if visited[nx][ny] == 0 and maps[nx][ny] ==1:#방문하지않고 1이라면\n",
    "                        \n",
    "                        q.append([nx,ny]) #큐에 넣어주고\n",
    "                        visited[nx][ny] =1 #방문함으로 바꿔주고\n",
    "                        final_map[nx][ny] = final_map[x][y] +1 #경로의 수를 나타내주는 맵\n",
    "                    \n",
    "###################main#############################                        \n",
    "n,m = map(int, input().split())\n",
    "maps = []\n",
    "visited = [[0] *m for _ in range(n)]\n",
    "final_map =[[0] *m for _ in range(n)]\n",
    "\n",
    "q = deque()\n",
    "count =0\n",
    "\n",
    "for i in range(n):\n",
    "    value = list(map(int,list(input()))) # 111111 붙어있는 수를 입력받는 방법\n",
    "    maps.append(value)\n",
    "    \n",
    "q.append([0,0]) #무조건 0,0에서 시작하니까 0,0부터 넣어주는것        \n",
    "visited[0][0] =1 #넣어준 시작값은 무조건 방문이니까 1\n",
    "\n",
    "bfs(n,m,maps) #bfs 시작\n",
    "\n",
    "#for i in final_map:\n",
    "#    print(i , sep = '\\n')\n",
    "print(final_map[n-1][m-1] + 1) #맵의 마지막값이 0,0 ->n,m까지의 경로이동횟수"
   ]
  },
  {
   "cell_type": "markdown",
   "metadata": {},
   "source": [
    "###### "
   ]
  }
 ],
 "metadata": {
  "kernelspec": {
   "display_name": "Python 3",
   "language": "python",
   "name": "python3"
  },
  "language_info": {
   "codemirror_mode": {
    "name": "ipython",
    "version": 3
   },
   "file_extension": ".py",
   "mimetype": "text/x-python",
   "name": "python",
   "nbconvert_exporter": "python",
   "pygments_lexer": "ipython3",
   "version": "3.7.4"
  }
 },
 "nbformat": 4,
 "nbformat_minor": 2
}
