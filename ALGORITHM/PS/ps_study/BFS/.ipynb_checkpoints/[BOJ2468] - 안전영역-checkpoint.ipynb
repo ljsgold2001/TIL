{
 "cells": [
  {
   "cell_type": "code",
   "execution_count": 91,
   "metadata": {
    "scrolled": false
   },
   "outputs": [
    {
     "ename": "SyntaxError",
     "evalue": "invalid syntax (<ipython-input-91-aea787fa276d>, line 10)",
     "output_type": "error",
     "traceback": [
      "\u001b[0;36m  File \u001b[0;32m\"<ipython-input-91-aea787fa276d>\"\u001b[0;36m, line \u001b[0;32m10\u001b[0m\n\u001b[0;31m    maps[x][y] =\u001b[0m\n\u001b[0m                 ^\u001b[0m\n\u001b[0;31mSyntaxError\u001b[0m\u001b[0;31m:\u001b[0m invalid syntax\n"
     ]
    }
   ],
   "source": [
    "from collections import deque\n",
    "def bfs(n,height):\n",
    "    while q:      \n",
    "        \n",
    "        dx = [0,0,1,-1]\n",
    "        dy = [1,-1,0,0]\n",
    "        x,y = q.popleft()\n",
    "        \n",
    "        if maps[x][y]  <=height:\n",
    "            maps[x][y] =10\n",
    "\n",
    "        for i in range(4):\n",
    "            nx = x + dx[i]\n",
    "            ny = y + dy[i]\n",
    "            if 0<=nx<n and 0<=ny<n:\n",
    "                if visited[nx][ny] ==0 and  maps[nx][ny] <= height:\n",
    "                    q.append([nx,ny])\n",
    "                    print(\"바꿈이일어난ㅁ\")\n",
    "                    \n",
    "                    maps[nx][ny] =10\n",
    "                    visited[nx][ny] =1 \n",
    "                \n",
    "result = []\n",
    "q = deque()\n",
    "\n",
    "n = int(input())\n",
    "maps = [list(map(int,input().split(' '))) for _ in range(n)]\n",
    "visited = [ [0]*n  for _ in range(n) ]\n",
    "top =  [ [0]*n  for _ in range(n) ]\n",
    "high =max(map(max, maps))+1\n",
    "\n",
    "\n",
    "\n",
    "for length in range(high):\n",
    "    print(length, \" 번째\")\n",
    "    visited = [ [0]*n  for _ in range(n)]\n",
    "    for x in range(n):\n",
    "        for y in range(n):\n",
    "           \n",
    "            if maps[x][y] >= length and visited[x][y] == 0:\n",
    "                print(\"x,y\" ,x,y)\n",
    "                q.append([x,y])\n",
    "                visited[x][y] =1\n",
    "                bfs(n,length)\n",
    "              \n",
    "                for i in maps:\n",
    "                    print(i , sep ='\\n')\n",
    "                for i in visited:\n",
    "                    print(i , sep ='\\n')\n",
    "        \n",
    "\n",
    "    \n",
    "    "
   ]
  },
  {
   "cell_type": "markdown",
   "metadata": {},
   "source": [
    "# "
   ]
  }
 ],
 "metadata": {
  "kernelspec": {
   "display_name": "Python 3",
   "language": "python",
   "name": "python3"
  },
  "language_info": {
   "codemirror_mode": {
    "name": "ipython",
    "version": 3
   },
   "file_extension": ".py",
   "mimetype": "text/x-python",
   "name": "python",
   "nbconvert_exporter": "python",
   "pygments_lexer": "ipython3",
   "version": "3.7.4"
  }
 },
 "nbformat": 4,
 "nbformat_minor": 2
}
