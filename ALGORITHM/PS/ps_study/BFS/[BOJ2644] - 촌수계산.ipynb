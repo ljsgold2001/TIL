{
 "cells": [
  {
   "cell_type": "code",
   "execution_count": 16,
   "metadata": {},
   "outputs": [
    {
     "name": "stdout",
     "output_type": "stream",
     "text": [
      "9\n",
      "7 3\n",
      "7\n",
      "1 2\n",
      "1 3\n",
      "2 7\n",
      "2 8\n",
      "2 9\n",
      "4 5\n",
      "4 6\n",
      "3\n"
     ]
    }
   ],
   "source": [
    "from collections import deque\n",
    "def bfs(x):\n",
    "    global count\n",
    "    q.append(start)\n",
    "    visited[start] =1\n",
    "    count[start] = 1\n",
    "    while q:\n",
    "        x = q.popleft()\n",
    "        \n",
    "        for i in range(len(graph[x])):\n",
    "            nx = graph[x][i]\n",
    "            if visited[nx] != 1:\n",
    "             \n",
    "                visited[nx] = 1\n",
    "                q.append(nx)\n",
    "                count[nx] = count[x] +1 #key _point 부분\n",
    " ################main#############               \n",
    "vertex = int(input())\n",
    "start,end = map(int,input().split())\n",
    "edge =int(input())\n",
    "graph =[  []  for _ in range(vertex+1)]\n",
    "visited = [ 0 for _ in range(vertex+1)]\n",
    "count =  [ 0 for _ in range(vertex+1)] # 촌수를 계산할수있는 같은이중 리스트를 만들어주는것\n",
    "\n",
    "q = deque()\n",
    "\n",
    "for _ in range(edge):\n",
    "    x,y = map(int,input().split())\n",
    "    graph[x].append(y)\n",
    "    graph[y].append(x)\n",
    "\n",
    "bfs(start)\n",
    "\n",
    "#print(graph)\n",
    "#print(count)\n",
    "#print(visited)\n",
    "print(count[end] - count[start])"
   ]
  },
  {
   "cell_type": "markdown",
   "metadata": {},
   "source": [
    "#### "
   ]
  }
 ],
 "metadata": {
  "kernelspec": {
   "display_name": "Python 3",
   "language": "python",
   "name": "python3"
  },
  "language_info": {
   "codemirror_mode": {
    "name": "ipython",
    "version": 3
   },
   "file_extension": ".py",
   "mimetype": "text/x-python",
   "name": "python",
   "nbconvert_exporter": "python",
   "pygments_lexer": "ipython3",
   "version": "3.7.4"
  }
 },
 "nbformat": 4,
 "nbformat_minor": 2
}
