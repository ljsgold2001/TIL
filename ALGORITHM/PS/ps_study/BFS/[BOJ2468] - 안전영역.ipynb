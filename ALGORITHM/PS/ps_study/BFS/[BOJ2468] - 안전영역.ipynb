{
 "cells": [
  {
   "cell_type": "code",
   "execution_count": 138,
   "metadata": {
    "scrolled": false
   },
   "outputs": [
    {
     "name": "stdout",
     "output_type": "stream",
     "text": [
      "5\n",
      "6 8 2 6 2\n",
      "3 2 3 4 6\n",
      "6 7 3 3 2\n",
      "7 2 5 3 6\n",
      "8 9 5 2 7\n",
      "5\n"
     ]
    }
   ],
   "source": [
    "from collections import deque\n",
    "####BFS부분########\n",
    "def bfs(n,height):\n",
    "    global num\n",
    "    num +=1\n",
    "    while q:      \n",
    "        dx = [0,0,1,-1]\n",
    "        dy = [1,-1,0,0]\n",
    "        x,y = q.popleft()\n",
    "        count[x][y] = num\n",
    "      \n",
    "        for i in range(4):\n",
    "            nx = x + dx[i]\n",
    "            ny = y + dy[i]\n",
    "            if 0<=nx<n and 0<=ny<n:\n",
    "                if visited[nx][ny] ==0 and  count[nx][ny] != -1:\n",
    "                    q.append([nx,ny])\n",
    "                    count[nx][ny] =num\n",
    "                    visited[nx][ny] =1 \n",
    "        \n",
    "result = []\n",
    "q = deque()\n",
    "\n",
    "n = int(input())\n",
    "maps = [list(map(int,input().split(' '))) for _ in range(n)]\n",
    "visited = [ [0]*n  for _ in range(n) ]\n",
    "high =max(map(max, maps))+1 #제일 높은 수면의 높이까지 증가하면서 최댓값을 구해야하기때문에\n",
    "result = []\n",
    "for length in range(high): #최대높이 까지 방문하는것\n",
    "\n",
    "    num = 0\n",
    "    count =  [ [0]*n  for _ in range(n) ]\n",
    "    visited = [ [0]*n  for _ in range(n)]\n",
    "    ##각 수면의 높이별로 BFS시도해야하는 count 이중리스트 생성 ####\n",
    "    for x in range(n):\n",
    "        for y in range(n):      \n",
    "            if maps[x][y] <= length and visited[x][y] == 0:\n",
    "                count[x][y] = -1\n",
    "\n",
    "    ####위에서 만든 배열에 BFS를 시도해야하는 부분 ##           \n",
    "    for a in range(n):        \n",
    "        for b in range(n):\n",
    "            if maps[a][b] > length and count[a][b] != -1 and visited[a][b] == 0:\n",
    "                q.append([a,b])\n",
    "                visited[a][b] =1\n",
    "                bfs(n,length)\n",
    "##높이마다 안전영역개수를 리스트에 넣고 마지막에 최대높이만 구해주면된다#####                \n",
    "    result.append(max(map(max,count)))\n",
    "print(max(result))\n",
    "    \n",
    "\n",
    "\n",
    "    \n",
    "    "
   ]
  },
  {
   "cell_type": "markdown",
   "metadata": {},
   "source": [
    "# "
   ]
  }
 ],
 "metadata": {
  "kernelspec": {
   "display_name": "Python 3",
   "language": "python",
   "name": "python3"
  },
  "language_info": {
   "codemirror_mode": {
    "name": "ipython",
    "version": 3
   },
   "file_extension": ".py",
   "mimetype": "text/x-python",
   "name": "python",
   "nbconvert_exporter": "python",
   "pygments_lexer": "ipython3",
   "version": "3.7.4"
  }
 },
 "nbformat": 4,
 "nbformat_minor": 2
}
