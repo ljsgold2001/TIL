{
 "cells": [
  {
   "cell_type": "code",
   "execution_count": 38,
   "metadata": {},
   "outputs": [
    {
     "name": "stdout",
     "output_type": "stream",
     "text": [
      "10000 0\n",
      "10000\n"
     ]
    }
   ],
   "source": [
    "from collections import deque\n",
    "\n",
    "def bfs(n):\n",
    "    global count\n",
    "\n",
    "    while q:\n",
    "        \n",
    "        x,count = q.popleft()\n",
    "        if x ==m :\n",
    "            return -1\n",
    "        #count의 위치가 중요하다.\n",
    "        count = count +1 #그래프 BFS 탐색시에 깊이마다 level을 구할수있게 해주는 방법은\n",
    "        \n",
    "        if 0<= x-1 <=100000 and x-1 not in visited:\n",
    "            q.append([x-1,count]) # 큐에 count를 저장하고 pop하는 것이다.\n",
    "            visited.append(x-1)\n",
    "            \n",
    "        if 0<= x+1 <=100000 and x+1 not in visited:\n",
    "            q.append([x+1,count])\n",
    "            visited.append(x+1)\n",
    "            \n",
    "        if 0<= x *2 <=100000 and x*2 not in visited:\n",
    "            q.append([x*2,count])\n",
    "            visited.append(x*2)\n",
    "    \n",
    "n,m = map(int,input().split())\n",
    "q = deque()\n",
    "visited = []\n",
    "count = 0\n",
    "\n",
    "q.append([n,count])#애초에 큐에 시작노드와 카운트를 저장하면서간다.\n",
    "\n",
    "visited.append(n)\n",
    "bfs(n)\n",
    "\n",
    "\n",
    "print(count)\n"
   ]
  },
  {
   "cell_type": "code",
   "execution_count": null,
   "metadata": {},
   "outputs": [],
   "source": [
    "10000"
   ]
  },
  {
   "cell_type": "code",
   "execution_count": null,
   "metadata": {},
   "outputs": [],
   "source": []
  }
 ],
 "metadata": {
  "kernelspec": {
   "display_name": "Python 3",
   "language": "python",
   "name": "python3"
  },
  "language_info": {
   "codemirror_mode": {
    "name": "ipython",
    "version": 3
   },
   "file_extension": ".py",
   "mimetype": "text/x-python",
   "name": "python",
   "nbconvert_exporter": "python",
   "pygments_lexer": "ipython3",
   "version": "3.7.4"
  }
 },
 "nbformat": 4,
 "nbformat_minor": 2
}
