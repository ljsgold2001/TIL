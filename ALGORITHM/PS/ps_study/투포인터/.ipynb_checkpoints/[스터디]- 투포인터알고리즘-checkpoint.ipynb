{
 "cells": [
  {
   "cell_type": "code",
   "execution_count": 58,
   "metadata": {},
   "outputs": [],
   "source": [
    "#백준 2003 참고하세여\n",
    "_list = [1,1,3,4,5,6] #구간의 합이 5가되는 가장 작은 길이\n",
    "result = []\n",
    "hap = []\n"
   ]
  },
  {
   "cell_type": "code",
   "execution_count": 59,
   "metadata": {},
   "outputs": [
    {
     "name": "stdout",
     "output_type": "stream",
     "text": [
      "6\n",
      "0 0\n",
      "1\n",
      "0 1\n",
      "2\n",
      "0 2\n",
      "5\n",
      "1 2\n",
      "4\n",
      "1 3\n",
      "8\n",
      "2 3\n",
      "7\n",
      "3 3\n",
      "4\n",
      "3 4\n",
      "9\n",
      "4 4\n",
      "5\n",
      "5 5\n",
      "6\n",
      "[2, 0]\n"
     ]
    }
   ],
   "source": [
    "length = len(_list)\n",
    "print(length)\n",
    "low = 0\n",
    "high = 0\n",
    "\n",
    "while(low <= high and high <= length):\n",
    "    print(low,high)\n",
    "    \n",
    "    if (sum(_list[low:high+1])  == 5):\n",
    " \n",
    "        print(sum(_list[low:high+1]))\n",
    "        low= low+1\n",
    "        \n",
    "        result.append(high - low +1)\n",
    "        if(low > high):\n",
    "            high = low\n",
    "    elif(sum(_list[low:high+1])  <5):\n",
    "        print(sum(_list[low:high+1]))\n",
    "        high = high+1\n",
    "        \n",
    "        hap.append(high - low +1)\n",
    "    else:\n",
    "        print(sum(_list[low:high+1]))\n",
    "        low= low+1\n",
    "       \n",
    "\n",
    "        \n",
    "print(result)\n",
    "        \n",
    "        \n",
    "        \n",
    "    \n",
    "    \n"
   ]
  },
  {
   "cell_type": "code",
   "execution_count": 79,
   "metadata": {},
   "outputs": [
    {
     "name": "stdout",
     "output_type": "stream",
     "text": [
      "0 6\n",
      "1 6\n",
      "2 6\n",
      "3 6\n",
      "4 8\n",
      "5 8\n"
     ]
    }
   ],
   "source": [
    "_list = [1,2,1,2,3,1,4,3,2] #1234만족하는 최소구간\n",
    "right =set([1,2,3,4])\n",
    "\n",
    "low = 0\n",
    "high =0\n",
    "\n",
    "\n",
    "while(low<=high and high <=len(_list)):\n",
    "    if set(_list[low:high+1]) != right :      \n",
    "        high = high+1\n",
    "    else:\n",
    "        print(low,high)\n",
    "        low= low+1\n",
    "  \n",
    "    \n",
    "    \n"
   ]
  },
  {
   "cell_type": "code",
   "execution_count": 7,
   "metadata": {},
   "outputs": [
    {
     "name": "stdout",
     "output_type": "stream",
     "text": [
      "<class 'set'>\n",
      "sa\n"
     ]
    }
   ],
   "source": [
    "\n",
    "a =set([1,2,3,4])\n",
    "print(type(a))\n",
    "\n",
    "b = {3,1,2,4}\n",
    "\n",
    "if a ==b:\n",
    "    print(\"sa\")"
   ]
  },
  {
   "cell_type": "code",
   "execution_count": null,
   "metadata": {},
   "outputs": [],
   "source": []
  },
  {
   "cell_type": "code",
   "execution_count": null,
   "metadata": {},
   "outputs": [],
   "source": []
  }
 ],
 "metadata": {
  "kernelspec": {
   "display_name": "Python 3",
   "language": "python",
   "name": "python3"
  },
  "language_info": {
   "codemirror_mode": {
    "name": "ipython",
    "version": 3
   },
   "file_extension": ".py",
   "mimetype": "text/x-python",
   "name": "python",
   "nbconvert_exporter": "python",
   "pygments_lexer": "ipython3",
   "version": "3.7.4"
  }
 },
 "nbformat": 4,
 "nbformat_minor": 2
}
