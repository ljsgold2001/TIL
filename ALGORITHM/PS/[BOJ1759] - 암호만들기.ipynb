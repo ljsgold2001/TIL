{
 "cells": [
  {
   "cell_type": "code",
   "execution_count": 74,
   "metadata": {},
   "outputs": [
    {
     "name": "stdout",
     "output_type": "stream",
     "text": [
      "4 6\n",
      "a t c i s w\n",
      "acis\n",
      "acit\n",
      "aciw\n",
      "acst\n",
      "acsw\n",
      "actw\n",
      "aist\n",
      "aisw\n",
      "aitw\n",
      "astw\n",
      "cist\n",
      "cisw\n",
      "citw\n",
      "istw\n"
     ]
    }
   ],
   "source": [
    "from itertools import combinations\n",
    "\n",
    "n ,list_num = map(int, input().split())\n",
    "aeiou = ['a','e','i','o','u']\n",
    "\n",
    "word =sorted( input().split(\" \"))\n",
    "\n",
    "comb = combinations(word,n)\n",
    "\n",
    "\n",
    "for i in comb:\n",
    "    aeioucount = 0\n",
    "    count =0\n",
    "    for j in i:\n",
    "        if j in aeiou:\n",
    "            aeioucount +=1\n",
    "        else:\n",
    "            count+=1\n",
    "    \n",
    "    if (aeioucount >=1) and (count>=2):\n",
    "        print(''.join(i))\n",
    "    \n",
    "\n"
   ]
  },
  {
   "cell_type": "code",
   "execution_count": 76,
   "metadata": {},
   "outputs": [],
   "source": [
    "## itertools 말고 그냥 구하는 방법도 공부하여두자\n"
   ]
  }
 ],
 "metadata": {
  "kernelspec": {
   "display_name": "Python 3",
   "language": "python",
   "name": "python3"
  },
  "language_info": {
   "codemirror_mode": {
    "name": "ipython",
    "version": 3
   },
   "file_extension": ".py",
   "mimetype": "text/x-python",
   "name": "python",
   "nbconvert_exporter": "python",
   "pygments_lexer": "ipython3",
   "version": "3.7.4"
  }
 },
 "nbformat": 4,
 "nbformat_minor": 2
}
