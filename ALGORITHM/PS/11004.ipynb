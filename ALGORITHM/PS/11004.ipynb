{
 "cells": [
  {
   "cell_type": "code",
   "execution_count": null,
   "metadata": {},
   "outputs": [],
   "source": [
    "def m_sort(array):\n",
    "    if len(array) <=1:\n",
    "        return array\n",
    "    else:\n",
    "        mid = int(len(array)/2)\n",
    "        left = m_sort(array[:mid])\n",
    "        right = m_sort(array[mid:])\n",
    "        return merge(left,right)\n",
    "    \n",
    "def merge(left,right):\n",
    "    result = list()\n",
    "    left_point =0\n",
    "    right_point =0\n",
    "    \n",
    "    while len(left)>left_point and len(right)>right_point:\n",
    "        if left[left_point] >right[right_point]:\n",
    "            result.append(right[right_point])\n",
    "            right_point = right_point+1\n",
    "            \n",
    "        else:\n",
    "            result.append(left[left_point])\n",
    "            left_point = left_point+1\n",
    "            \n",
    "        \n",
    "    while len(left)>left_point:\n",
    "        result.append(left[left_point])\n",
    "        left_point = left_point+1\n",
    "    \n",
    "    while len(right)>right_point:\n",
    "        result.append(right[right_point])\n",
    "        right_point  = right_point+1\n",
    "\n",
    "    return result\n",
    "\n",
    "test_case ,location = map(int, input().split(' '))\n",
    "final = list(map(int,input().split(' ')))\n",
    "result = m_sort(final)\n",
    "\n",
    "print(result[location-1])\n",
    "    \n",
    "\n"
   ]
  },
  {
   "cell_type": "code",
   "execution_count": null,
   "metadata": {},
   "outputs": [],
   "source": [
    "5 "
   ]
  }
 ],
 "metadata": {
  "kernelspec": {
   "display_name": "Python 3",
   "language": "python",
   "name": "python3"
  },
  "language_info": {
   "codemirror_mode": {
    "name": "ipython",
    "version": 3
   },
   "file_extension": ".py",
   "mimetype": "text/x-python",
   "name": "python",
   "nbconvert_exporter": "python",
   "pygments_lexer": "ipython3",
   "version": "3.7.4"
  }
 },
 "nbformat": 4,
 "nbformat_minor": 2
}
