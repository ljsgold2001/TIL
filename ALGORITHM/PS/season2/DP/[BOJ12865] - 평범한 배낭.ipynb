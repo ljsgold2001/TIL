{
 "cells": [
  {
   "cell_type": "code",
   "execution_count": 4,
   "metadata": {},
   "outputs": [
    {
     "name": "stdout",
     "output_type": "stream",
     "text": [
      "4 7\n",
      "6 13\n",
      "4 8\n",
      "3 6\n",
      "5 12\n",
      "14\n"
     ]
    }
   ],
   "source": [
    "n , k = map(int, input().split())\n",
    "\n",
    "dp = [ [0]* (k+1) for _ in range(n+1)]\n",
    "\n",
    "for i in range(1,n+1):\n",
    "    weight , value = map(int, input().split())\n",
    "    for j in range(1, k+1):\n",
    "        if j <weight:\n",
    "            dp[i][j] = dp[i-1][j]\n",
    "        else:\n",
    "            dp[i][j] = max(dp[i-1][j] , dp[i-1][j-weight] + value)\n",
    "            \n",
    "print(dp[n][k])"
   ]
  },
  {
   "cell_type": "code",
   "execution_count": 7,
   "metadata": {},
   "outputs": [
    {
     "name": "stdout",
     "output_type": "stream",
     "text": [
      "4 7\n",
      "6 13\n",
      "4 8\n",
      "3 6\n",
      "5 12\n",
      "14\n"
     ]
    }
   ],
   "source": [
    "n,k = map(int, input().split())\n",
    "\n",
    "dp =[ [0] * (k+1) for _ in range(n+1)]\n",
    "\n",
    "for i in range(1, n+1):\n",
    "    weight , value = map(int, input().split())\n",
    "    for j in range( 1, k+1):\n",
    "        if j <weight :\n",
    "            dp[i][j] = dp[i-1][j]\n",
    "        else:\n",
    "            dp[i][j] = max(dp[i-1][j] ,dp[i-1][j-weight] + value )\n",
    "print(dp[n][k])"
   ]
  },
  {
   "cell_type": "markdown",
   "metadata": {},
   "source": [
    "#### 0 1  2  3  4 5 6 7\n",
    "\n",
    "0 0 0  0 0 0 0 0 #초기값\n",
    "0 0 0  0 0 0 13 13 # (6,13)을 집어넣을때\n",
    "0 0 0. 0 8 8 13 13 # (4,8)을 집어넣을때\n",
    "0 0 0. 6 8 8  13 13# (3,6)을 집어넣을때\n",
    "0 0 0 6 8 8 12 0 # (5,12)집어넣을때"
   ]
  }
 ],
 "metadata": {
  "kernelspec": {
   "display_name": "Python 3",
   "language": "python",
   "name": "python3"
  },
  "language_info": {
   "codemirror_mode": {
    "name": "ipython",
    "version": 3
   },
   "file_extension": ".py",
   "mimetype": "text/x-python",
   "name": "python",
   "nbconvert_exporter": "python",
   "pygments_lexer": "ipython3",
   "version": "3.7.4"
  }
 },
 "nbformat": 4,
 "nbformat_minor": 2
}
