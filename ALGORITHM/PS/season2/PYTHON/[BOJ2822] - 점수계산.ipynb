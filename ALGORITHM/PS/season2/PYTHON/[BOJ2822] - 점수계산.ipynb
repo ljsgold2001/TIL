{
 "cells": [
  {
   "cell_type": "code",
   "execution_count": 26,
   "metadata": {},
   "outputs": [
    {
     "name": "stdout",
     "output_type": "stream",
     "text": [
      "20\n",
      "30\n",
      "50\n",
      "48\n",
      "33\n",
      "66\n",
      "0\n",
      "64\n",
      "261\n",
      "3 4 5 6 8 "
     ]
    }
   ],
   "source": [
    "score =[]\n",
    "result =[]\n",
    "_sum = 0\n",
    "for i in range(8):\n",
    "    score.append(int(input()))\n",
    "\n",
    "sorted_score = sorted(score , reverse = True)\n",
    "\n",
    "for i in range(5):\n",
    "    _sum = _sum + sorted_score[i]\n",
    "   \n",
    "    for j in range(8):\n",
    "        if sorted_score[i] == score[j]:\n",
    "            result.append(j+1)\n",
    "      \n",
    "            \n",
    "print(_sum)\n",
    "for i in sorted(result):\n",
    "    print(i , end = \" \")\n",
    "        "
   ]
  }
 ],
 "metadata": {
  "kernelspec": {
   "display_name": "Python 3",
   "language": "python",
   "name": "python3"
  },
  "language_info": {
   "codemirror_mode": {
    "name": "ipython",
    "version": 3
   },
   "file_extension": ".py",
   "mimetype": "text/x-python",
   "name": "python",
   "nbconvert_exporter": "python",
   "pygments_lexer": "ipython3",
   "version": "3.7.4"
  }
 },
 "nbformat": 4,
 "nbformat_minor": 2
}
