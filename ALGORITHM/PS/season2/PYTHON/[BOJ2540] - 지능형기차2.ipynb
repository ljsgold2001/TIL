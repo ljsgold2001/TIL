{
 "cells": [
  {
   "cell_type": "code",
   "execution_count": null,
   "metadata": {
    "scrolled": true
   },
   "outputs": [],
   "source": [
    "\n",
    "people = []\n",
    "sum = 0\n",
    "\n",
    "for i in range(10):\n",
    "    _out,_in  = map(int, input().split(\" \"))\n",
    "    sum +=(_in - _out)\n",
    "    people.append(sum)\n",
    "\n",
    "max_value = max(people)\n",
    "\n",
    "print(people.index(max_value)+1)\n",
    "\n",
    "    "
   ]
  },
  {
   "cell_type": "code",
   "execution_count": null,
   "metadata": {},
   "outputs": [],
   "source": [
    "0 32\n",
    "3 13\n",
    "28 25\n",
    "17 5\n",
    "21 20\n",
    "11 0\n",
    "12 12\n",
    "4 2\n",
    "0 8\n",
    "21 0"
   ]
  }
 ],
 "metadata": {
  "kernelspec": {
   "display_name": "Python 3",
   "language": "python",
   "name": "python3"
  },
  "language_info": {
   "codemirror_mode": {
    "name": "ipython",
    "version": 3
   },
   "file_extension": ".py",
   "mimetype": "text/x-python",
   "name": "python",
   "nbconvert_exporter": "python",
   "pygments_lexer": "ipython3",
   "version": "3.7.4"
  }
 },
 "nbformat": 4,
 "nbformat_minor": 2
}
