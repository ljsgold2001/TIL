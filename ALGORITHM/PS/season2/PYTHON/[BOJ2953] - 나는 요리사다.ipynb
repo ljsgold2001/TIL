{
 "cells": [
  {
   "cell_type": "code",
   "execution_count": 15,
   "metadata": {},
   "outputs": [
    {
     "name": "stdout",
     "output_type": "stream",
     "text": [
      "5 4 4 5\n",
      "5 4 4 4\n",
      "5 5 4 4\n",
      "5 5 5 4\n",
      "4 4 4 5\n",
      "4 19\n"
     ]
    }
   ],
   "source": [
    "result = []\n",
    "for i in range(5):\n",
    "    a,b,c,d = list(map(int , input().split()))\n",
    "    result.append(a+b+c+d)\n",
    "\n",
    "max_value = max(result)\n",
    "idx = result.index(max_value)\n",
    "\n",
    "print(idx+1 , max_value)\n"
   ]
  },
  {
   "cell_type": "code",
   "execution_count": null,
   "metadata": {},
   "outputs": [
    {
     "name": "stdout",
     "output_type": "stream",
     "text": [
      "1 2 3 4 5\n",
      "15\n",
      "1 2 3 4 5\n",
      "15\n"
     ]
    }
   ],
   "source": [
    "#input을 여러개 한번에 받고 그것을 리스트로 받아서 더해주는 방법\n",
    "\n",
    "for i in range(5):\n",
    "    score_sum = sum(list(map(int,input().split())))\n",
    "    print(score_sum)"
   ]
  },
  {
   "cell_type": "code",
   "execution_count": null,
   "metadata": {},
   "outputs": [],
   "source": []
  }
 ],
 "metadata": {
  "kernelspec": {
   "display_name": "Python 3",
   "language": "python",
   "name": "python3"
  },
  "language_info": {
   "codemirror_mode": {
    "name": "ipython",
    "version": 3
   },
   "file_extension": ".py",
   "mimetype": "text/x-python",
   "name": "python",
   "nbconvert_exporter": "python",
   "pygments_lexer": "ipython3",
   "version": "3.7.4"
  }
 },
 "nbformat": 4,
 "nbformat_minor": 2
}
