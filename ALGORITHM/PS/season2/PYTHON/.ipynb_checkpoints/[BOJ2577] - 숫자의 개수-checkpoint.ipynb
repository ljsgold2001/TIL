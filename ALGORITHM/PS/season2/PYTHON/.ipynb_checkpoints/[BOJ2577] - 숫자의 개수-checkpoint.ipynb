{
 "cells": [
  {
   "cell_type": "code",
   "execution_count": 7,
   "metadata": {},
   "outputs": [
    {
     "name": "stdout",
     "output_type": "stream",
     "text": [
      "150\n",
      "266\n",
      "427\n",
      "3\n",
      "1\n",
      "0\n",
      "2\n",
      "0\n",
      "0\n",
      "0\n",
      "2\n",
      "0\n",
      "0\n"
     ]
    }
   ],
   "source": [
    "n =1\n",
    "\n",
    "for i in range(3):\n",
    "    n  = n * int(input())\n",
    "n =str(n)\n",
    "\n",
    "for i in range(10):\n",
    "    print(n.count(str(i))) #count는 항상 스트링 값을 찾아주어야한다.\n",
    "# object is not callable 이오류 메세지가 떴을때는 커널을 restart해보자 쥬피터.. 후 만약에 문법이 다맞았다면?"
   ]
  },
  {
   "cell_type": "code",
   "execution_count": null,
   "metadata": {},
   "outputs": [],
   "source": []
  }
 ],
 "metadata": {
  "kernelspec": {
   "display_name": "Python 3",
   "language": "python",
   "name": "python3"
  },
  "language_info": {
   "codemirror_mode": {
    "name": "ipython",
    "version": 3
   },
   "file_extension": ".py",
   "mimetype": "text/x-python",
   "name": "python",
   "nbconvert_exporter": "python",
   "pygments_lexer": "ipython3",
   "version": "3.7.4"
  }
 },
 "nbformat": 4,
 "nbformat_minor": 2
}
