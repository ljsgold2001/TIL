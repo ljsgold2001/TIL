{
 "cells": [
  {
   "cell_type": "code",
   "execution_count": 26,
   "metadata": {},
   "outputs": [
    {
     "name": "stdout",
     "output_type": "stream",
     "text": [
      "10\n",
      "40\n",
      "30\n",
      "60\n",
      "30\n",
      "20\n",
      "60\n",
      "30\n",
      "40\n",
      "50\n",
      "37\n",
      "30\n"
     ]
    }
   ],
   "source": [
    "import collections\n",
    "_list = []\n",
    "for i in range(10):\n",
    "    _list.append(int(input()))\n",
    "\n",
    "avg = int(sum(_list) / 10)\n",
    "common = collections.Counter(_list)\n",
    "_common = common.most_common(1)\n",
    "##counter 자료형 다루는 법 \n",
    "#counter 메소드 애용시 itertools.chain형태로 반환이 된다.\n",
    "#mostcommon은 튜플형식으로 반환이 된다.\n",
    "#itertools는 list형으로 바꾸던지 for i in comon으로 사용하던지하면 된다.\n",
    "print(avg)\n",
    "print(_common[0][0])\n",
    "\n"
   ]
  },
  {
   "cell_type": "markdown",
   "metadata": {},
   "source": [
    "## 1# 1# 2## 4\n",
    "4#### 1# 1# 6w\n",
    "# 2\n",
    "## 2## 2## "
   ]
  },
  {
   "cell_type": "code",
   "execution_count": null,
   "metadata": {},
   "outputs": [],
   "source": []
  }
 ],
 "metadata": {
  "kernelspec": {
   "display_name": "Python 3",
   "language": "python",
   "name": "python3"
  },
  "language_info": {
   "codemirror_mode": {
    "name": "ipython",
    "version": 3
   },
   "file_extension": ".py",
   "mimetype": "text/x-python",
   "name": "python",
   "nbconvert_exporter": "python",
   "pygments_lexer": "ipython3",
   "version": "3.7.4"
  }
 },
 "nbformat": 4,
 "nbformat_minor": 2
}
