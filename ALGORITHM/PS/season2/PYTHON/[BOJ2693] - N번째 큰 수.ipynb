{
 "cells": [
  {
   "cell_type": "code",
   "execution_count": 4,
   "metadata": {},
   "outputs": [
    {
     "name": "stdout",
     "output_type": "stream",
     "text": [
      "4\n",
      "1 2 3 4 5 6 7 8 9 1000\n",
      "8\n",
      "338 304 619 95 343 496 489 116 98 127\n",
      "489\n",
      "931 240 986 894 826 640 965 833 136 138\n",
      "931\n",
      "940 955 364 188 133 254 501 122 768 408\n",
      "768\n"
     ]
    }
   ],
   "source": [
    "test_case = int(input())\n",
    "_list =[]\n",
    "\n",
    "for i in range(test_case):\n",
    "    _list = sorted(list(map(int, input().split())))\n",
    "    print(_list[-3])\n",
    "    \n",
    "    \n"
   ]
  },
  {
   "cell_type": "code",
   "execution_count": null,
   "metadata": {},
   "outputs": [],
   "source": []
  }
 ],
 "metadata": {
  "kernelspec": {
   "display_name": "Python 3",
   "language": "python",
   "name": "python3"
  },
  "language_info": {
   "codemirror_mode": {
    "name": "ipython",
    "version": 3
   },
   "file_extension": ".py",
   "mimetype": "text/x-python",
   "name": "python",
   "nbconvert_exporter": "python",
   "pygments_lexer": "ipython3",
   "version": "3.7.4"
  }
 },
 "nbformat": 4,
 "nbformat_minor": 2
}
