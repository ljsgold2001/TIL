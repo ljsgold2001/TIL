{
 "cells": [
  {
   "cell_type": "code",
   "execution_count": 2,
   "metadata": {},
   "outputs": [
    {
     "name": "stdout",
     "output_type": "stream",
     "text": [
      "10\n",
      "1\n",
      "3\n",
      "5\n",
      "4\n",
      "0\n",
      "0\n",
      "7\n",
      "0\n",
      "0\n",
      "6\n",
      "7\n"
     ]
    }
   ],
   "source": [
    "n = int(input())\n",
    "result = []\n",
    "for i in range(n):\n",
    "    num = int(input())\n",
    "    if num !=0:\n",
    "        result.append(num)\n",
    "    else:\n",
    "        result.pop()\n",
    "print(sum(result))\n",
    "    "
   ]
  },
  {
   "cell_type": "code",
   "execution_count": null,
   "metadata": {},
   "outputs": [],
   "source": []
  }
 ],
 "metadata": {
  "kernelspec": {
   "display_name": "Python 3",
   "language": "python",
   "name": "python3"
  },
  "language_info": {
   "codemirror_mode": {
    "name": "ipython",
    "version": 3
   },
   "file_extension": ".py",
   "mimetype": "text/x-python",
   "name": "python",
   "nbconvert_exporter": "python",
   "pygments_lexer": "ipython3",
   "version": "3.7.4"
  }
 },
 "nbformat": 4,
 "nbformat_minor": 2
}
