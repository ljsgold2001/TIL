{
 "cells": [
  {
   "cell_type": "code",
   "execution_count": 60,
   "metadata": {},
   "outputs": [
    {
     "name": "stdout",
     "output_type": "stream",
     "text": [
      "40\n"
     ]
    },
    {
     "data": {
      "text/plain": [
       "10951"
      ]
     },
     "execution_count": 60,
     "metadata": {},
     "output_type": "execute_result"
    }
   ],
   "source": [
    "\n",
    "n = int(input())\n",
    "def solution(n):\n",
    "    if n ==1:\n",
    "        return 1\n",
    "    elif n ==2:\n",
    "        return 2\n",
    "    else:\n",
    "        return (solution(n-1) + solution(n-2))%15746\n",
    "    \n",
    "solution(n)    \n",
    "    "
   ]
  },
  {
   "cell_type": "code",
   "execution_count": 43,
   "metadata": {
    "scrolled": true
   },
   "outputs": [],
   "source": [
    "#위와 같은 풀이법으로는 해결하지못한다\n",
    "##재귀는 2^n이라는 시간복잡도를 가지는데 효용성이 굉장히 안좋다.\n",
    "##부분문제가 굉장히 많이 중복된다(overlapping subproblems)\n",
    "##따라서 이러한 부분문제들을 저장하고 다시 계산하지 않는 방법 바로 DP를 이용해서 풀면된다\n",
    "\n",
    "#풀이방법 \n",
    "#반복적 동적 계획법\n",
    "#재귀적 동적 계획법 ->참조: https://shoark7.github.io/programming/algorithm/%ED%94%BC%EB%B3%B4%EB%82%98%EC%B9%98-%EC%95%8C%EA%B3%A0%EB%A6%AC%EC%A6%98%EC%9D%84-%ED%95%B4%EA%B2%B0%ED%95%98%EB%8A%94-5%EA%B0%80%EC%A7%80-%EB%B0%A9%EB%B2%95\n",
    "\n"
   ]
  },
  {
   "cell_type": "code",
   "execution_count": 61,
   "metadata": {},
   "outputs": [
    {
     "name": "stdout",
     "output_type": "stream",
     "text": [
      "40\n",
      "10951\n"
     ]
    }
   ],
   "source": [
    "n = int(input())\n",
    "\n",
    "dp = [0]*1000001\n",
    "dp[1] = 1\n",
    "dp[2] = 2\n",
    "\n",
    "for i in range(3,n+1):\n",
    "    dp[i] = (dp[i-1] + dp[i-2]) %15746\n",
    "    \n",
    "print(dp[n])"
   ]
  },
  {
   "cell_type": "code",
   "execution_count": null,
   "metadata": {},
   "outputs": [],
   "source": [
    "#Q\n",
    "\n",
    "#T의 재귀에 만족하게 풀이가 가능한가?  -주어진 N이 백만이다.\n",
    "\n",
    "#만약 된다면 기저조건을 어떻게 생성해야하는가"
   ]
  }
 ],
 "metadata": {
  "kernelspec": {
   "display_name": "Python 3",
   "language": "python",
   "name": "python3"
  },
  "language_info": {
   "codemirror_mode": {
    "name": "ipython",
    "version": 3
   },
   "file_extension": ".py",
   "mimetype": "text/x-python",
   "name": "python",
   "nbconvert_exporter": "python",
   "pygments_lexer": "ipython3",
   "version": "3.7.4"
  }
 },
 "nbformat": 4,
 "nbformat_minor": 2
}
