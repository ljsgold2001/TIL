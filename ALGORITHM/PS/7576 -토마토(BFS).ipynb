{
 "cells": [
  {
   "cell_type": "code",
   "execution_count": 5,
   "metadata": {},
   "outputs": [
    {
     "name": "stdout",
     "output_type": "stream",
     "text": [
      "3 3\n",
      "1 0 0\n",
      "0 1 0\n",
      "1 1 1\n",
      "box: [[1, 0, 0], [0, 1, 0], [1, 1, 1]]\n",
      "queue:  deque([(0, 0), (1, 1), (2, 0), (2, 1), (2, 2)])\n",
      "visited : [[True, False, False], [False, True, False], [True, True, True]]\n"
     ]
    }
   ],
   "source": [
    "from collections import deque\n",
    "n, m =map(int,input().split())\n",
    "\n",
    "box =[]\n",
    "queue = deque()\n",
    "visited = [ [False]*m for _ in range(n)]\n",
    "dx = [0,0,1,-1]\n",
    "dy = [1,-1,0,0]\n",
    "\n",
    "for i in range(n):\n",
    "    box.append(list(map(int,input().split())))\n",
    "\n",
    "for i in range(n):\n",
    "    for j in range(m):\n",
    "        if box[i][j] ==1:\n",
    "            visited[i][j] = True\n",
    "            queue.append((i,j))\n",
    "        \n",
    "print(\"box:\" , box)\n",
    "print(\"queue: \" , queue)\n",
    "print(\"visited :\" , visited)\n",
    "\n",
    "while queue:\n",
    "    x,y = queue.popleft()\n",
    "    for i in range(4):\n",
    "        nx,ny = x+dx[i], x+dy[i]\n",
    "        if 0<=nx<n and 0<=ny<m:\n",
    "    "
   ]
  },
  {
   "cell_type": "code",
   "execution_count": null,
   "metadata": {},
   "outputs": [],
   "source": []
  }
 ],
 "metadata": {
  "kernelspec": {
   "display_name": "Python 3",
   "language": "python",
   "name": "python3"
  },
  "language_info": {
   "codemirror_mode": {
    "name": "ipython",
    "version": 3
   },
   "file_extension": ".py",
   "mimetype": "text/x-python",
   "name": "python",
   "nbconvert_exporter": "python",
   "pygments_lexer": "ipython3",
   "version": "3.7.4"
  }
 },
 "nbformat": 4,
 "nbformat_minor": 2
}
