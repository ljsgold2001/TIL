{
 "cells": [
  {
   "cell_type": "code",
   "execution_count": 3,
   "metadata": {},
   "outputs": [
    {
     "name": "stdout",
     "output_type": "stream",
     "text": [
      "4\n",
      "[')', ')', ')', ')', ')', ')', ')', ')']\n"
     ]
    }
   ],
   "source": [
    "num = int(input())\n",
    "result = [0] *2*num\n",
    "\n",
    "\n",
    "def find_value(x,_sum):\n",
    "    if ( x ==2*num ):\n",
    "        if(_sum ==0 ):\n",
    "            print(result)\n",
    "    \n",
    "    else:\n",
    "        for i in range(1,3):\n",
    "            \n",
    "            if(i ==1 ):\n",
    "                result[x] = \"(\"\n",
    "                find_value(x+1,_sum+1)\n",
    "                \n",
    "            if(i ==2):\n",
    "                result[x] = \")\"\n",
    "                if(result[0] != \")\"):\n",
    "                    find_value(x+1,_sum-1)\n",
    "            \n",
    "            \n",
    "        \n",
    "\n",
    "find_value(0,0)\n",
    "print(result)\n",
    "\n",
    "\n"
   ]
  },
  {
   "cell_type": "code",
   "execution_count": null,
   "metadata": {},
   "outputs": [],
   "source": []
  },
  {
   "cell_type": "code",
   "execution_count": null,
   "metadata": {},
   "outputs": [],
   "source": []
  }
 ],
 "metadata": {
  "kernelspec": {
   "display_name": "Python 3",
   "language": "python",
   "name": "python3"
  },
  "language_info": {
   "codemirror_mode": {
    "name": "ipython",
    "version": 3
   },
   "file_extension": ".py",
   "mimetype": "text/x-python",
   "name": "python",
   "nbconvert_exporter": "python",
   "pygments_lexer": "ipython3",
   "version": "3.7.4"
  }
 },
 "nbformat": 4,
 "nbformat_minor": 2
}
