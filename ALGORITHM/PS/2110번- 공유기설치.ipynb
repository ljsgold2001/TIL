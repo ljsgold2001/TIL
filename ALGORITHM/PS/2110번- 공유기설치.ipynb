{
 "cells": [
  {
   "cell_type": "markdown",
   "metadata": {},
   "source": [
    "# 문제\n",
    "도현이의 집 N개가 수직선 위에 있다. 각각의 집의 좌표는 x1, ..., xN이고, 집 여러개가 같은 좌표를 가지는 일은 없다.\n",
    "\n",
    "도현이는 언제 어디서나 와이파이를 즐기기 위해서 집에 공유기 C개를 설치하려고 한다. 최대한 많은 곳에서 와이파이를 사용하려고 하기 때문에, 한 집에는 공유기를 하나만 설치할 수 있고, 가장 인접한 두 공유기 사이의 거리를 가능한 크게 하여 설치하려고 한다.\n",
    "\n",
    "C개의 공유기를 N개의 집에 적당히 설치해서, 가장 인접한 두 공유기 사이의 거리를 최대로 하는 프로그램을 작성하시오.\n",
    "\n",
    "# 입력\n",
    "첫째 줄에 집의 개수 N (2 ≤ N ≤ 200,000)과 공유기의 개수 C (2 ≤ C ≤ N)이 하나 이상의 빈 칸을 사이에 두고 주어진다. 둘째 줄부터 N개의 줄에는 집의 좌표를 나타내는 xi (1 ≤ xi ≤ 1,000,000,000)가 한 줄에 하나씩 주어진다.\n",
    "\n",
    "# 출력\n",
    "첫째 줄에 가장 인접한 두 공유기 사이의 최대 거리를 출력한다."
   ]
  },
  {
   "cell_type": "code",
   "execution_count": 8,
   "metadata": {},
   "outputs": [
    {
     "name": "stdout",
     "output_type": "stream",
     "text": [
      "5 3\n",
      "1\n",
      "2\n",
      "8\n",
      "4\n",
      "9\n",
      "3\n"
     ]
    }
   ],
   "source": [
    "n , c = list(map(int,input().split(' ')))\n",
    "\n",
    "array = []\n",
    "for _ in range(n):\n",
    "    array.append(int(input()))\n",
    "array = sorted(array) #이진탐색을 해야하기 때문에 정렬을 꼭해야한다.\n",
    "\n",
    "#여기서는 경로의 수를 요소로 사용해서 이진탐색을한다.\n",
    "#xi (1 ≤ xi ≤ 1,000,000,000) 이기때문에 시간초과가 일어날수있기때문에 O(n^2)은 안된다\n",
    "#이진탐색을 이용해서 O(N *logX)\n",
    "\n",
    "start = array[1] - array[0]   #집에서부터 가장가까운 집과의차이\n",
    "end = array[-1] - array[0]   #집에서부터 가장 먼곳의 집과의 차이\n",
    "\n",
    "while(end - start >= 0):\n",
    "    mid = (start + end) //2\n",
    "    router = array[0]\n",
    "    count =1 #일단 처음집에는 공유기를 설치한다고 가정한다.\n",
    "    for i in range(1,len(array)): #1부터인것은 1은 설치했기때문에\n",
    "        if (array[i] >= router + mid): #처음설치한 공유기의 값에서 평균값만큼 더한것이 배열의값보다작은것아라는 말은 설정한 값만큼 이동한 것을 만족하는것\n",
    "            router = array[i] # 그랬다면 그곳에공유기를 설치하고\n",
    "            count +=1# 카운트를 1증가시킨다.\n",
    "    if (count >= c): # 카운트가 크면 더크게 분할해야하기때문에 중간값의 오른쪽 부분에서 찾아야함으로\n",
    "        start  = mid +1 #start를 mid +1해준다\n",
    "        result = mid#어차피 start 와 end가 같아지면 한번더 while문돌고나서 이곳으로 들어와 끝난다.\n",
    "    else:\n",
    "        end = mid -1 #카운트가 작으면 mid값을 더 작게 분할해야하니까 왼쪽부분에서 찾아줘야한다.\n",
    "print(result)"
   ]
  }
 ],
 "metadata": {
  "kernelspec": {
   "display_name": "Python 3",
   "language": "python",
   "name": "python3"
  },
  "language_info": {
   "codemirror_mode": {
    "name": "ipython",
    "version": 3
   },
   "file_extension": ".py",
   "mimetype": "text/x-python",
   "name": "python",
   "nbconvert_exporter": "python",
   "pygments_lexer": "ipython3",
   "version": "3.7.4"
  }
 },
 "nbformat": 4,
 "nbformat_minor": 2
}
