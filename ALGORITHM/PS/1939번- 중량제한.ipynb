{
 "cells": [
  {
   "cell_type": "markdown",
   "metadata": {},
   "source": [
    "# 문제\n",
    "N(2≤N≤10,000)개의 섬으로 이루어진 나라가 있다. 이들 중 몇 개의 섬 사이에는 다리가 설치되어 있어서 차들이 다닐 수 있다.\n",
    "\n",
    "영식 중공업에서는 두 개의 섬에 공장을 세워 두고 물품을 생산하는 일을 하고 있다. 물품을 생산하다 보면 공장에서 다른 공장으로 생산 중이던 물품을 수송해야 할 일이 생기곤 한다. 그런데 각각의 다리마다 중량제한이 있기 때문에 무턱대고 물품을 옮길 순 없다. 만약 중량제한을 초과하는 양의 물품이 다리를 지나게 되면 다리가 무너지게 된다.\n",
    "\n",
    "한 번의 이동에서 옮길 수 있는 물품들의 중량의 최댓값을 구하는 프로그램을 작성하시오.\n",
    "\n",
    "# 입력\n",
    "첫째 줄에 N, M(1≤M≤100,000)이 주어진다. 다음 M개의 줄에는 다리에 대한 정보를 나타내는 세 정수 A, B(1≤A, B≤N), C(1≤C≤1,000,000,000)가 주어진다. 이는 A번 섬과 B번 섬 사이에 중량제한이 C인 다리가 존재한다는 의미이다. 서로 같은 두 도시 사이에 여러 개의 다리가 있을 수도 있으며, 모든 다리는 양방향이다. 마지막 줄에는 공장이 위치해 있는 섬의 번호를 나타내는 서로 다른 두 정수가 주어진다. 공장이 있는 두 섬을 연결하는 경로는 항상 존재하는 데이터만 입력으로 주어진다.\n",
    "\n",
    "# 출력\n",
    "첫째 줄에 답을 출력한다."
   ]
  },
  {
   "cell_type": "code",
   "execution_count": 12,
   "metadata": {},
   "outputs": [
    {
     "name": "stdout",
     "output_type": "stream",
     "text": [
      "3 3\n",
      "[[], [], [], []]\n",
      "1 2 2\n",
      "3 1 3\n",
      "2 3 2\n",
      "1 3\n",
      "visited :  [False, True, False, False]\n",
      "queue: deque([])\n",
      "queue: deque([2])\n",
      "queue: deque([3])\n",
      "queue: deque([3])\n",
      "queue: deque([])\n",
      "queue: deque([])\n",
      "visited :  [False, True, False, False]\n",
      "queue: deque([])\n",
      "queue: deque([])\n",
      "queue: deque([])\n",
      "queue: deque([])\n",
      "3\n"
     ]
    }
   ],
   "source": [
    "#Before Solve\n",
    "#1. 중량제한이 10억이다. ->값이 굉장히 크기때문에 일반적인 방법으로 풀수 없다. (로그라던지 루트를 사용해야한다.)\n",
    "#2. 이진탐색은 찾고자하는 값에대해서 실시해야한다.\n",
    "#3. 10억에 로그를 씌운다.\n",
    "#4. BFS같은 경우 노드와 간선의 정보가 주어졌을때 노드에 노드까지 이동이 가능한지 확인하는데 사용할수 있다.\n",
    "#5. BFS는 간선의 개수만큼 시간복잡도를 가질수있다.->모든 다리의 개수에 반복적으로 실시해야하기 때문에 O(M *Logc)\n",
    "#6. log(M *logc)라고 했을때 100000 *30은 3백만이기때문에 연산이 가능하다\n",
    "\n",
    "from collections import deque\n",
    "\n",
    "n, m = map(int, input().split())\n",
    "adj =[[] for _ in range(n+1)]\n",
    "print(adj)\n",
    "\n",
    "def bfs(c):\n",
    "    queue = deque([start_node])\n",
    "    visited = [False] *(n+1)\n",
    "    visited[start_node] = True\n",
    "    print(\"visited : \" , visited)\n",
    "    while queue:\n",
    "        x = queue.popleft()\n",
    "        for y,weight in adj[x]:\n",
    "            print(\"queue:\" , queue)\n",
    "            if( not visited[y] and weight>=c):\n",
    "                visited[y] = True\n",
    "                queue.append(y)\n",
    "    return visited[end_node]\n",
    "\n",
    "start =1000000000\n",
    "end =1\n",
    "\n",
    "# 그래프와 노드에 관한 정보를 저장하기위한부분\n",
    "for _ in range(m):\n",
    "    x,y,weight = map(int, input().split())\n",
    "    adj[x].append((y,weight))\n",
    "    adj[y].append((x,weight))\n",
    "    #바뀌어야할것같은 기분은뭘까\n",
    "    start = min(start , weight) # 최소값의 무게를 설정해주기 위한부분\n",
    "    end = max(end, weight) #최대값의 무게를 설정해주기 위한부분\n",
    "#시작점과 마지막 노드에 관한 정보를 받는다.    \n",
    "start_node ,end_node = map(int, input().split())\n",
    "\n",
    "result = start #일단 정답이 될수있는 초기값은 간선중에 최소무게일테니까\n",
    "while(end - start >=0):\n",
    "    mid = ( start + end) //2\n",
    "    if bfs(mid): #mid값을 통한 탐색이 가능할때 증가된범위에서 수행해본다\n",
    "        result = mid\n",
    "        start = mid+1\n",
    "    else:#mid값을 통한 탐색이 불가능할때는 무게제한을 줄여서수행한다.\n",
    "        end = mid -1\n",
    "print(result)#값을 도출하면된다.\n",
    "\n",
    "###############그럼이제 무게제한을 판별할수있는 탐색BFS를 사용구현해보자#####\n",
    "\n"
   ]
  },
  {
   "cell_type": "code",
   "execution_count": null,
   "metadata": {},
   "outputs": [],
   "source": [
    "\n",
    "\"\"\"\"\n",
    "\n",
    "def bfs(i,j):\n",
    "    dx = [0,0,1,-1]\n",
    "    dy = [1,-1,0,0]\n",
    "    queue.append((i,j))\n",
    "    \n",
    "    \n",
    "    while queue:\n",
    "        x,y = queue.popleft()\n",
    "        for i in range(4):\n",
    "            nx,ny = x+dx[i] , y+dy[i]\n",
    "            if 0<=nx<m and 0<=ny<n and farm[nx][ny]==1:\n",
    "                farm[nx][ny] = 0\"\"\"\n",
    "\n"
   ]
  }
 ],
 "metadata": {
  "kernelspec": {
   "display_name": "Python 3",
   "language": "python",
   "name": "python3"
  },
  "language_info": {
   "codemirror_mode": {
    "name": "ipython",
    "version": 3
   },
   "file_extension": ".py",
   "mimetype": "text/x-python",
   "name": "python",
   "nbconvert_exporter": "python",
   "pygments_lexer": "ipython3",
   "version": "3.7.4"
  }
 },
 "nbformat": 4,
 "nbformat_minor": 2
}
