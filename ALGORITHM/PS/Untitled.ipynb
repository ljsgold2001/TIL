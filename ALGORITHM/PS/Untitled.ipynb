{
 "cells": [
  {
   "cell_type": "code",
   "execution_count": null,
   "metadata": {},
   "outputs": [],
   "source": [
    "# N : 정점 갯수, M : 간선 갯수, V : 시작 정점 번호\n",
    "N, M, V = map(int, input().split())\n",
    "# 0으로 왼쪽 위쪽을 둘러쌈(인덱스와 번호가 헷갈려서)\n",
    "matrix = [[0] * (N + 1) for _ in range(N + 1)]\n",
    "\n",
    "# 간선 갯수로 인접 행렬 만들기\n",
    "for _ in range(M):\n",
    "    link = list(map(int, input().split()))\n",
    "    matrix[link[0]][link[1]] = 1\n",
    "    matrix[link[1]][link[0]] = 1\n",
    "\n",
    "# 깊이 우선 탐색(Depth First Search)\n",
    "# current_node : 시작 정점, row : 인접 행렬, foot_print : 발자취 리스트\n",
    "def dfs(current_node, row, foot_prints) :\n",
    "    # 발자취 리스트에 쌓기\n",
    "    foot_prints += [current_node]\n",
    "    # 인접 행렬의 row에 있는 갯수만큼 for문 돌린다.\n",
    "    for search_node in range(len(row[current_node])):\n",
    "        # 인접 행렬에서 1(=True)거나 찾는 노드가 발자취 리스트에 없는 경우\n",
    "        # if 절이니까 찾으면 바로 넘어감\n",
    "        if row[current_node][search_node] and search_node not in foot_prints:\n",
    "            foot_prints = dfs(search_node, row, foot_prints)\n",
    "    return foot_prints\n",
    "\n",
    "# 너비 우선 탐색(Breadth First Search)\n",
    "\n",
    "def bfs(start):\n",
    "    # 큐 (빨대모양이라고 생각하면 편함)\n",
    "    queue = [start]\n",
    "    # 발자취 리스트\n",
    "    foot_prints = [start]\n",
    "\n",
    "    # 큐가 공 리스트가 될때까지(할게없을때까지)\n",
    "    while queue :\n",
    "        # 큐에서 현재 가장 처음에 들어간거(인덱스 0 인거)를 current_node에 넣는다\n",
    "        # 큐는 공리스트가 된다.\n",
    "        current_node = queue.pop(0)\n",
    "        # 돌면서 끝에 결국 queue가 아무것도 없게 된다.\n",
    "        for search_node in range(len(matrix[current_node])):\n",
    "            if matrix[current_node][search_node] and search_node not in foot_prints:\n",
    "                foot_prints += [search_node]\n",
    "                queue += [search_node]\n",
    "    return foot_prints\n",
    "\n",
    "# *붙인 이유는 리스트 형태를 풀어주기 위함\n",
    "print(*dfs(V, matrix, []))\n",
    "print(*bfs(V))\n",
    "\n"
   ]
  }
 ],
 "metadata": {
  "kernelspec": {
   "display_name": "Python 3",
   "language": "python",
   "name": "python3"
  }
 },
 "nbformat": 4,
 "nbformat_minor": 2
}
