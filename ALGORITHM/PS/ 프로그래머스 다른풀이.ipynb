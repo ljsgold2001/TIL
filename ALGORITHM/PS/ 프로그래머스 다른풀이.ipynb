{
 "cells": [
  {
   "cell_type": "code",
   "execution_count": 24,
   "metadata": {},
   "outputs": [
    {
     "name": "stdout",
     "output_type": "stream",
     "text": [
      "Counter(a):  Counter({1: 5, 2: 1, 3: 1, 4: 1, 5: 1, 6: 1})\n",
      "Counter(b): Counter({1: 3, 4: 2, 2: 2, 3: 2, 5: 1})\n",
      "Counter({1: 2, 6: 1})\n",
      "<class 'collections.Counter'>\n"
     ]
    }
   ],
   "source": [
    "import collections\n",
    "\n",
    "a = [1,1,1,1,1,2,3,4,5,6]\n",
    "b=[1,4,2,3,5,3,4,1,2,1]\n",
    "print(\"Counter(a): \",collections.Counter(a))\n",
    "print(\"Counter(b):\",collections.Counter(b))\n",
    "\n",
    "print(collections.Counter(a) - collections.Counter(b))\n",
    "print(type(collections.Counter(a) - collections.Counter(b)))\n",
    "\n",
    "\n",
    "\n"
   ]
  },
  {
   "cell_type": "code",
   "execution_count": 25,
   "metadata": {},
   "outputs": [
    {
     "data": {
      "text/plain": [
       "[1, 2]"
      ]
     },
     "execution_count": 25,
     "metadata": {},
     "output_type": "execute_result"
    }
   ],
   "source": [
    "list =[1,2,3,4,5]\n",
    "list[0:"
   ]
  },
  {
   "cell_type": "code",
   "execution_count": null,
   "metadata": {},
   "outputs": [],
   "source": [
    "#전화번호 목록\n",
    "\n",
    "def solution(phoneBook):\n",
    "    phoneBook = sorted(phoneBook)\n",
    "\n",
    "    for p1, p2 in zip(phoneBook, phoneBook[1:]):\n",
    "        if p2.startswith(p1):\n",
    "            return False\n",
    "    return True\n",
    "\n",
    "\n",
    "def solution(phoneBook):\n",
    "\n",
    "    for b in phoneBook:\n",
    "        p = re.compile(\"^\"+b)\n",
    "        for b2 in phoneBook:\n",
    "            if b != b2 and p.match(b2):\n",
    "                return False\n",
    "    return True"
   ]
  }
 ],
 "metadata": {
  "kernelspec": {
   "display_name": "Python 3",
   "language": "python",
   "name": "python3"
  },
  "language_info": {
   "codemirror_mode": {
    "name": "ipython",
    "version": 3
   },
   "file_extension": ".py",
   "mimetype": "text/x-python",
   "name": "python",
   "nbconvert_exporter": "python",
   "pygments_lexer": "ipython3",
   "version": "3.7.4"
  }
 },
 "nbformat": 4,
 "nbformat_minor": 2
}
