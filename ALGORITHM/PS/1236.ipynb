{
 "cells": [
  {
   "cell_type": "code",
   "execution_count": 11,
   "metadata": {},
   "outputs": [
    {
     "name": "stdout",
     "output_type": "stream",
     "text": [
      "3 3\n",
      ". . .\n",
      ". . .\n",
      ". . .\n",
      "3\n"
     ]
    }
   ],
   "source": [
    "n , m = map(int,input().split())\n",
    "\n",
    "array = []\n",
    "row =[]\n",
    "colum=[]\n",
    "\n",
    "for _ in range(n):\n",
    "    array.append(list(input().split()))\n",
    "\n",
    "\n",
    "bi_array =[ [0 for i in range(n)]  for j in range(m)]\n",
    "for i in range(n):\n",
    "    for j in range(m):\n",
    "        if (array[i][j] == 'X'):\n",
    "            bi_array[i][j] = 1\n",
    "            \n",
    "\n",
    "\n",
    "row_count = 0\n",
    " for i in range(n):\n",
    "    for j in range(n):\n",
    "        row.append(bi_array[i][j])\n",
    "    if  1 not in row:\n",
    "        row_count = row_count+1\n",
    "    row.clear()\n",
    "    \n",
    "\n",
    "colum_count =0\n",
    "for i in range(m):\n",
    "    for j in range(m):\n",
    "        colum.append(bi_array[j][i])\n",
    "    if 1 not in colum:\n",
    "        colum_count = colum_count +1\n",
    "    colum.clear()\n",
    "\n",
    "print(max(row_count , colum_count))\n",
    "    "
   ]
  },
  {
   "cell_type": "markdown",
   "metadata": {},
   "source": [
    "# 런타임 오류 왜일까?\n"
   ]
  }
 ],
 "metadata": {
  "kernelspec": {
   "display_name": "Python 3",
   "language": "python",
   "name": "python3"
  },
  "language_info": {
   "codemirror_mode": {
    "name": "ipython",
    "version": 3
   },
   "file_extension": ".py",
   "mimetype": "text/x-python",
   "name": "python",
   "nbconvert_exporter": "python",
   "pygments_lexer": "ipython3",
   "version": "3.7.4"
  }
 },
 "nbformat": 4,
 "nbformat_minor": 2
}
