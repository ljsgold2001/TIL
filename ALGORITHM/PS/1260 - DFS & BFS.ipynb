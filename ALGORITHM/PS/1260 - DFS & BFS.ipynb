{
 "cells": [
  {
   "cell_type": "code",
   "execution_count": 7,
   "metadata": {},
   "outputs": [
    {
     "name": "stdout",
     "output_type": "stream",
     "text": [
      "4 5 1\n",
      "1 2\n",
      "1 3\n",
      "1 4\n",
      "2 3\n",
      "3 4\n",
      "1 2 3 4\n"
     ]
    }
   ],
   "source": [
    "n , m ,v = map(int , input().split())\n",
    "\n",
    "adj = [ [0] *(n+1) for _ in range(n+1)]\n",
    "for _ in range(m):\n",
    "    link = list(map(int, input().split()))\n",
    "    adj[link[0]][link[1]] = 1\n",
    "    adj[link[1]][link[0]] = 1\n",
    "\n",
    "def bfs(start):\n",
    "    queue = [start]\n",
    "    visited = [start]\n",
    "    \n",
    "    while queue:\n",
    "        current_node = queue.pop(0)\n",
    "        \n",
    "        for search_node in range(len(adj[current_node])):\n",
    "            if adj[current_node][search_node] and search_node not in visited:\n",
    "\n",
    "                visited += [search_node]\n",
    "                queue +=[search_node]\n",
    "    return visited\n",
    "    \n",
    "print(*bfs(v))"
   ]
  },
  {
   "cell_type": "code",
   "execution_count": 4,
   "metadata": {},
   "outputs": [
    {
     "name": "stdout",
     "output_type": "stream",
     "text": [
      "4 5 1\n",
      "1 3\n",
      "1 2\n",
      "1 4\n",
      "3 4\n",
      "2 4\n",
      "[[], [3, 2, 4], [1, 4], [1, 4], [1, 3, 2]]\n",
      "[[], [2, 3, 4], [1, 4], [1, 4], [1, 3, 2]]\n",
      "1 2 4 3\n",
      "1 2 3 4\n"
     ]
    }
   ],
   "source": [
    "n, m, v = map(int, input().split())\n",
    "\n",
    "adj_lst = [[] for i in range(n + 1)]\n",
    "visited = [False for i in range(n + 1)]\n",
    "\n",
    "for i in range(m):\n",
    "    a, b = map(int, input().split())\n",
    "    adj_lst[a].append(b)\n",
    "    adj_lst[b].append(a)\n",
    "\n",
    "for i in range(n):\n",
    "    adj_lst[i].sort()\n",
    "\n",
    "\n",
    "def dfs(v, lst):\n",
    "    lst += [v]\n",
    "    for nxt in adj_lst[v]:\n",
    "        if nxt not in lst:\n",
    "            dfs(nxt, lst)\n",
    "    return lst\n",
    "\n",
    "def bfs(v):\n",
    "    lst = []\n",
    "    q = [v]\n",
    "    visited[v] = True\n",
    "    while q:\n",
    "        now = q.pop(0)\n",
    "        lst += [now]\n",
    "        for nxt in adj_lst[now]:\n",
    "            if not visited[nxt]:\n",
    "                q.append(nxt)\n",
    "                visited[nxt] = True\n",
    "    return lst\n",
    "\n",
    "print(*dfs(v, []))\n",
    "print(*bfs(v))"
   ]
  },
  {
   "cell_type": "code",
   "execution_count": null,
   "metadata": {},
   "outputs": [],
   "source": [
    "4 5 1\n",
    "1 2\n",
    "1 3\n",
    "1 4\n",
    "2 4\n",
    "3 4"
   ]
  }
 ],
 "metadata": {
  "kernelspec": {
   "display_name": "Python 3",
   "language": "python",
   "name": "python3"
  },
  "language_info": {
   "codemirror_mode": {
    "name": "ipython",
    "version": 3
   },
   "file_extension": ".py",
   "mimetype": "text/x-python",
   "name": "python",
   "nbconvert_exporter": "python",
   "pygments_lexer": "ipython3",
   "version": "3.7.4"
  }
 },
 "nbformat": 4,
 "nbformat_minor": 2
}
