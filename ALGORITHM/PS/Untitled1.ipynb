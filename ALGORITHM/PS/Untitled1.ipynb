{
 "cells": [
  {
   "cell_type": "code",
   "execution_count": 29,
   "metadata": {},
   "outputs": [
    {
     "name": "stdout",
     "output_type": "stream",
     "text": [
      "1\n",
      "10 8 17\n",
      "17\n",
      "0 0\n",
      "1 0\n",
      "1 1\n",
      "4 2\n",
      "4 3\n",
      "4 5\n",
      "2 4\n",
      "3 4\n",
      "7 4\n",
      "8 4\n",
      "9 4\n",
      "7 5\n",
      "8 5\n",
      "9 5\n",
      "7 6\n",
      "8 6\n",
      "9 6\n",
      "13\n"
     ]
    }
   ],
   "source": [
    "from collections import deque\n",
    "\n",
    "test_case = int(input())\n",
    "\n",
    "m, n, k = map(int,input().split())\n",
    "print(k)\n",
    "                \n",
    "queue = deque()\n",
    "farm =[]\n",
    "farm =[ [0]*m for _ in range(n)]\n",
    "\n",
    "def bfs(i,j):\n",
    "    dx = [0,0,1,-1]\n",
    "    dy = [1,-1,0,0]\n",
    "    queue.append((i,j))\n",
    "    \n",
    "    \n",
    "    while queue:\n",
    "        x,y = queue.popleft()\n",
    "        for i in range(4):\n",
    "            nx,ny = x+dx[i] , y+dy[i]\n",
    "            if 0<=nx<m and 0<=ny<n and farm[nx][ny]==1:\n",
    "                farm[nx][ny] = 0\n",
    "\n",
    "for _ in range(k):\n",
    "    x,y = map(int, input().split())\n",
    "    farm[y][x] =1\n",
    "    \n",
    "count=0    \n",
    "for z in range(n):\n",
    "    for s in range(m):\n",
    "        if farm[z][s] == 1:\n",
    "            bfs(z,s)\n",
    "            farm[z][s] =0\n",
    "            count +=1\n",
    "print(count)            \n",
    "    \n"
   ]
  },
  {
   "cell_type": "code",
   "execution_count": null,
   "metadata": {},
   "outputs": [],
   "source": []
  },
  {
   "cell_type": "code",
   "execution_count": null,
   "metadata": {},
   "outputs": [],
   "source": []
  }
 ],
 "metadata": {
  "kernelspec": {
   "display_name": "Python 3",
   "language": "python",
   "name": "python3"
  },
  "language_info": {
   "codemirror_mode": {
    "name": "ipython",
    "version": 3
   },
   "file_extension": ".py",
   "mimetype": "text/x-python",
   "name": "python",
   "nbconvert_exporter": "python",
   "pygments_lexer": "ipython3",
   "version": "3.7.4"
  }
 },
 "nbformat": 4,
 "nbformat_minor": 2
}
