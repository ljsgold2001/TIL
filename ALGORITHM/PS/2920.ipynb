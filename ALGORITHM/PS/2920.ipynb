{
 "cells": [
  {
   "cell_type": "code",
   "execution_count": 95,
   "metadata": {},
   "outputs": [
    {
     "name": "stdout",
     "output_type": "stream",
     "text": [
      "9 8 7 6 1 2 3\n"
     ]
    }
   ],
   "source": [
    "scale_list = list(map(int, input().split()))"
   ]
  },
  {
   "cell_type": "code",
   "execution_count": 96,
   "metadata": {},
   "outputs": [
    {
     "name": "stdout",
     "output_type": "stream",
     "text": [
      "mixed\n"
     ]
    }
   ],
   "source": [
    "ascending = True\n",
    "decending=True\n",
    "\n",
    "\n",
    "\n",
    "for i in range(0,len(scale_list)-1):\n",
    "  \n",
    "    \n",
    "    if scale_list[i] < scale_list[i+1]:\n",
    "        decending = False\n",
    "    elif scale_list[i] > scale_list[+1]:\n",
    "        ascending = False\n",
    "        \n",
    "if ascending == True:\n",
    "    print(\"ascending\")\n",
    "elif decending ==True:\n",
    "    print(\"decending\")\n",
    "else:\n",
    "    print(\"mixed\")\n",
    "    "
   ]
  }
 ],
 "metadata": {
  "kernelspec": {
   "display_name": "Python 3",
   "language": "python",
   "name": "python3"
  },
  "language_info": {
   "codemirror_mode": {
    "name": "ipython",
    "version": 3
   },
   "file_extension": ".py",
   "mimetype": "text/x-python",
   "name": "python",
   "nbconvert_exporter": "python",
   "pygments_lexer": "ipython3",
   "version": "3.7.4"
  }
 },
 "nbformat": 4,
 "nbformat_minor": 2
}
