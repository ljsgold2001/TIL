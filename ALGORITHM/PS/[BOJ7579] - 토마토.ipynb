{
 "cells": [
  {
   "cell_type": "code",
   "execution_count": 20,
   "metadata": {},
   "outputs": [
    {
     "name": "stdout",
     "output_type": "stream",
     "text": [
      "6 4\n",
      "0 0 0 0 0 0\n",
      "0 0 0 0 0 0\n",
      "0 0 0 0 0 0\n",
      "0 0 0 0 0 1\n",
      "@@\n",
      "[[0, 0, 0, 0, 0, 0], [0, 0, 0, 0, 0, 0], [0, 0, 0, 0, 0, 2], [0, 0, 0, 0, 2, 1]]\n",
      "[[0, 0, 0, 0, 0, 0], [0, 0, 0, 0, 0, 3], [0, 0, 0, 0, 3, 2], [0, 0, 0, 3, 2, 1]]\n",
      "[[0, 0, 0, 0, 0, 4], [0, 0, 0, 0, 4, 3], [0, 0, 0, 4, 3, 2], [0, 0, 4, 3, 2, 1]]\n",
      "[[0, 0, 0, 0, 5, 4], [0, 0, 0, 5, 4, 3], [0, 0, 5, 4, 3, 2], [0, 5, 4, 3, 2, 1]]\n",
      "[[0, 0, 0, 6, 5, 4], [0, 0, 6, 5, 4, 3], [0, 6, 5, 4, 3, 2], [6, 5, 4, 3, 2, 1]]\n",
      "[[0, 0, 7, 6, 5, 4], [0, 7, 6, 5, 4, 3], [7, 6, 5, 4, 3, 2], [6, 5, 4, 3, 2, 1]]\n",
      "[[0, 8, 7, 6, 5, 4], [8, 7, 6, 5, 4, 3], [7, 6, 5, 4, 3, 2], [6, 5, 4, 3, 2, 1]]\n",
      "[[9, 8, 7, 6, 5, 4], [8, 7, 6, 5, 4, 3], [7, 6, 5, 4, 3, 2], [6, 5, 4, 3, 2, 1]]\n",
      "[[9, 8, 7, 6, 5, 4], [8, 7, 6, 5, 4, 3], [7, 6, 5, 4, 3, 2], [6, 5, 4, 3, 2, 1]]\n"
     ]
    },
    {
     "data": {
      "text/plain": [
       "8"
      ]
     },
     "execution_count": 20,
     "metadata": {},
     "output_type": "execute_result"
    }
   ],
   "source": [
    "import sys\n",
    "from collections import deque\n",
    "\n",
    "def bfs(M,N,box):\n",
    "    \n",
    "    dx =[0,0,1,-1]\n",
    "    dy =[1,-1,0,0]\n",
    "    \n",
    "    day = -1\n",
    "    \n",
    "    while ripe:\n",
    "        day +=1\n",
    "        \n",
    "        for _ in range(len(ripe)):\n",
    "            x,y = ripe.popleft()\n",
    "            \n",
    "            for i in range(4):\n",
    "                nx = x +dx[i]\n",
    "                ny = y +dy[i]\n",
    "                \n",
    "                if( 0<=nx <N) and (0 <= ny <M) and (box[nx][ny] ==0):\n",
    "                    box[nx][ny] = box[x][y] +1\n",
    "                    ripe.append([nx,ny])\n",
    "        print(box)\n",
    "        \n",
    "    for tomato in box:\n",
    "         if 0  in tomato:\n",
    "            return -1\n",
    "         return day\n",
    "\n",
    "\n",
    "\n",
    "M, N = map(int, input().split()) # M과 N인풋으로 받기\n",
    "\n",
    "box =[]\n",
    "ripe = deque()\n",
    "\n",
    "for i in range(N):\n",
    "    row = list(map(int , input().split()))\n",
    "    for j in range(M):\n",
    "        if row[j] ==1:\n",
    "            ripe.append([i,j])\n",
    "    box.append(row)\n",
    "\n",
    "\n",
    "bfs(M,N,box)\n",
    "\n",
    "\n",
    "\n",
    "\n"
   ]
  },
  {
   "cell_type": "code",
   "execution_count": null,
   "metadata": {},
   "outputs": [],
   "source": []
  }
 ],
 "metadata": {
  "kernelspec": {
   "display_name": "Python 3",
   "language": "python",
   "name": "python3"
  },
  "language_info": {
   "codemirror_mode": {
    "name": "ipython",
    "version": 3
   },
   "file_extension": ".py",
   "mimetype": "text/x-python",
   "name": "python",
   "nbconvert_exporter": "python",
   "pygments_lexer": "ipython3",
   "version": "3.7.4"
  }
 },
 "nbformat": 4,
 "nbformat_minor": 2
}
