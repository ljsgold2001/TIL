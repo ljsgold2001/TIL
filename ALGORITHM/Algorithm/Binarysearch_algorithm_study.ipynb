{
 "cells": [
  {
   "cell_type": "code",
   "execution_count": 5,
   "metadata": {},
   "outputs": [],
   "source": [
    "def binary_search(data,search):\n",
    "    if len(data) == 1 and search == data[0]:\n",
    "        return True\n",
    "    if len(data) ==1 and search != data[0]:\n",
    "        return False\n",
    "    if len(data) ==0:\n",
    "        return False\n",
    "    \n",
    "    medium = len(data)//2\n",
    "    if search ==data[medium]:\n",
    "        return True\n",
    "    else:\n",
    "        if search >data[medium]:\n",
    "            return binary_search(data[medium:],search)\n",
    "        else:\n",
    "            return binary_search(data[:medium],search)"
   ]
  },
  {
   "cell_type": "code",
   "execution_count": 6,
   "metadata": {},
   "outputs": [],
   "source": [
    "import random\n",
    "data_list = random.sample(range(100),10)\n",
    "data_list.sort()\n"
   ]
  },
  {
   "cell_type": "code",
   "execution_count": 7,
   "metadata": {},
   "outputs": [
    {
     "data": {
      "text/plain": [
       "[14, 37, 51, 58, 65, 71, 82, 89, 96, 98]"
      ]
     },
     "execution_count": 7,
     "metadata": {},
     "output_type": "execute_result"
    }
   ],
   "source": [
    "data_list"
   ]
  },
  {
   "cell_type": "code",
   "execution_count": 9,
   "metadata": {},
   "outputs": [
    {
     "data": {
      "text/plain": [
       "True"
      ]
     },
     "execution_count": 9,
     "metadata": {},
     "output_type": "execute_result"
    }
   ],
   "source": [
    "binary_search(data_list,14)"
   ]
  },
  {
   "cell_type": "code",
   "execution_count": null,
   "metadata": {},
   "outputs": [],
   "source": [
    "#1-10이라는 배열이있음\n",
    "#k를 입력하면 k 가 몇번째로 큰지 찾기\n",
    "\n",
    "array = [3,1,2,6,5,4,7,8,9,10]\n",
    "\n",
    "k = int(input())\n",
    "array.sort()\n",
    "\n",
    "mid = len(array)/2\n",
    "start = 0\n",
    "end = len(array)-1\n",
    "\n",
    "if ( k < array[start]):\n",
    "    \n",
    "    print(start)\n",
    "elif(k> array[end]):\n",
    "    print(end)\n",
    "elif(k == array[mid]):\n",
    "    print(mid)\n",
    "\n",
    "\n",
    "else:\n",
    "    while(start +1 == end):\n",
    "        if (array[mid] < k):\n",
    "            start = mid\n",
    "            mid = (end-start)/2\n",
    "            if (array[start] == k):\n",
    "                print(start)\n",
    "                break\n",
    "            if (array[mid] == k):\n",
    "                print(start) \n",
    "                break\n",
    "            if (array[end] == k):\n",
    "                print(start)\n",
    "                break\n",
    "            \n",
    "            \n",
    "                \n",
    "                \n",
    "        elif(array[mid]>k):\n",
    "            end = mid\n",
    "            mid = (end-start)/2\n",
    "            if (array[start] == k):\n",
    "                print(start)\n",
    "                break\n",
    "            if (array[mid] == k):\n",
    "                print(start) \n",
    "                break\n",
    "            if (array[end] == k):\n",
    "                print(start)\n",
    "                break\n",
    "            \n",
    "            \n",
    "        \n",
    "        \n",
    "        \n",
    "        \n",
    "        \n",
    "\n",
    "\n"
   ]
  }
 ],
 "metadata": {
  "kernelspec": {
   "display_name": "Python 3",
   "language": "python",
   "name": "python3"
  },
  "language_info": {
   "codemirror_mode": {
    "name": "ipython",
    "version": 3
   },
   "file_extension": ".py",
   "mimetype": "text/x-python",
   "name": "python",
   "nbconvert_exporter": "python",
   "pygments_lexer": "ipython3",
   "version": "3.7.4"
  }
 },
 "nbformat": 4,
 "nbformat_minor": 2
}
