{
 "cells": [
  {
   "cell_type": "markdown",
   "metadata": {},
   "source": [
    "### -재귀 함수를 활용해서 1부터 num까지의 곱이 출력되게 만드시오"
   ]
  },
  {
   "cell_type": "code",
   "execution_count": 6,
   "metadata": {},
   "outputs": [],
   "source": [
    "def multiple(num):\n",
    "    return_value =1\n",
    "    for i in range(1,num+1):\n",
    "        return_value = return_value *i\n",
    "    return return_value"
   ]
  },
  {
   "cell_type": "code",
   "execution_count": 7,
   "metadata": {},
   "outputs": [],
   "source": [
    "def multiple(num):\n",
    "    if num <=1:\n",
    "        return num\n",
    "    else:\n",
    "        return num *mutiple(num-1 #직접 수를 줄이면서"
   ]
  },
  {
   "cell_type": "code",
   "execution_count": 8,
   "metadata": {},
   "outputs": [
    {
     "data": {
      "text/plain": [
       "3628800"
      ]
     },
     "execution_count": 8,
     "metadata": {},
     "output_type": "execute_result"
    }
   ],
   "source": [
    "multiple(10)"
   ]
  },
  {
   "cell_type": "markdown",
   "metadata": {},
   "source": [
    "### -숫자가 들어있는 리스트가 주어졌을때 리스트의 합을 리턴하는 함수를 만들어보자"
   ]
  },
  {
   "cell_type": "code",
   "execution_count": 17,
   "metadata": {},
   "outputs": [],
   "source": [
    "def sum_value(data):\n",
    "    if len(data) <=1:\n",
    "        return data[0]\n",
    "    else:\n",
    "        return data[0] + sum_value(data[1:]) #리스트의 사이즈를 줄인다.\n",
    "        "
   ]
  },
  {
   "cell_type": "code",
   "execution_count": 18,
   "metadata": {},
   "outputs": [
    {
     "data": {
      "text/plain": [
       "15"
      ]
     },
     "execution_count": 18,
     "metadata": {},
     "output_type": "execute_result"
    }
   ],
   "source": [
    "list = [1,2,3,4,5]\n",
    "sum_value(list)"
   ]
  },
  {
   "cell_type": "markdown",
   "metadata": {},
   "source": [
    "### -회문은 순서를 거꾸로 읽어도 읽은 것과 같은 단어와 문장을 의미한다. 회문을 판멸할 수 있는 함수를 리스트 슬라이싱을 활용해서 만들어라"
   ]
  },
  {
   "cell_type": "code",
   "execution_count": 20,
   "metadata": {},
   "outputs": [],
   "source": [
    "def palindrome(data):\n",
    "    if len(data) ==1:\n",
    "        return True\n",
    "    elif data[0] == data[-1]:\n",
    "        return palindrome(data[1:-1])\n",
    "    else:\n",
    "        return False\n",
    "    "
   ]
  },
  {
   "cell_type": "code",
   "execution_count": 24,
   "metadata": {},
   "outputs": [
    {
     "data": {
      "text/plain": [
       "True"
      ]
     },
     "execution_count": 24,
     "metadata": {},
     "output_type": "execute_result"
    }
   ],
   "source": [
    "palindrome(\"level\")"
   ]
  },
  {
   "cell_type": "markdown",
   "metadata": {},
   "source": [
    "### 1, 정수 n에 대해\n",
    "### 2. n이 홀수이면 3 X n + 1 을 하고\n",
    "### 3. n이 짝수이면 n 을 2로 나눕니다\n",
    "### 4. 이렇게 계속 진행해서 n 이 결국 1이 될 때까지 2와 3의 과정을 반복합니다"
   ]
  },
  {
   "cell_type": "code",
   "execution_count": 32,
   "metadata": {},
   "outputs": [],
   "source": [
    "\n",
    "\n",
    "def make_one(data):\n",
    "    print(data)\n",
    "    if data == 1:\n",
    "        return data\n",
    "    elif data %2 ==0:\n",
    "        return make_one(int(data/2))\n",
    "    else:\n",
    "        return make_one(int(data*3+1))\n",
    "                        "
   ]
  },
  {
   "cell_type": "code",
   "execution_count": 33,
   "metadata": {},
   "outputs": [
    {
     "name": "stdout",
     "output_type": "stream",
     "text": [
      "3\n",
      "10\n",
      "5\n",
      "16\n",
      "8\n",
      "4\n",
      "2\n",
      "1\n"
     ]
    },
    {
     "data": {
      "text/plain": [
       "1"
      ]
     },
     "execution_count": 33,
     "metadata": {},
     "output_type": "execute_result"
    }
   ],
   "source": [
    "make_one(3)"
   ]
  },
  {
   "cell_type": "markdown",
   "metadata": {},
   "source": [
    "### 문제: 정수 4를 1, 2, 3의 조합으로 나타내는 방법은 다음과 같이 총 7가지가 있음\n",
    "### 1+1+1+1\n",
    "### 1+1+2\n",
    "### 1+2+1\n",
    "### 2+1+1\n",
    "### 2+2\n",
    "### 1+3\n",
    "### 3+1\n",
    "### 정수 n이 입력으로 주어졌을 때, n을 1, 2, 3의 합으로 나타낼 수 있는 방법의 수를 구하시오"
   ]
  },
  {
   "cell_type": "code",
   "execution_count": 34,
   "metadata": {},
   "outputs": [],
   "source": [
    "def func(data):\n",
    "    if data ==1:\n",
    "        return 1\n",
    "    elif data ==2:\n",
    "        return 2\n",
    "    elif data ==3:\n",
    "        return 4\n",
    "    else:\n",
    "        return func(data -1) + func(data-2) + func(data-3)"
   ]
  },
  {
   "cell_type": "code",
   "execution_count": 35,
   "metadata": {},
   "outputs": [
    {
     "data": {
      "text/plain": [
       "13"
      ]
     },
     "execution_count": 35,
     "metadata": {},
     "output_type": "execute_result"
    }
   ],
   "source": [
    "func(5)"
   ]
  }
 ],
 "metadata": {
  "kernelspec": {
   "display_name": "Python 3",
   "language": "python",
   "name": "python3"
  },
  "language_info": {
   "codemirror_mode": {
    "name": "ipython",
    "version": 3
   },
   "file_extension": ".py",
   "mimetype": "text/x-python",
   "name": "python",
   "nbconvert_exporter": "python",
   "pygments_lexer": "ipython3",
   "version": "3.7.4"
  }
 },
 "nbformat": 4,
 "nbformat_minor": 2
}
