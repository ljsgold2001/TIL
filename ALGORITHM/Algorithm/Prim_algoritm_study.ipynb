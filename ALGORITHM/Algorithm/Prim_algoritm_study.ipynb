{
 "cells": [
  {
   "cell_type": "code",
   "execution_count": 1,
   "metadata": {},
   "outputs": [],
   "source": [
    "edges = [\n",
    "    (7,'A','B'),\n",
    "    (5,'A','D'),\n",
    "    (8,'B','C'),\n",
    "    (9,'B','D'),\n",
    "    (7,'B','E'),\n",
    "    (5,'C','E'),\n",
    "    (7,'D','E'),\n",
    "    (6,'D','F'),\n",
    "    (8,'E','F'),\n",
    "    (9,'E','G'),\n",
    "    (11,'F','G')\n",
    "]"
   ]
  },
  {
   "cell_type": "code",
   "execution_count": 9,
   "metadata": {},
   "outputs": [],
   "source": [
    "from collections import defaultdict\n",
    "from heapq import *\n",
    "\n",
    "def prim(start_node, edges):\n",
    "    mst =list()\n",
    "    \n",
    "    adjacent_edges = defaultdict(list)\n",
    "    for weight, n1,n2 in edges:\n",
    "        adjacent_edges[n1].append((weight,n1,n2))\n",
    "        adjacent_edges[n2].append((weight,n2,n1))\n",
    "    \n",
    "    connected_nodes = set(start_node)\n",
    "    candidate_edge_list = adjacent_edges[start_node]\n",
    "    heapify(candidate_edge_list)\n",
    "    \n",
    "    while candidate_edge_list:\n",
    "        weight, n1, n2 = heappop(candidate_edge_list)\n",
    "        if n2 not in candidate_edge_list:\n",
    "            connected_nodes.add(n2)\n",
    "            mst.append((weight,n1,n2))\n",
    "            \n",
    "            for edge in adjacent_edges[n2]:\n",
    "                if edge[2] not in connected_nodes:\n",
    "                    heappush(candidate_edge_list,edge)\n",
    "                \n",
    "    return mst\n",
    "\n",
    "        "
   ]
  },
  {
   "cell_type": "code",
   "execution_count": 10,
   "metadata": {},
   "outputs": [
    {
     "data": {
      "text/plain": [
       "[(5, 'A', 'D'),\n",
       " (6, 'D', 'F'),\n",
       " (7, 'A', 'B'),\n",
       " (7, 'B', 'E'),\n",
       " (5, 'E', 'C'),\n",
       " (7, 'D', 'E'),\n",
       " (8, 'B', 'C'),\n",
       " (8, 'F', 'E'),\n",
       " (9, 'D', 'B'),\n",
       " (9, 'E', 'G'),\n",
       " (9, 'E', 'G'),\n",
       " (9, 'E', 'G'),\n",
       " (11, 'F', 'G')]"
      ]
     },
     "execution_count": 10,
     "metadata": {},
     "output_type": "execute_result"
    }
   ],
   "source": [
    "prim('A',edges)"
   ]
  },
  {
   "cell_type": "code",
   "execution_count": null,
   "metadata": {},
   "outputs": [],
   "source": []
  }
 ],
 "metadata": {
  "kernelspec": {
   "display_name": "Python 3",
   "language": "python",
   "name": "python3"
  },
  "language_info": {
   "codemirror_mode": {
    "name": "ipython",
    "version": 3
   },
   "file_extension": ".py",
   "mimetype": "text/x-python",
   "name": "python",
   "nbconvert_exporter": "python",
   "pygments_lexer": "ipython3",
   "version": "3.7.4"
  }
 },
 "nbformat": 4,
 "nbformat_minor": 2
}
