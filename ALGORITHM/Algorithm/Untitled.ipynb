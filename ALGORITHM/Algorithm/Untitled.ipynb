{
 "cells": [
  {
   "cell_type": "code",
   "execution_count": 2,
   "metadata": {},
   "outputs": [],
   "source": [
    "coin_list = [1, 100, 50 ,500]\n",
    "\n",
    "def min_coin_count(value , coin_list):\n",
    "    coin_list.sort(reverse= True)\n",
    "    result = list()\n",
    "    coin_count_total = 0\n",
    "    \n",
    "    for coin in coin_list:\n",
    "        coin_num = value // coin\n",
    "        coin_count_total = coin_count_total + coin_num\n",
    "        value = value - coin *coin_num\n",
    "        result.append([coin , coin_num])\n",
    "    return coin_count_total, result"
   ]
  },
  {
   "cell_type": "code",
   "execution_count": 5,
   "metadata": {},
   "outputs": [
    {
     "data": {
      "text/plain": [
       "(31, [[500, 9], [100, 2], [50, 0], [1, 20]])"
      ]
     },
     "execution_count": 5,
     "metadata": {},
     "output_type": "execute_result"
    }
   ],
   "source": [
    "min_coin_count(4720, coin_list)"
   ]
  },
  {
   "cell_type": "code",
   "execution_count": 6,
   "metadata": {},
   "outputs": [],
   "source": [
    "data_list = [(10,10), (15,12), (20,10),(25,8),(30,5)]"
   ]
  },
  {
   "cell_type": "code",
   "execution_count": 11,
   "metadata": {},
   "outputs": [],
   "source": [
    "def get_max_value(data_list, max_value):\n",
    "    data_list = sorted(data_list , key = lambda x : x[1]/x[0] , reverse = True)\n",
    "    sum_value = 0\n",
    "    result = list()\n",
    "    \n",
    "    for data in data_list:\n",
    "        #케이스를 두가지경우로 나누어야 한다. 첫번째는 나누지 않아도 될때/나눠야할때\n",
    "        if max_value-data[0] >=0 :\n",
    "            max_value = max_value - data[0]\n",
    "            sum_value = sum_value + data[1]\n",
    "            result.append([data[0], data[1] ,1])\n",
    "        else:\n",
    "            rate = max_value / data[0]\n",
    "            sum_value = sum_value + data[1] *rate\n",
    "            result.append([data[0], data[1] , rate])\n",
    "            break\n",
    "    return sum_value , result"
   ]
  },
  {
   "cell_type": "code",
   "execution_count": 12,
   "metadata": {},
   "outputs": [
    {
     "data": {
      "text/plain": [
       "(24.5, [[10, 10, 1], [15, 12, 1], [20, 10, 0.25]])"
      ]
     },
     "execution_count": 12,
     "metadata": {},
     "output_type": "execute_result"
    }
   ],
   "source": [
    "get_max_value(data_list , 30)"
   ]
  },
  {
   "cell_type": "code",
   "execution_count": 1,
   "metadata": {},
   "outputs": [],
   "source": [
    "mygraph = {\n",
    "    'A': {'B': 8, 'C': 1, 'D': 2},\n",
    "    'B': {},\n",
    "    'C': {'B': 5, 'D': 2},\n",
    "    'D': {'E': 3, 'F': 5},\n",
    "    'E': {'F': 1},\n",
    "    'F': {'A': 5}\n",
    "}"
   ]
  },
  {
   "cell_type": "code",
   "execution_count": 8,
   "metadata": {},
   "outputs": [],
   "source": [
    "import heapq #minheap 을 구성할수있는것 import한다.\n",
    "\n",
    "def dijkstra(graph, start): #다익스트라 정의\n",
    "    distances = {node : float('inf') for node in graph} #distance를 전부다 inf로 초기화시켜둔다.\n",
    "    distances[start] = 0 # distance['A']  = 0으로 초기화시켜준다.\n",
    "    queue = []# 큐를 하나 정의해두고(우선순위 큐)\n",
    "    heapq.heappush(queue, [distances[start] , start]) \n",
    "    #['0','A']이런식으로 집어 넣는 것이지만 들어가게 된다면 ['A',0] 이런식으로 들어가게된다.\n",
    "    while queue:#우선순위큐에서 꺼낼것이 더이상 없을때까지\n",
    "        current_distance , current_node = heapq.heappop(queue)\n",
    "        #current_distance 는 우선순위큐에서 꺼낸것의 값과 노드(우선위큐에서 하나를 꺼낸다.)\n",
    "        if distances[current_node] < current_distance:#만약에 꺼낸노드의 distance값이 기존보다 더크다면\n",
    "            continue# 아무것도 해줄필요가 없이 지나가면된다. #만약 그것이 아니라면\n",
    "        for adjacent ,weight in graph[current_node].items(): #노드의 인접과 가중치를 전부다 꺼내서 보는동안\n",
    "            distance = current_distance + weight\n",
    "            #distance 변수란 우선순위큐에서 꺼낸 distances에있는것보다 작은 것이랑 인접의 가중치를 더한값\n",
    "            if distance < distances[adjacent]:#큐에서 꺼낸값이 기존의 distance보다 크면\n",
    "                distances[adjacent] = distance#distance에 있는 값을 꺼낸값이랑 바꿔준다.\n",
    "                heapq.heappush(queue,[distance , adjacent])#큐에 넣어준다.\n",
    "    return distances"
   ]
  },
  {
   "cell_type": "code",
   "execution_count": 9,
   "metadata": {},
   "outputs": [
    {
     "data": {
      "text/plain": [
       "{'A': 0, 'B': 6, 'C': 1, 'D': 2, 'E': 5, 'F': 6}"
      ]
     },
     "execution_count": 9,
     "metadata": {},
     "output_type": "execute_result"
    }
   ],
   "source": [
    "dijkstra(mygraph, 'A')"
   ]
  },
  {
   "cell_type": "code",
   "execution_count": null,
   "metadata": {},
   "outputs": [],
   "source": []
  }
 ],
 "metadata": {
  "kernelspec": {
   "display_name": "Python 3",
   "language": "python",
   "name": "python3"
  },
  "language_info": {
   "codemirror_mode": {
    "name": "ipython",
    "version": 3
   },
   "file_extension": ".py",
   "mimetype": "text/x-python",
   "name": "python",
   "nbconvert_exporter": "python",
   "pygments_lexer": "ipython3",
   "version": "3.7.4"
  }
 },
 "nbformat": 4,
 "nbformat_minor": 2
}
