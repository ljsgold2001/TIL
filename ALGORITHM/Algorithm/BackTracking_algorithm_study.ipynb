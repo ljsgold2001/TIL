{
 "cells": [
  {
   "cell_type": "markdown",
   "metadata": {},
   "source": [
    "# N-Queen\n"
   ]
  },
  {
   "cell_type": "code",
   "execution_count": 16,
   "metadata": {},
   "outputs": [],
   "source": [
    "def is_available(candidate,current_col):\n",
    "    current_row = len(candidate)\n",
    "    for queen_row in range(current_row):\n",
    "        if candidate[queen_row] == current_col or abs(candidate[queen_row]-current_col)== current_row-queen_row:\n",
    "            return False\n",
    "    return True\n",
    "\n",
    "        \n",
    "\n",
    "def DFS(N,current_row, current_candidate,final_result):\n",
    "    if current_row ==N:\n",
    "        final_result.append(current_candidate[:])\n",
    "        return\n",
    "    else:\n",
    "        for candidate_col in range(N):\n",
    "            if is_available(current_candidate, candidate_col):\n",
    "                current_candidate.append(candidate_col)\n",
    "                DFS(N,current_row+1 , current_candidate,final_result)\n",
    "                current_candidate.pop()\n",
    "                \n",
    "                \n",
    "def solve_n_queens(N):\n",
    "    final_result = []\n",
    "    DFS(N, 0, [], final_result)#candidate = 지금까지 배치된 퀸의 위치정보\n",
    "    return final_result"
   ]
  },
  {
   "cell_type": "code",
   "execution_count": 17,
   "metadata": {},
   "outputs": [
    {
     "data": {
      "text/plain": [
       "[[1, 3, 0, 2], [2, 0, 3, 1]]"
      ]
     },
     "execution_count": 17,
     "metadata": {},
     "output_type": "execute_result"
    }
   ],
   "source": [
    "solve_n_queens(4)\n"
   ]
  },
  {
   "cell_type": "code",
   "execution_count": null,
   "metadata": {},
   "outputs": [],
   "source": []
  }
 ],
 "metadata": {
  "kernelspec": {
   "display_name": "Python 3",
   "language": "python",
   "name": "python3"
  },
  "language_info": {
   "codemirror_mode": {
    "name": "ipython",
    "version": 3
   },
   "file_extension": ".py",
   "mimetype": "text/x-python",
   "name": "python",
   "nbconvert_exporter": "python",
   "pygments_lexer": "ipython3",
   "version": "3.7.4"
  }
 },
 "nbformat": 4,
 "nbformat_minor": 2
}
