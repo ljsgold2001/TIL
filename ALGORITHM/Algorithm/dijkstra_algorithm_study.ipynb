{
 "cells": [
  {
   "cell_type": "code",
   "execution_count": 2,
   "metadata": {},
   "outputs": [
    {
     "name": "stdout",
     "output_type": "stream",
     "text": [
      "[[1, 'C'], [5, 'B'], [2, 'A'], [7, 'D']]\n",
      "[1, 'C']\n",
      "[2, 'A']\n",
      "[5, 'B']\n",
      "[7, 'D']\n"
     ]
    }
   ],
   "source": [
    "import heapq\n",
    "\n",
    "queue = []\n",
    "\n",
    "heapq.heappush(queue ,[2 , 'A'])\n",
    "heapq.heappush(queue ,[5 , 'B'])\n",
    "heapq.heappush(queue ,[1 , 'C'])\n",
    "heapq.heappush(queue ,[7 , 'D'])\n",
    "\n",
    "print(queue)\n",
    "\n",
    "for i in range(len(queue)):\n",
    "    print(heapq.heappop(queue)) #pop을 할때는 key값이 가장 작은 것 부터 pop한다."
   ]
  },
  {
   "cell_type": "markdown",
   "metadata": {},
   "source": [
    "<img src=\"https://www.fun-coding.org/00_Images/dijkstra.png\" width=300>"
   ]
  },
  {
   "cell_type": "code",
   "execution_count": 3,
   "metadata": {},
   "outputs": [],
   "source": [
    "mygraph = { #딕셔너리 형태\n",
    "    'A' :{'B':8 , 'C':1, 'D':2},\n",
    "    'B' :{},\n",
    "    'C' :{'B' :5 ,'D' :2},\n",
    "    'D': {'E':3, 'F':5},\n",
    "    'E': {'F' :1},\n",
    "    'F': {'A' :5}\n",
    "}"
   ]
  },
  {
   "cell_type": "code",
   "execution_count": 4,
   "metadata": {},
   "outputs": [],
   "source": [
    "import heapq #minheap 을 구성할수있는것 import한다.\n",
    "\n",
    "def dijkstra(graph, start): #다익스트라 정의\n",
    "    distances = {node : float('inf') for node in graph} #distance를 전부다 inf로 초기화시켜둔다.\n",
    "    distances[start] = 0 # distance['A']  = 0으로 초기화시켜준다.\n",
    "    queue = []# 큐를 하나 정의해두고(우선순위 큐)\n",
    "    heapq.heappush(queue, [distances[start] , start]) \n",
    "    #['0','A']이런식으로 집어 넣는 것이지만 들어가게 된다면 ['A',0] 이런식으로 들어가게된다.\n",
    "    while queue:#우선순위큐에서 꺼낼것이 더이상 없을때까지\n",
    "        current_distance , current_node = heapq.heappop(queue)\n",
    "        #current_distance 는 우선순위큐에서 꺼낸것의 값과 노드(우선위큐에서 하나를 꺼낸다.)\n",
    "        if distances[current_node] < current_distance:#만약에 꺼낸노드의 distance값이 기존보다 더크다면\n",
    "            continue# 아무것도 해줄필요가 없이 지나가면된다. #만약 그것이 아니라면\n",
    "        for adjacent ,weight in graph[current_node].items(): #노드의 인접과 가중치를 전부다 꺼내서 보는동안\n",
    "            distance = current_distance + weight\n",
    "            #distance 변수란 우선순위큐에서 꺼낸 distances에있는것보다 작은 것이랑 인접의 가중치를 더한값\n",
    "            if distance < distances[adjacent]:#큐에서 꺼낸값이 기존의 distance보다 크면\n",
    "                distances[adjacent] = distance#distance에 있는 값을 꺼낸값이랑 바꿔준다.\n",
    "                heapq.heappush(queue,[distance , adjacent])#큐에 넣어준다.\n",
    "    return distances"
   ]
  },
  {
   "cell_type": "code",
   "execution_count": 5,
   "metadata": {},
   "outputs": [
    {
     "data": {
      "text/plain": [
       "{'A': 0, 'B': 6, 'C': 1, 'D': 2, 'E': 5, 'F': 6}"
      ]
     },
     "execution_count": 5,
     "metadata": {},
     "output_type": "execute_result"
    }
   ],
   "source": [
    "dijkstra(mygraph, 'A')"
   ]
  }
 ],
 "metadata": {
  "kernelspec": {
   "display_name": "Python 3",
   "language": "python",
   "name": "python3"
  },
  "language_info": {
   "codemirror_mode": {
    "name": "ipython",
    "version": 3
   },
   "file_extension": ".py",
   "mimetype": "text/x-python",
   "name": "python",
   "nbconvert_exporter": "python",
   "pygments_lexer": "ipython3",
   "version": "3.7.4"
  }
 },
 "nbformat": 4,
 "nbformat_minor": 2
}
