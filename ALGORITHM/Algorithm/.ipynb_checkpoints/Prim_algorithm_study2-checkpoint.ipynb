{
 "cells": [
  {
   "cell_type": "markdown",
   "metadata": {},
   "source": [
    "# heapq 예제\n"
   ]
  },
  {
   "cell_type": "code",
   "execution_count": 2,
   "metadata": {},
   "outputs": [
    {
     "name": "stdout",
     "output_type": "stream",
     "text": [
      "[2, 'A']\n",
      "[3, 'C']\n",
      "[5, 'B']\n",
      "[]\n"
     ]
    }
   ],
   "source": [
    "import heapq \n",
    "\n",
    "queue = []\n",
    "graph_data = [ [2,'A'], [5,'B'], [3,'C']]\n",
    "\n",
    "for edge in graph_data:\n",
    "    heapq.heappush(queue,edge)\n",
    "    \n",
    "for i in range(len(queue)):\n",
    "    print(heapq.heappop(queue))\n",
    "    \n",
    "print(queue)"
   ]
  },
  {
   "cell_type": "code",
   "execution_count": 4,
   "metadata": {},
   "outputs": [
    {
     "name": "stdout",
     "output_type": "stream",
     "text": [
      "[2, 'A']\n",
      "[3, 'C']\n",
      "[5, 'B']\n",
      "[]\n"
     ]
    }
   ],
   "source": [
    "import heapq \n",
    "\n",
    "queue = []\n",
    "graph_data = [ [2,'A'], [5,'B'], [3,'C']]\n",
    "\n",
    "heapq.heapify(graph_data)\n",
    "\n",
    "for i in range(len(graph_data)):\n",
    "    print(heapq.heappop(graph_data))\n",
    "    \n",
    "print(queue)"
   ]
  },
  {
   "cell_type": "markdown",
   "metadata": {},
   "source": [
    "# collection에 대하여"
   ]
  },
  {
   "cell_type": "code",
   "execution_count": 7,
   "metadata": {},
   "outputs": [
    {
     "name": "stdout",
     "output_type": "stream",
     "text": [
      "[]\n"
     ]
    }
   ],
   "source": [
    "from collections import defaultdict\n",
    "\n",
    "list_dict = defaultdict(list)\n",
    "print(list_dict['key'])\n",
    "\n",
    "#list_dict = dict()\n",
    "#print(list_dict['key']) 초기화가 안되어있기때문에 오류다 일반적인 딕셔너리 사용시"
   ]
  },
  {
   "cell_type": "markdown",
   "metadata": {},
   "source": [
    "# 개선된 프림알고리즘\n"
   ]
  },
  {
   "cell_type": "code",
   "execution_count": 15,
   "metadata": {},
   "outputs": [],
   "source": [
    "from heapdict import heapdict\n",
    "\n",
    "mygraph = {\n",
    "    'A': {'B' : 7 , 'D' : 5},\n",
    "    'B': {'A' :7 , 'D':9 ,'C':8 , 'E':7},\n",
    "    'C': {'B': 8, 'E': 5},\n",
    "    'D': {'A': 5, 'B': 9, 'E': 7, 'F': 6},\n",
    "    'E': {'B': 7, 'C': 5, 'D': 7, 'F': 8, 'G': 9},\n",
    "    'F': {'D': 6, 'E': 8, 'G': 11},\n",
    "    'G': {'E': 9, 'F': 11}    \n",
    "}\n",
    "def prim(graph, start):\n",
    "    mst = list()\n",
    "    keys = heapdict()\n",
    "    pi = dict()\n",
    "    total_weight = 0\n",
    "    for node in graph.keys():\n",
    "        keys[node]=float('inf')\n",
    "        pi[node] = None\n",
    "    keys[start] = 0\n",
    "    pi[start] = start\n",
    "    \n",
    "    while keys:\n",
    "        current_node, current_key = keys.popitem()\n",
    "        mst.append([pi[current_node],current_node, current_key])\n",
    "        total_weight = total_weight + current_key\n",
    "        for adjacent,weight in mygraph[current_node].items():\n",
    "            if adjacent in keys and weight <keys[adjacent]:\n",
    "                keys[adjacent] = weight\n",
    "                pi[adjacent] = current_node\n",
    "    return mst, total_weight\n",
    "    \n"
   ]
  },
  {
   "cell_type": "code",
   "execution_count": 16,
   "metadata": {},
   "outputs": [
    {
     "name": "stdout",
     "output_type": "stream",
     "text": [
      "MST: [['A', 'A', 0], ['A', 'D', 5], ['D', 'F', 6], ['A', 'B', 7], ['D', 'E', 7], ['E', 'C', 5], ['E', 'G', 9]]\n",
      "Total Weight: 39\n"
     ]
    }
   ],
   "source": [
    "mst, total_weight = prim(mygraph, 'A')\n",
    "print ('MST:', mst)\n",
    "print ('Total Weight:', total_weight)"
   ]
  }
 ],
 "metadata": {
  "kernelspec": {
   "display_name": "Python 3",
   "language": "python",
   "name": "python3"
  },
  "language_info": {
   "codemirror_mode": {
    "name": "ipython",
    "version": 3
   },
   "file_extension": ".py",
   "mimetype": "text/x-python",
   "name": "python",
   "nbconvert_exporter": "python",
   "pygments_lexer": "ipython3",
   "version": "3.7.4"
  }
 },
 "nbformat": 4,
 "nbformat_minor": 2
}
