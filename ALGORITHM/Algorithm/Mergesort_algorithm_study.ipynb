{
 "cells": [
  {
   "cell_type": "code",
   "execution_count": 2,
   "metadata": {},
   "outputs": [],
   "source": [
    "def mergesplit(data):\n",
    "    if len(data) <=1:\n",
    "        return data\n",
    "    else:\n",
    "        medium = int(len(data)/2)\n",
    "        left = mergesplit(data[:medium])\n",
    "        right = mergesplit(data[medium:])\n",
    "        return merge(left,right)"
   ]
  },
  {
   "cell_type": "code",
   "execution_count": 3,
   "metadata": {},
   "outputs": [],
   "source": [
    "def merge(left,right):\n",
    "    merged =list()\n",
    "    left_point = 0\n",
    "    right_point = 0\n",
    "    \n",
    "    while len(left)>left_point and len(right)>right_point:\n",
    "        if left[left_point] > right[right_point]:\n",
    "            merged.append(right[right_point])\n",
    "            right_point = right_point+1\n",
    "        else:\n",
    "            merged.append(left[left_point])\n",
    "            left_point = left_point+1\n",
    "    \n",
    "    while len(right) > right_point:\n",
    "        merged.append(right[right_point])\n",
    "        right_point = right_point+1\n",
    "        \n",
    "    while len(left)> left_point:\n",
    "        merged.append(left[left_point])\n",
    "        left_point = left_point+1\n",
    "        \n",
    "    return merged"
   ]
  },
  {
   "cell_type": "code",
   "execution_count": 16,
   "metadata": {},
   "outputs": [
    {
     "name": "stdout",
     "output_type": "stream",
     "text": [
      "5\n",
      "1\n",
      "2\n",
      "3\n",
      "4\n",
      "5\n",
      "1\n",
      "2\n",
      "3\n",
      "4\n",
      "5\n"
     ]
    }
   ],
   "source": [
    "def mergesplit(data):\n",
    "    if len(data) <=1:\n",
    "        return data\n",
    "    else:\n",
    "        medium = int(len(data)/2)\n",
    "        left = mergesplit(data[:medium])\n",
    "        right = mergesplit(data[medium:])\n",
    "        return merge(left,right)\n",
    "            \n",
    "def merge(left,right):\n",
    "    merged =list()\n",
    "    left_point = 0\n",
    "    right_point = 0\n",
    "    \n",
    "    while len(left)>left_point and len(right)>right_point:\n",
    "        if left[left_point] > right[right_point]:\n",
    "            merged.append(right[right_point])\n",
    "            right_point = right_point+1\n",
    "        else:\n",
    "            merged.append(left[left_point])\n",
    "            left_point = left_point+1\n",
    "    \n",
    "    while len(right) > right_point:\n",
    "        merged.append(right[right_point])\n",
    "        right_point = right_point+1\n",
    "        \n",
    "    while len(left)> left_point:\n",
    "        merged.append(left[left_point])\n",
    "        left_point = left_point+1\n",
    "        \n",
    "    return merged\n",
    "    \n",
    "    \n",
    "test_case = int(input())\n",
    "input_value = list()\n"
   ]
  },
  {
   "cell_type": "markdown",
   "metadata": {},
   "source": [
    "##### "
   ]
  }
 ],
 "metadata": {
  "kernelspec": {
   "display_name": "Python 3",
   "language": "python",
   "name": "python3"
  },
  "language_info": {
   "codemirror_mode": {
    "name": "ipython",
    "version": 3
   },
   "file_extension": ".py",
   "mimetype": "text/x-python",
   "name": "python",
   "nbconvert_exporter": "python",
   "pygments_lexer": "ipython3",
   "version": "3.7.4"
  }
 },
 "nbformat": 4,
 "nbformat_minor": 2
}
