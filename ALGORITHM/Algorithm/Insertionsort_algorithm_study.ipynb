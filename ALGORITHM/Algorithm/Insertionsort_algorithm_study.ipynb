{
 "cells": [
  {
   "cell_type": "code",
   "execution_count": 36,
   "metadata": {},
   "outputs": [],
   "source": [
    "import random\n",
    "\n",
    "data_list = random.sample(range(100),50)\n"
   ]
  },
  {
   "cell_type": "code",
   "execution_count": 37,
   "metadata": {},
   "outputs": [],
   "source": [
    "def insertion_sort(data):\n",
    "    for i in range(len(data)-1):\n",
    "        for j in range(i+1, 0, -1):\n",
    "            if data[j] <data[j-1]:\n",
    "                data[j],data[j-1] = data[j-1],data[j]\n",
    "            else:\n",
    "                break\n",
    "    return data"
   ]
  },
  {
   "cell_type": "code",
   "execution_count": 38,
   "metadata": {},
   "outputs": [
    {
     "name": "stdout",
     "output_type": "stream",
     "text": [
      "[0, 2, 3, 4, 6, 7, 9, 12, 13, 16, 22, 23, 24, 28, 30, 32, 33, 35, 36, 39, 40, 41, 44, 45, 46, 48, 49, 50, 53, 56, 58, 60, 63, 66, 68, 72, 73, 75, 77, 79, 81, 82, 84, 89, 92, 93, 94, 96, 97, 99]\n"
     ]
    }
   ],
   "source": [
    "print(insertion_sort(data_list))"
   ]
  },
  {
   "cell_type": "code",
   "execution_count": null,
   "metadata": {},
   "outputs": [],
   "source": []
  },
  {
   "cell_type": "code",
   "execution_count": null,
   "metadata": {},
   "outputs": [],
   "source": []
  }
 ],
 "metadata": {
  "kernelspec": {
   "display_name": "Python 3",
   "language": "python",
   "name": "python3"
  },
  "language_info": {
   "codemirror_mode": {
    "name": "ipython",
    "version": 3
   },
   "file_extension": ".py",
   "mimetype": "text/x-python",
   "name": "python",
   "nbconvert_exporter": "python",
   "pygments_lexer": "ipython3",
   "version": "3.7.4"
  }
 },
 "nbformat": 4,
 "nbformat_minor": 2
}
